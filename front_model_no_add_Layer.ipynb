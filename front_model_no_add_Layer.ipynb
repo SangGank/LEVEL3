{
 "cells": [
  {
   "cell_type": "code",
   "execution_count": 1,
   "metadata": {},
   "outputs": [
    {
     "name": "stderr",
     "output_type": "stream",
     "text": [
      "/home/leesk/miniconda3/lib/python3.12/site-packages/tqdm/auto.py:21: TqdmWarning: IProgress not found. Please update jupyter and ipywidgets. See https://ipywidgets.readthedocs.io/en/stable/user_install.html\n",
      "  from .autonotebook import tqdm as notebook_tqdm\n"
     ]
    }
   ],
   "source": [
    "import pandas as pd\n",
    "import pickle\n",
    "from transformers import AutoTokenizer, AutoModelForSequenceClassification, TrainingArguments, Trainer, DataCollatorWithPadding, AutoConfig\n",
    "import evaluate\n",
    "import numpy as np\n",
    "from tqdm import tqdm\n",
    "from sklearn.model_selection import train_test_split\n",
    "import torch\n",
    "from sklearn.metrics import f1_score, accuracy_score\n",
    "from sklearn.metrics import classification_report\n",
    "import wandb\n",
    "import random\n",
    "from frontModelCustom import frontModelDataset, data_labels\n"
   ]
  },
  {
   "cell_type": "code",
   "execution_count": 2,
   "metadata": {},
   "outputs": [
    {
     "name": "stdout",
     "output_type": "stream",
     "text": [
      "cuda\n"
     ]
    }
   ],
   "source": [
    "device = torch.device('cuda' if torch.cuda.is_available() else 'cpu')\n",
    "print(device)"
   ]
  },
  {
   "cell_type": "code",
   "execution_count": 3,
   "metadata": {},
   "outputs": [],
   "source": [
    "def set_seed(seed:int = 42):\n",
    "    torch.manual_seed(seed)\n",
    "    torch.cuda.manual_seed(seed)\n",
    "    torch.cuda.manual_seed_all(seed)  # if use multi-GPU\n",
    "    torch.backends.cudnn.deterministic = True\n",
    "    torch.backends.cudnn.benchmark = False\n",
    "    np.random.seed(seed)\n",
    "    random.seed(seed)\n",
    "set_seed(42)"
   ]
  },
  {
   "cell_type": "code",
   "execution_count": 4,
   "metadata": {},
   "outputs": [
    {
     "data": {
      "text/html": [
       "<div>\n",
       "<style scoped>\n",
       "    .dataframe tbody tr th:only-of-type {\n",
       "        vertical-align: middle;\n",
       "    }\n",
       "\n",
       "    .dataframe tbody tr th {\n",
       "        vertical-align: top;\n",
       "    }\n",
       "\n",
       "    .dataframe thead th {\n",
       "        text-align: right;\n",
       "    }\n",
       "</style>\n",
       "<table border=\"1\" class=\"dataframe\">\n",
       "  <thead>\n",
       "    <tr style=\"text-align: right;\">\n",
       "      <th></th>\n",
       "      <th>singer</th>\n",
       "      <th>song_name</th>\n",
       "      <th>index</th>\n",
       "      <th>emotion</th>\n",
       "      <th>caption</th>\n",
       "      <th>tempo</th>\n",
       "      <th>instruments</th>\n",
       "      <th>tempo(int)</th>\n",
       "      <th>tempo(category)</th>\n",
       "      <th>genre</th>\n",
       "      <th>sub_genre</th>\n",
       "    </tr>\n",
       "  </thead>\n",
       "  <tbody>\n",
       "    <tr>\n",
       "      <th>0</th>\n",
       "      <td>10,000 Maniacs</td>\n",
       "      <td>A Campfire Song</td>\n",
       "      <td>2</td>\n",
       "      <td>nostalgia</td>\n",
       "      <td>The melody is mellow and soothing, with a gent...</td>\n",
       "      <td>Tempo_135.0</td>\n",
       "      <td>['Program_-1', 'Program_16', 'Program_24', 'Pr...</td>\n",
       "      <td>135</td>\n",
       "      <td>Allegro</td>\n",
       "      <td>Rock</td>\n",
       "      <td>Alternative rock</td>\n",
       "    </tr>\n",
       "    <tr>\n",
       "      <th>1</th>\n",
       "      <td>101 Strings</td>\n",
       "      <td>Theme From The Godfather</td>\n",
       "      <td>3</td>\n",
       "      <td>nostalgia</td>\n",
       "      <td>Elegant and sweeping orchestral melody with a ...</td>\n",
       "      <td>Tempo_80.0</td>\n",
       "      <td>['Program_-1', 'Program_0', 'Program_12', 'Pro...</td>\n",
       "      <td>80</td>\n",
       "      <td>Moderato</td>\n",
       "      <td>Pop</td>\n",
       "      <td>Pop</td>\n",
       "    </tr>\n",
       "    <tr>\n",
       "      <th>2</th>\n",
       "      <td>10cc</td>\n",
       "      <td>Dreadlock Holiday</td>\n",
       "      <td>4</td>\n",
       "      <td>excitement</td>\n",
       "      <td>catchy and upbeat, featuring a memorable guita...</td>\n",
       "      <td>Tempo_103.0</td>\n",
       "      <td>['Program_-1', 'Program_0']</td>\n",
       "      <td>103</td>\n",
       "      <td>Moderato</td>\n",
       "      <td>Rock</td>\n",
       "      <td>Reggae rock</td>\n",
       "    </tr>\n",
       "    <tr>\n",
       "      <th>3</th>\n",
       "      <td>10cc</td>\n",
       "      <td>I'm Not In Love</td>\n",
       "      <td>5</td>\n",
       "      <td>nostalgia</td>\n",
       "      <td>A catchy and memorable tune with a simple yet ...</td>\n",
       "      <td>Tempo_65.0</td>\n",
       "      <td>['Program_-1', 'Program_0', 'Program_122', 'Pr...</td>\n",
       "      <td>65</td>\n",
       "      <td>Andante</td>\n",
       "      <td>Rock</td>\n",
       "      <td>Soft rock</td>\n",
       "    </tr>\n",
       "    <tr>\n",
       "      <th>4</th>\n",
       "      <td>10cc</td>\n",
       "      <td>The Things We Do for Love</td>\n",
       "      <td>6</td>\n",
       "      <td>love</td>\n",
       "      <td>The melody is catchy and memorable, with a ble...</td>\n",
       "      <td>Tempo_111.0</td>\n",
       "      <td>['Program_-1', 'Program_0', 'Program_16', 'Pro...</td>\n",
       "      <td>111</td>\n",
       "      <td>Moderato</td>\n",
       "      <td>Rock</td>\n",
       "      <td>Soft rock</td>\n",
       "    </tr>\n",
       "  </tbody>\n",
       "</table>\n",
       "</div>"
      ],
      "text/plain": [
       "           singer                  song_name  index     emotion  \\\n",
       "0  10,000 Maniacs            A Campfire Song      2   nostalgia   \n",
       "1     101 Strings   Theme From The Godfather      3   nostalgia   \n",
       "2            10cc          Dreadlock Holiday      4  excitement   \n",
       "3            10cc            I'm Not In Love      5   nostalgia   \n",
       "4            10cc  The Things We Do for Love      6        love   \n",
       "\n",
       "                                             caption        tempo  \\\n",
       "0  The melody is mellow and soothing, with a gent...  Tempo_135.0   \n",
       "1  Elegant and sweeping orchestral melody with a ...   Tempo_80.0   \n",
       "2  catchy and upbeat, featuring a memorable guita...  Tempo_103.0   \n",
       "3  A catchy and memorable tune with a simple yet ...   Tempo_65.0   \n",
       "4  The melody is catchy and memorable, with a ble...  Tempo_111.0   \n",
       "\n",
       "                                         instruments  tempo(int)  \\\n",
       "0  ['Program_-1', 'Program_16', 'Program_24', 'Pr...         135   \n",
       "1  ['Program_-1', 'Program_0', 'Program_12', 'Pro...          80   \n",
       "2                        ['Program_-1', 'Program_0']         103   \n",
       "3  ['Program_-1', 'Program_0', 'Program_122', 'Pr...          65   \n",
       "4  ['Program_-1', 'Program_0', 'Program_16', 'Pro...         111   \n",
       "\n",
       "  tempo(category) genre         sub_genre  \n",
       "0         Allegro  Rock  Alternative rock  \n",
       "1        Moderato   Pop               Pop  \n",
       "2        Moderato  Rock       Reggae rock  \n",
       "3         Andante  Rock         Soft rock  \n",
       "4        Moderato  Rock         Soft rock  "
      ]
     },
     "execution_count": 4,
     "metadata": {},
     "output_type": "execute_result"
    }
   ],
   "source": [
    "data = pd.read_csv('./genre_11_tempo_4.csv')\n",
    "data.head()"
   ]
  },
  {
   "cell_type": "code",
   "execution_count": 5,
   "metadata": {},
   "outputs": [
    {
     "data": {
      "text/plain": [
       "['nostalgia',\n",
       " 'excitement',\n",
       " 'love',\n",
       " 'anger',\n",
       " 'happiness',\n",
       " 'sadness',\n",
       " 'calmness',\n",
       " 'gratitude',\n",
       " 'loneliness',\n",
       " 'anticipation',\n",
       " 'Allegro',\n",
       " 'Moderato',\n",
       " 'Andante',\n",
       " 'Presto',\n",
       " 'Rock',\n",
       " 'Pop',\n",
       " 'Dance/Electronic',\n",
       " 'Jazz',\n",
       " 'R&B',\n",
       " 'Groove',\n",
       " 'Folk',\n",
       " 'Classical',\n",
       " 'World',\n",
       " 'Metal',\n",
       " \"Children's music\"]"
      ]
     },
     "execution_count": 5,
     "metadata": {},
     "output_type": "execute_result"
    }
   ],
   "source": [
    "emotion_list = list(data.emotion.unique())\n",
    "tempo_list = list(data['tempo(category)'].unique())\n",
    "genre_list = list(data['genre'].unique())\n",
    "category = emotion_list + tempo_list + genre_list\n",
    "category"
   ]
  },
  {
   "cell_type": "code",
   "execution_count": 6,
   "metadata": {},
   "outputs": [],
   "source": [
    "id2label_category = {k:l for k, l in enumerate(category)}\n",
    "label2id_category = {l:k for k, l in enumerate(category)}"
   ]
  },
  {
   "cell_type": "code",
   "execution_count": 7,
   "metadata": {},
   "outputs": [],
   "source": [
    "class customDataset():\n",
    "    def __init__(self, data, tokenizer):\n",
    "        self.tokenizer = tokenizer\n",
    "        self.dataset = []\n",
    "        datas = []\n",
    "        self.labels = []\n",
    "        for idx, df in tqdm(data.iterrows()):\n",
    "            labels = [0. for _ in range(len(category))]\n",
    "            \n",
    "            datas.append(df.caption)\n",
    "            labels[label2id_category[df.emotion]] = 1.\n",
    "            labels[label2id_category[df['tempo(category)']]] = 1.\n",
    "            labels[label2id_category[df['genre']]] = 1.\n",
    "            self.labels.append(labels)\n",
    "        self.dataset =  tokenizer(datas,padding=True, truncation=True,max_length=512 ,return_tensors=\"pt\").to('cuda')\n",
    "        self.labels= torch.tensor(self.labels)\n",
    "\n",
    "    def __len__(self):\n",
    "        return len(self.labels)\n",
    "    \n",
    "    def __getitem__(self, idx):\n",
    "        item = {key: val[idx].clone().detach() for key, val in self.dataset.items()}\n",
    "        item['labels'] = self.labels[idx].clone().detach()\n",
    "        return item"
   ]
  },
  {
   "cell_type": "code",
   "execution_count": 8,
   "metadata": {},
   "outputs": [
    {
     "name": "stderr",
     "output_type": "stream",
     "text": [
      "Some weights of RobertaForSequenceClassification were not initialized from the model checkpoint at FacebookAI/roberta-large and are newly initialized: ['classifier.dense.bias', 'classifier.dense.weight', 'classifier.out_proj.bias', 'classifier.out_proj.weight']\n",
      "You should probably TRAIN this model on a down-stream task to be able to use it for predictions and inference.\n"
     ]
    }
   ],
   "source": [
    "BASE_MODEL = 'FacebookAI/roberta-large'\n",
    "\n",
    "tokenizer = AutoTokenizer.from_pretrained(BASE_MODEL)\n",
    "config = AutoConfig.from_pretrained(BASE_MODEL,num_labels = len(category))\n",
    "model = AutoModelForSequenceClassification.from_pretrained(BASE_MODEL, config= config).to(device)"
   ]
  },
  {
   "cell_type": "code",
   "execution_count": 9,
   "metadata": {},
   "outputs": [],
   "source": [
    "data2 = data.copy()\n",
    "emotion_data = data2.groupby('emotion').sample(frac=0.05, random_state=42)\n",
    "tempo_data = data2.groupby('tempo(category)').sample(frac=0.05, random_state=42)\n",
    "genre_data = data2.groupby('genre').sample(frac=0.05, random_state=42)\n",
    "index_total = set(emotion_data.index) | set(tempo_data.index) | set(genre_data.index)\n",
    "valid_data = data2.iloc[list(index_total)]\n",
    "train_data = data2.drop(list(index_total)).sample(frac=1, random_state=42)"
   ]
  },
  {
   "cell_type": "code",
   "execution_count": 10,
   "metadata": {},
   "outputs": [
    {
     "name": "stderr",
     "output_type": "stream",
     "text": [
      "8552it [00:00, 16981.33it/s]\n",
      "1419it [00:00, 17350.68it/s]\n"
     ]
    }
   ],
   "source": [
    "\n",
    "dataset_train = customDataset(train_data, tokenizer =tokenizer)\n",
    "dataset_valid = customDataset(valid_data, tokenizer =tokenizer)"
   ]
  },
  {
   "cell_type": "code",
   "execution_count": 11,
   "metadata": {},
   "outputs": [],
   "source": [
    "def get_preds_from_logits(logits):\n",
    "    ret = np.zeros(logits.shape)\n",
    "    \n",
    "    best_class = np.argmax(logits, axis=1)\n",
    "    ret[list(range(len(ret))), best_class] = 1\n",
    "    \n",
    "    return ret"
   ]
  },
  {
   "cell_type": "code",
   "execution_count": 12,
   "metadata": {},
   "outputs": [],
   "source": [
    "def compute_metrics(eval_pred):\n",
    "    logits, labels = eval_pred\n",
    "    print(logits)\n",
    "    final_metrics = {}\n",
    "    first = len(emotion_list)\n",
    "    second = first+len(tempo_list)\n",
    "    third = second + len(tempo_list)\n",
    "    # Deduce predictions from logits\n",
    "    logits_emotion = logits[:first]\n",
    "    logits_emotion = get_preds_from_logits(logits_emotion)\n",
    "    \n",
    "    logits_tempo = logits[first:second]\n",
    "    logits_tempo = get_preds_from_logits(logits_tempo)\n",
    "\n",
    "    logits_genre = logits[second:]\n",
    "    logits_genre = get_preds_from_logits(logits_genre)\n",
    "    \n",
    "    labels_emotion = logits[:first]\n",
    "    labels_tempo = logits[first:second]\n",
    "    labels_genre = logits[second:]\n",
    "    # Get f1 metrics for global scoring. Notice that f1_micro = accuracy\n",
    "    final_metrics[\"f1_emotion\"] = f1_score(labels_emotion, logits_emotion, average=\"micro\")\n",
    "    \n",
    "    # Get f1 metrics for causes\n",
    "    final_metrics[\"f1_tempo\"] = f1_score(labels_tempo, logits_tempo, average=\"micro\")\n",
    "    \n",
    "\n",
    "    # The global f1_metrics\n",
    "    final_metrics[\"f1_genre\"] = f1_score(labels_genre, logits_genre, average=\"micro\")\n",
    "\n",
    "    final_metrics['fi_total'] = (final_metrics[\"f1_emotion\"] + final_metrics[\"f1_tempo\"] + final_metrics[\"f1_genre\"])\n",
    "    return final_metrics"
   ]
  },
  {
   "cell_type": "code",
   "execution_count": 13,
   "metadata": {},
   "outputs": [],
   "source": [
    "# class CustomTrainer(Trainer):\n",
    "#     def compute_loss(self, model, inputs, return_outputs=False):\n",
    "#         labels = inputs.pop(f\"labels\")\n",
    "#         outputs = model(**inputs)\n",
    "#         logits = outputs[0]\n",
    "#         print('compute_loss logits : ',logits)\n",
    "#         # global_score_loss = torch.nn.functional.cross_entropy(logits, labels)\n",
    "#         cause_loss = torch.nn.functional.binary_cross_entropy_with_logits(logits, labels)\n",
    "        \n",
    "#         return (cause_loss, outputs) if return_outputs else cause_loss"
   ]
  },
  {
   "cell_type": "code",
   "execution_count": 14,
   "metadata": {},
   "outputs": [],
   "source": [
    "data_collator = DataCollatorWithPadding(tokenizer=tokenizer)"
   ]
  },
  {
   "cell_type": "code",
   "execution_count": 15,
   "metadata": {},
   "outputs": [
    {
     "name": "stderr",
     "output_type": "stream",
     "text": [
      "Detected kernel version 5.4.0, which is below the recommended minimum of 5.5.0; this can cause the process to hang. It is recommended to upgrade the kernel to the minimum version or higher.\n"
     ]
    }
   ],
   "source": [
    "\n",
    "# wandb.init(project=\"Final project\", entity=\"sanggang\", name = \"no_add_layer\"+BASE_MODEL)\n",
    "\n",
    "training_args = TrainingArguments(\n",
    "\n",
    "   output_dir=\"my_awesome_model\",\n",
    "   save_steps=300,\n",
    "   eval_steps = 300, \n",
    "   warmup_steps=500,\n",
    "   logging_steps=100,\n",
    "   learning_rate=5e-5,\n",
    "   per_device_train_batch_size=16,\n",
    "   per_device_eval_batch_size=16,\n",
    "   num_train_epochs=6,\n",
    "   weight_decay=0.01,\n",
    "   evaluation_strategy='steps',\n",
    "   load_best_model_at_end = True,\n",
    "   save_total_limit = 2,\n",
    "   # report_to=\"wandb\",\n",
    "   metric_for_best_model='fi_total',\n",
    "   # run_name=BASE_MODEL, \n",
    ")\n",
    "\n",
    "trainer = Trainer(\n",
    "   model=model,\n",
    "   args=training_args,\n",
    "   train_dataset=dataset_train,\n",
    "   eval_dataset=dataset_valid,\n",
    "   tokenizer=tokenizer,\n",
    "   data_collator=data_collator,\n",
    "   compute_metrics=compute_metrics,\n",
    ")"
   ]
  }
 ],
 "metadata": {
  "kernelspec": {
   "display_name": "base",
   "language": "python",
   "name": "python3"
  },
  "language_info": {
   "codemirror_mode": {
    "name": "ipython",
    "version": 3
   },
   "file_extension": ".py",
   "mimetype": "text/x-python",
   "name": "python",
   "nbconvert_exporter": "python",
   "pygments_lexer": "ipython3",
   "version": "3.12.2"
  }
 },
 "nbformat": 4,
 "nbformat_minor": 2
}
