{
 "cells": [
  {
   "cell_type": "code",
   "execution_count": 1,
   "metadata": {},
   "outputs": [
    {
     "name": "stderr",
     "output_type": "stream",
     "text": [
      "/home/leesk/miniconda3/lib/python3.12/site-packages/tqdm/auto.py:21: TqdmWarning: IProgress not found. Please update jupyter and ipywidgets. See https://ipywidgets.readthedocs.io/en/stable/user_install.html\n",
      "  from .autonotebook import tqdm as notebook_tqdm\n"
     ]
    }
   ],
   "source": [
    "from transformers import AutoTokenizer, AutoModelForSequenceClassification, TrainingArguments, Trainer, DataCollatorWithPadding, AutoConfig\n",
    "import torch\n",
    "from customModel import customBertForSequenceClassification, customRobertaForSequenceClassification,customGPT2ForSequenceClassification, customElectraForSequenceClassification\n",
    "import numpy as np\n",
    "from frontModelCustom import id2labelData_labels\n",
    "from tqdm import tqdm\n",
    "import pickle"
   ]
  },
  {
   "cell_type": "code",
   "execution_count": 18,
   "metadata": {},
   "outputs": [],
   "source": [
    "# Model_path = './best_model/e_60_t_40_g_52'\n",
    "Model_path = './my_awesome_model/checkpoint-6000'\n",
    "Model_path = 'SangGank/my-front-model'\n",
    "# Model_path = 'SangGank/my-front-model'\n",
    "tokenizer = AutoTokenizer.from_pretrained(Model_path)\n",
    "model = customRobertaForSequenceClassification.from_pretrained(Model_path)"
   ]
  },
  {
   "cell_type": "code",
   "execution_count": 19,
   "metadata": {},
   "outputs": [],
   "source": [
    "with open('labels.pkl','rb') as f:\n",
    "    emotion_labels=pickle.load(f)\n",
    "    tempo_labels=pickle.load(f)\n",
    "    genre_labels=pickle.load(f)"
   ]
  },
  {
   "cell_type": "code",
   "execution_count": 20,
   "metadata": {},
   "outputs": [],
   "source": [
    "emotion , tempo, genre = id2labelData_labels('labels.pkl')\n",
    "\n",
    "def logits2Label(logits):\n",
    "    emotion_id = int(logits[0].detach().argmax())\n",
    "    tempo_id = int(logits[1].detach().argmax())\n",
    "    genre_id = int(logits[2].detach().argmax())\n",
    "    return emotion[emotion_id], tempo[tempo_id], genre[genre_id]"
   ]
  },
  {
   "cell_type": "code",
   "execution_count": 24,
   "metadata": {},
   "outputs": [
    {
     "data": {
      "text/plain": [
       "('anger', 'Moderato', 'Groove')"
      ]
     },
     "execution_count": 24,
     "metadata": {},
     "output_type": "execute_result"
    }
   ],
   "source": [
    "# text= 'smooth and sultry, with a catchy and memorable piano riff that sets the tone for the rest of the track'\n",
    "text= \"My rival die\"\n",
    "inputs = tokenizer(text, return_tensors='pt')\n",
    "\n",
    "result = model(**inputs).logits\n",
    "logits2Label(result)"
   ]
  },
  {
   "cell_type": "code",
   "execution_count": 5,
   "metadata": {},
   "outputs": [],
   "source": []
  },
  {
   "cell_type": "code",
   "execution_count": 9,
   "metadata": {},
   "outputs": [
    {
     "name": "stdout",
     "output_type": "stream",
     "text": [
      "{'input_ids': tensor([[    0, 11377, 14891,  1462,     2]]), 'attention_mask': tensor([[1, 1, 1, 1, 1]])}\n",
      "(tensor([[-1.0156, -7.6180, -0.0323, -3.1650, -5.8199, -7.3814, -3.6764, -5.1977,\n",
      "         -4.6829, -6.2326]], grad_fn=<AddmmBackward0>), tensor([[ 0.9522, -0.8574, -6.7239, -3.0107]], grad_fn=<AddmmBackward0>), tensor([[-2.9883, -5.4740, -7.4847, -6.3331, -6.8134, -4.6010, -7.7749,  1.1946,\n",
      "         -1.2455, -6.0410]], grad_fn=<AddmmBackward0>))\n"
     ]
    },
    {
     "data": {
      "text/plain": [
       "('excitement', 'Allegro', 'Classical')"
      ]
     },
     "execution_count": 9,
     "metadata": {},
     "output_type": "execute_result"
    }
   ],
   "source": []
  },
  {
   "cell_type": "code",
   "execution_count": 38,
   "metadata": {},
   "outputs": [
    {
     "data": {
      "text/plain": [
       "('excitement', 'Allegro', 'Classical')"
      ]
     },
     "execution_count": 38,
     "metadata": {},
     "output_type": "execute_result"
    }
   ],
   "source": []
  },
  {
   "cell_type": "code",
   "execution_count": 3,
   "metadata": {},
   "outputs": [],
   "source": [
    "import pandas as pd"
   ]
  },
  {
   "cell_type": "code",
   "execution_count": 4,
   "metadata": {},
   "outputs": [],
   "source": [
    "data = pd.read_csv(\"./genre_11_tempo_4.csv\")"
   ]
  },
  {
   "cell_type": "code",
   "execution_count": 5,
   "metadata": {},
   "outputs": [],
   "source": [
    "data2 = data.copy()\n",
    "emotion_data = data2.groupby('emotion').sample(frac=0.05, random_state=42)\n",
    "tempo_data = data2.groupby('tempo(category)').sample(frac=0.05, random_state=42)\n",
    "genre_data = data2.groupby('genre').sample(frac=0.05, random_state=42)\n",
    "index_total = set(emotion_data.index) | set(tempo_data.index) | set(genre_data.index)\n",
    "valid_data = data2.iloc[list(index_total)]\n",
    "train_data = data2.drop(list(index_total)).sample(frac=1, random_state=42)"
   ]
  },
  {
   "cell_type": "code",
   "execution_count": 6,
   "metadata": {},
   "outputs": [
    {
     "data": {
      "text/plain": [
       "array(['excitement', 'nostalgia', 'anger', 'love', 'sadness', 'happiness',\n",
       "       'loneliness', 'anticipation', 'calmness', 'gratitude'],\n",
       "      dtype=object)"
      ]
     },
     "execution_count": 6,
     "metadata": {},
     "output_type": "execute_result"
    }
   ],
   "source": [
    "valid_data.emotion.unique()"
   ]
  },
  {
   "cell_type": "code",
   "execution_count": 23,
   "metadata": {},
   "outputs": [
    {
     "data": {
      "text/plain": [
       "\"catchy and upbeat, with a memorable chorus that showcases Dayne's powerful vocals.\""
      ]
     },
     "execution_count": 23,
     "metadata": {},
     "output_type": "execute_result"
    }
   ],
   "source": [
    "valid_data['caption'].values[1]\n"
   ]
  },
  {
   "cell_type": "code",
   "execution_count": 21,
   "metadata": {},
   "outputs": [
    {
     "data": {
      "text/plain": [
       "1419"
      ]
     },
     "execution_count": 21,
     "metadata": {},
     "output_type": "execute_result"
    }
   ],
   "source": [
    "len(valid_data['caption'].values)"
   ]
  },
  {
   "cell_type": "code",
   "execution_count": 26,
   "metadata": {},
   "outputs": [
    {
     "data": {
      "text/plain": [
       "\"catchy and upbeat, with a memorable chorus that showcases Dayne's powerful vocals.\""
      ]
     },
     "execution_count": 26,
     "metadata": {},
     "output_type": "execute_result"
    }
   ],
   "source": [
    "valid_data.iloc[1]['caption']"
   ]
  },
  {
   "cell_type": "code",
   "execution_count": 33,
   "metadata": {},
   "outputs": [
    {
     "name": "stderr",
     "output_type": "stream",
     "text": [
      "100%|██████████| 1419/1419 [01:14<00:00, 18.94it/s]\n"
     ]
    }
   ],
   "source": [
    "li_emotion = []\n",
    "li_tempo = []\n",
    "li_genre = []\n",
    "for i in tqdm(range(len(valid_data))):\n",
    "    text = valid_data.iloc[i]['caption']\n",
    "    inputs = tokenizer(text, return_tensors='pt')\n",
    "    result = model(**inputs).logits\n",
    "    em, tm,ger = logits2Label(result)\n",
    "    li_emotion.append(em)\n",
    "    li_tempo.append(tm)\n",
    "    li_genre.append(ger)"
   ]
  },
  {
   "cell_type": "code",
   "execution_count": 34,
   "metadata": {},
   "outputs": [],
   "source": [
    "valid_data2 = valid_data.copy()\n",
    "valid_data2['pred_emotion'] =li_emotion\n",
    "valid_data2['pred_tempo'] =li_tempo\n",
    "valid_data2['pred_genre'] =li_genre\n",
    "valid_data2.to_csv('./predict.csv',index=False)\n"
   ]
  },
  {
   "cell_type": "code",
   "execution_count": 8,
   "metadata": {},
   "outputs": [],
   "source": [
    "# for i in valid_data['caption'].values:\n",
    "#     inputs = tokenizer(i, return_tensors='pt')\n",
    "#     result = model(**inputs).logits\n",
    "#     emo, tem, gen = logits2Label(result)\n",
    "#     if gen != 'Rock':\n",
    "#         print(i)"
   ]
  },
  {
   "cell_type": "code",
   "execution_count": 9,
   "metadata": {},
   "outputs": [
    {
     "data": {
      "text/plain": [
       "BertConfig {\n",
       "  \"_name_or_path\": \"./my_awesome_model/checkpoint-2400\",\n",
       "  \"architectures\": [\n",
       "    \"customRobertaForSequenceClassification\"\n",
       "  ],\n",
       "  \"attention_probs_dropout_prob\": 0.1,\n",
       "  \"bos_token_id\": 0,\n",
       "  \"classifier_dropout\": null,\n",
       "  \"eos_token_id\": 2,\n",
       "  \"hidden_act\": \"gelu\",\n",
       "  \"hidden_dropout_prob\": 0.1,\n",
       "  \"hidden_size\": 768,\n",
       "  \"id2label\": {\n",
       "    \"0\": \"admiration\",\n",
       "    \"1\": \"amusement\",\n",
       "    \"2\": \"anger\",\n",
       "    \"3\": \"annoyance\",\n",
       "    \"4\": \"approval\",\n",
       "    \"5\": \"caring\",\n",
       "    \"6\": \"confusion\",\n",
       "    \"7\": \"curiosity\",\n",
       "    \"8\": \"desire\",\n",
       "    \"9\": \"disappointment\",\n",
       "    \"10\": \"disapproval\",\n",
       "    \"11\": \"disgust\",\n",
       "    \"12\": \"embarrassment\",\n",
       "    \"13\": \"excitement\",\n",
       "    \"14\": \"fear\",\n",
       "    \"15\": \"gratitude\",\n",
       "    \"16\": \"grief\",\n",
       "    \"17\": \"joy\",\n",
       "    \"18\": \"love\",\n",
       "    \"19\": \"nervousness\",\n",
       "    \"20\": \"optimism\",\n",
       "    \"21\": \"pride\",\n",
       "    \"22\": \"realization\",\n",
       "    \"23\": \"relief\",\n",
       "    \"24\": \"remorse\",\n",
       "    \"25\": \"sadness\",\n",
       "    \"26\": \"surprise\",\n",
       "    \"27\": \"neutral\"\n",
       "  },\n",
       "  \"initializer_range\": 0.02,\n",
       "  \"intermediate_size\": 3072,\n",
       "  \"label2id\": {\n",
       "    \"admiration\": 0,\n",
       "    \"amusement\": 1,\n",
       "    \"anger\": 2,\n",
       "    \"annoyance\": 3,\n",
       "    \"approval\": 4,\n",
       "    \"caring\": 5,\n",
       "    \"confusion\": 6,\n",
       "    \"curiosity\": 7,\n",
       "    \"desire\": 8,\n",
       "    \"disappointment\": 9,\n",
       "    \"disapproval\": 10,\n",
       "    \"disgust\": 11,\n",
       "    \"embarrassment\": 12,\n",
       "    \"excitement\": 13,\n",
       "    \"fear\": 14,\n",
       "    \"gratitude\": 15,\n",
       "    \"grief\": 16,\n",
       "    \"joy\": 17,\n",
       "    \"love\": 18,\n",
       "    \"nervousness\": 19,\n",
       "    \"neutral\": 27,\n",
       "    \"optimism\": 20,\n",
       "    \"pride\": 21,\n",
       "    \"realization\": 22,\n",
       "    \"relief\": 23,\n",
       "    \"remorse\": 24,\n",
       "    \"sadness\": 25,\n",
       "    \"surprise\": 26\n",
       "  },\n",
       "  \"layer_norm_eps\": 1e-05,\n",
       "  \"max_position_embeddings\": 514,\n",
       "  \"model_type\": \"bert\",\n",
       "  \"num_attention_heads\": 12,\n",
       "  \"num_hidden_layers\": 12,\n",
       "  \"num_labels1\": 10,\n",
       "  \"num_labels2\": 4,\n",
       "  \"num_labels3\": 11,\n",
       "  \"pad_token_id\": 1,\n",
       "  \"position_embedding_type\": \"absolute\",\n",
       "  \"problem_type\": \"multi_label_classification\",\n",
       "  \"torch_dtype\": \"float32\",\n",
       "  \"transformers_version\": \"4.38.2\",\n",
       "  \"type_vocab_size\": 1,\n",
       "  \"use_cache\": true,\n",
       "  \"vocab_size\": 50265\n",
       "}"
      ]
     },
     "execution_count": 9,
     "metadata": {},
     "output_type": "execute_result"
    }
   ],
   "source": [
    "model.config"
   ]
  },
  {
   "cell_type": "code",
   "execution_count": 10,
   "metadata": {},
   "outputs": [
    {
     "name": "stdout",
     "output_type": "stream",
     "text": [
      "{'input_ids': tensor([[    0,  9426, 22571,     8,   579,  6070,  1506,     6,    19,    10,\n",
      "         33200,     8, 10132, 13305, 31457,    14,  3880,     5,  6328,    13,\n",
      "             5,  1079,     9,     5,  1349,     2]]), 'attention_mask': tensor([[1, 1, 1, 1, 1, 1, 1, 1, 1, 1, 1, 1, 1, 1, 1, 1, 1, 1, 1, 1, 1, 1, 1, 1,\n",
      "         1, 1]])}\n",
      "(tensor([[-1.6020, -0.6746, -2.0802, -4.0002, -1.7004, -4.7404, -1.8420, -4.7288,\n",
      "         -5.0525, -4.5234]], grad_fn=<AddmmBackward0>), tensor([[-0.1990, -0.8512, -2.9543, -1.1062]], grad_fn=<AddmmBackward0>), tensor([[-3.0486, -1.6718, -2.6524,  0.9791, -1.8430, -3.2592, -2.8961, -2.8547,\n",
      "         -3.8543, -5.0551, -3.6929]], grad_fn=<AddmmBackward0>))\n"
     ]
    }
   ],
   "source": [
    "text= 'smooth and sultry, with a catchy and memorable piano riff that sets the tone for the rest of the track'\n",
    "# text= 'very sad song give me'\n",
    "inputs = tokenizer(text, return_tensors='pt')\n",
    "print(inputs)\n",
    "\n",
    "result = model(**inputs).logits\n",
    "print(result)"
   ]
  },
  {
   "cell_type": "code",
   "execution_count": 34,
   "metadata": {},
   "outputs": [],
   "source": [
    "emotion , tempo, genre = id2labelData_labels('labels.pkl')\n",
    "\n",
    "def logits2Label(logits):\n",
    "    emotion_id = int(logits[0].detach().argmax())\n",
    "    tempo_id = int(logits[1].detach().argmax())\n",
    "    genre_id = int(logits[2].detach().argmax())\n",
    "    return emotion[emotion_id], tempo[tempo_id], genre[genre_id]"
   ]
  },
  {
   "cell_type": "code",
   "execution_count": 35,
   "metadata": {},
   "outputs": [
    {
     "data": {
      "text/plain": [
       "('excitement', 'Allegro', 'Jazz')"
      ]
     },
     "execution_count": 35,
     "metadata": {},
     "output_type": "execute_result"
    }
   ],
   "source": [
    "logits2Label(result)"
   ]
  },
  {
   "cell_type": "code",
   "execution_count": 23,
   "metadata": {},
   "outputs": [
    {
     "name": "stdout",
     "output_type": "stream",
     "text": [
      "['Allegro' 'Moderato' 'Andante' 'Presto']\n"
     ]
    }
   ],
   "source": [
    "import pickle\n",
    "label_data_path ='./labels.pkl'\n",
    "with open(label_data_path,'rb') as f:\n",
    "        emotion_labels=pickle.load(f)\n",
    "        tempo_labels=pickle.load(f)\n",
    "        genre_labels=pickle.load(f)\n",
    "\n",
    "print(tempo_labels)"
   ]
  },
  {
   "cell_type": "code",
   "execution_count": 24,
   "metadata": {},
   "outputs": [],
   "source": [
    "emotion , tempo, genre = id2labelData_labels('labels.pkl')\n",
    "\n",
    "def logits2Label(logits):\n",
    "    emotion_id = int(logits[0].detach().argmax())\n",
    "    tempo_id = int(logits[1].detach().argmax())\n",
    "    genre_id = int(logits[2].detach().argmax())\n",
    "    return emotion[emotion_id], tempo[tempo_id], genre[genre_id]"
   ]
  },
  {
   "cell_type": "code",
   "execution_count": 2,
   "metadata": {},
   "outputs": [
    {
     "data": {
      "text/plain": [
       "tensor([[ 2,  4,  6,  8, 10]])"
      ]
     },
     "execution_count": 2,
     "metadata": {},
     "output_type": "execute_result"
    }
   ],
   "source": [
    "import torch\n",
    "x= torch.tensor([[1,2,3,4,5]])\n",
    "\n",
    "x1 = torch.tensor([[1,2,3,4,5]])\n",
    "x+x1"
   ]
  },
  {
   "cell_type": "code",
   "execution_count": 25,
   "metadata": {},
   "outputs": [
    {
     "data": {
      "text/plain": [
       "('love', 'Moderato', 'Pop')"
      ]
     },
     "execution_count": 25,
     "metadata": {},
     "output_type": "execute_result"
    }
   ],
   "source": [
    "logits2Label(result)"
   ]
  },
  {
   "cell_type": "code",
   "execution_count": null,
   "metadata": {},
   "outputs": [
    {
     "name": "stdout",
     "output_type": "stream",
     "text": [
      "2.2.1+cu121\n"
     ]
    }
   ],
   "source": [
    "import torch\n",
    "\n",
    "print(torch.__version__)"
   ]
  }
 ],
 "metadata": {
  "kernelspec": {
   "display_name": "base",
   "language": "python",
   "name": "python3"
  },
  "language_info": {
   "codemirror_mode": {
    "name": "ipython",
    "version": 3
   },
   "file_extension": ".py",
   "mimetype": "text/x-python",
   "name": "python",
   "nbconvert_exporter": "python",
   "pygments_lexer": "ipython3",
   "version": "3.12.2"
  }
 },
 "nbformat": 4,
 "nbformat_minor": 2
}
