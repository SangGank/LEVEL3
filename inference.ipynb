{
 "cells": [
  {
   "cell_type": "code",
   "execution_count": 27,
   "metadata": {},
   "outputs": [],
   "source": [
    "from transformers import AutoTokenizer, AutoModelForSequenceClassification, TrainingArguments, Trainer, DataCollatorWithPadding, AutoConfig\n",
    "import torch\n",
    "from customModel import customBertForSequenceClassification, customRobertaForSequenceClassification,customGPT2ForSequenceClassification, customElectraForSequenceClassification\n",
    "import numpy as np\n",
    "from frontModelCustom import id2labelData_labels\n"
   ]
  },
  {
   "cell_type": "code",
   "execution_count": 28,
   "metadata": {},
   "outputs": [],
   "source": [
    "Model_path = './my_awesome_model/checkpoint-300'\n",
    "tokenizer = AutoTokenizer.from_pretrained(Model_path)\n",
    "model = customBertForSequenceClassification.from_pretrained(Model_path)"
   ]
  },
  {
   "cell_type": "code",
   "execution_count": 29,
   "metadata": {},
   "outputs": [],
   "source": [
    "text= 'Very sad and depressing song'\n",
    "inputs = tokenizer(text, return_tensors='pt')\n",
    "result = model(**inputs).logits"
   ]
  },
  {
   "cell_type": "code",
   "execution_count": 32,
   "metadata": {},
   "outputs": [
    {
     "name": "stdout",
     "output_type": "stream",
     "text": [
      "['Allegro' 'Moderato' 'Andante' 'Presto']\n"
     ]
    }
   ],
   "source": [
    "import pickle\n",
    "label_data_path ='./labels.pkl'\n",
    "with open(label_data_path,'rb') as f:\n",
    "        emotion_labels=pickle.load(f)\n",
    "        tempo_labels=pickle.load(f)\n",
    "        genre_labels=pickle.load(f)\n",
    "\n",
    "print(tempo_labels)"
   ]
  },
  {
   "cell_type": "code",
   "execution_count": 30,
   "metadata": {},
   "outputs": [],
   "source": [
    "emotion , tempo, genre = id2labelData_labels('labels.pkl')\n",
    "\n",
    "def logits2Label(logits):\n",
    "    \n",
    "    emotion_id = int(logits[0].detach().argmax())\n",
    "    tempo_id = int(logits[1].detach().argmax())\n",
    "    genre_id = int(logits[2].detach().argmax())\n",
    "    return emotion[emotion_id], tempo[tempo_id], genre[genre_id]"
   ]
  },
  {
   "cell_type": "code",
   "execution_count": 31,
   "metadata": {},
   "outputs": [
    {
     "data": {
      "text/plain": [
       "('nostalgia', 'Allegro', 'Pop')"
      ]
     },
     "execution_count": 31,
     "metadata": {},
     "output_type": "execute_result"
    }
   ],
   "source": [
    "logits2Label(result)"
   ]
  }
 ],
 "metadata": {
  "kernelspec": {
   "display_name": "base",
   "language": "python",
   "name": "python3"
  },
  "language_info": {
   "codemirror_mode": {
    "name": "ipython",
    "version": 3
   },
   "file_extension": ".py",
   "mimetype": "text/x-python",
   "name": "python",
   "nbconvert_exporter": "python",
   "pygments_lexer": "ipython3",
   "version": "3.12.2"
  }
 },
 "nbformat": 4,
 "nbformat_minor": 2
}
