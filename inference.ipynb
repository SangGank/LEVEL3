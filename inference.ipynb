{
 "cells": [
  {
   "cell_type": "code",
   "execution_count": 1,
   "metadata": {},
   "outputs": [
    {
     "name": "stderr",
     "output_type": "stream",
     "text": [
      "/home/leesk/miniconda3/lib/python3.12/site-packages/tqdm/auto.py:21: TqdmWarning: IProgress not found. Please update jupyter and ipywidgets. See https://ipywidgets.readthedocs.io/en/stable/user_install.html\n",
      "  from .autonotebook import tqdm as notebook_tqdm\n"
     ]
    }
   ],
   "source": [
    "from transformers import AutoTokenizer, AutoModelForSequenceClassification, TrainingArguments, Trainer, DataCollatorWithPadding, AutoConfig\n",
    "import torch\n",
    "from customModel import customBertForSequenceClassification, customRobertaForSequenceClassification,customGPT2ForSequenceClassification, customElectraForSequenceClassification\n",
    "import numpy as np\n",
    "from frontModelCustom import id2labelData_labels\n"
   ]
  },
  {
   "cell_type": "code",
   "execution_count": 2,
   "metadata": {},
   "outputs": [
    {
     "name": "stderr",
     "output_type": "stream",
     "text": [
      "You are using a model of type roberta to instantiate a model of type bert. This is not supported for all configurations of models and can yield errors.\n"
     ]
    }
   ],
   "source": [
    "Model_path = './best_model/e_60_t_40_g_52'\n",
    "# Model_path = './my_awesome_model/checkpoint-5100'\n",
    "# Model_path = 'SangGank/my-front-model'\n",
    "tokenizer = AutoTokenizer.from_pretrained(Model_path)\n",
    "model = customRobertaForSequenceClassification.from_pretrained(Model_path)"
   ]
  },
  {
   "cell_type": "code",
   "execution_count": 3,
   "metadata": {},
   "outputs": [],
   "source": [
    "import pandas as pd"
   ]
  },
  {
   "cell_type": "code",
   "execution_count": 4,
   "metadata": {},
   "outputs": [],
   "source": [
    "data = pd.read_csv(\"./genre_11_tempo_4.csv\")"
   ]
  },
  {
   "cell_type": "code",
   "execution_count": 5,
   "metadata": {},
   "outputs": [],
   "source": [
    "data2 = data.copy()\n",
    "emotion_data = data2.groupby('emotion').sample(frac=0.05, random_state=42)\n",
    "tempo_data = data2.groupby('tempo(category)').sample(frac=0.05, random_state=42)\n",
    "genre_data = data2.groupby('genre').sample(frac=0.05, random_state=42)\n",
    "index_total = set(emotion_data.index) | set(tempo_data.index) | set(genre_data.index)\n",
    "valid_data = data2.iloc[list(index_total)]\n",
    "train_data = data2.drop(list(index_total)).sample(frac=1, random_state=42)"
   ]
  },
  {
   "cell_type": "code",
   "execution_count": 6,
   "metadata": {},
   "outputs": [
    {
     "data": {
      "text/plain": [
       "array(['excitement', 'nostalgia', 'anger', 'love', 'sadness', 'happiness',\n",
       "       'loneliness', 'anticipation', 'calmness', 'gratitude'],\n",
       "      dtype=object)"
      ]
     },
     "execution_count": 6,
     "metadata": {},
     "output_type": "execute_result"
    }
   ],
   "source": [
    "valid_data.emotion.unique()"
   ]
  },
  {
   "cell_type": "code",
   "execution_count": null,
   "metadata": {},
   "outputs": [],
   "source": []
  },
  {
   "cell_type": "code",
   "execution_count": 7,
   "metadata": {},
   "outputs": [
    {
     "data": {
      "text/plain": [
       "array([\"The song's melody is a soothing and uplifting blend of piano and guitar chords, with a catchy and memorable hook that lingers in the listener's mind.\",\n",
       "       'emotive and haunting, with a soaring vocal performance by Ann Wilson that showcases her signature range and power.',\n",
       "       'a soothing, gentle flow with a catchy and memorable chorus.',\n",
       "       \"catchy and upbeat, with a memorable and sing-along chorus that showcases the band's ability to craft infectious and memorable pop hooks.\",\n",
       "       'soulful and bluesy, with a repetitive and catchy bassline that drives the rhythm and creates a sense of relaxed, easygoing atmosphere.',\n",
       "       'smooth and sultry, with a gentle, lilting quality that evokes a sense of longing and nostalgia.',\n",
       "       \"The song's melody is catchy and upbeat, with a memorable chorus and a mix of guitar and synthesizer instrumentation that creates a lively and energetic sound.\",\n",
       "       'catchy and upbeat, with a memorable chorus and a distinctive guitar riff that drives the rhythm.',\n",
       "       \"The song's melody is catchy and upbeat, with a memorable chorus and a memorable guitar riff that adds to its infectious energy.\",\n",
       "       'serene and melancholic, evoking a sense of longing and nostalgia.',\n",
       "       \"The song's melody is soulful and bluesy, with a catchy and memorable hook that showcases the vocal range and emotional depth of the lead singer Eric Burdon.\",\n",
       "       \"a soulful and mournful blues tune with a repetitive and haunting phrase that showcases Hines' masterful piano playing.\",\n",
       "       \"haunting and emotive, with a simple yet powerful piano riff that underscores the song's introspective and reflective mood.\",\n",
       "       'Ethereal and uplifting,  a soaring blend of synths and guitars that creates a sense of hope and optimism.',\n",
       "       \"smooth and emotive, with a soaring chorus that showcases the band's signature vocal harmonies.\",\n",
       "       'catchy and upbeat, with a memorable saxophone riff that adds to its nostalgic charm.',\n",
       "       'catchy and upbeat, with a bouncy piano riff and playful saxophone solos that add to its lively and carefree atmosphere.',\n",
       "       \"The song's melody is haunting and ethereal, with a soaring chorus that showcases the band's signature blend of alternative rock and pop sensibilities.\",\n",
       "       'Dreamy and ethereal, the melody floats and twirls like a psychedelic daydream.',\n",
       "       'A catchy and upbeat melody with a memorable guitar riff and harmonies that add to the song\\'s cheerful atmosphere.\"',\n",
       "       'soaring, ethereal melody\"',\n",
       "       'hauntingly beautiful melody with a memorable acoustic guitar riff and soaring vocal harmonies.',\n",
       "       'A soaring, ethereal melody that transports the listener to a realm of otherworldly beauty and wonder.',\n",
       "       'haunting and emotive, with a soaring chorus and a gentle, lilting rhythm that evokes a sense of longing and nostalgia.',\n",
       "       'a haunting and atmospheric mix of heavy riffs and soaring vocals that create a sense of introspective longing.',\n",
       "       'catchy and upbeat, with a memorable saxophone riff that adds to its nostalgic 60s vibe.',\n",
       "       'catchy and memorable, with a simple but effective structure that showcases the vocal harmonies of the Beatles.',\n",
       "       \"catchy and upbeat, featuring a memorable guitar riff and a sing-along chorus that showcases the Beatles' signature harmonies.\",\n",
       "       'A hauntingly beautiful and complex melody that showcases the cyclical nature of fate and fortune, with soaring vocals and instrumental layers that create a sense of drama and tension.',\n",
       "       \"soulful and emotive, with a soaring chorus that showcases Minghi's powerful vocals and a catchy, memorable tune.\",\n",
       "       'a beautiful and emotive blend of soaring vocals and lilting piano accompaniment, creating a sense of nostalgia and longing.',\n",
       "       \"haunting and emotive, featuring a memorable guitar riff and soaring vocal lines that showcase the song's introspective and melancholic tone.\",\n",
       "       'catchy and memorable, with a soaring chorus and a memorable guitar riff that has become one of the most recognizable in rock music.',\n",
       "       'catchy and upbeat, with a memorable chorus and a mix of acoustic and electric guitar elements that create a lively and energetic sound.',\n",
       "       'a soothing and introspective blend of folk and progressive rock elements, featuring a memorable flute solo and a haunting vocal performance.',\n",
       "       \"Ethereal and haunting, the melody of Tori Amos' song 'China' floats and swirls with a sense of otherworldly beauty.\",\n",
       "       \"emotive and heartfelt, with a soaring chorus and introspective verses that showcase Jewel's signature folk-pop sound.\",\n",
       "       'A dreamy, ethereal melody with a catchy, upbeat rhythm and soaring vocal harmonies.',\n",
       "       \"soulful and emotive, with a haunting piano accompaniment that adds to the song's nostalgic and introspective mood.\",\n",
       "       \"soulful and emotive, with a soothing piano accompaniment and Hazes' distinctive, heartfelt vocals that convey a deep sense of longing and nostalgia.\",\n",
       "       'A laid-back, island-inspired tune with a catchy, repetitive melody that evokes a sense of relaxation and beachy vibes.',\n",
       "       \"a heart-wrenching and emotional ballad with a simple yet powerful piano accompaniment and Hazes' distinctive, soulful vocals.\",\n",
       "       'catchy and upbeat, with a memorable chorus that sticks in your head.',\n",
       "       \"a soothing and ethereal blend of folk and new age elements, with a memorable and catchy chorus that showcases Branduardi's signature vocal style.\",\n",
       "       'catchy and upbeat, with a memorable chorus and a lilting, bouncy rhythm that evokes a sense of joy and optimism.',\n",
       "       \"dreamy and ethereal, with a soaring chorus that showcases Oxa's powerful vocals.\",\n",
       "       'a soaring, emotive ballad with a memorable chorus and a haunting vocal performance.',\n",
       "       \"a gentle, soaring ballad with a memorable chorus and a sense of longing that lingers in the listener's mind.\",\n",
       "       \"A hauntingly beautiful melody with a soaring chorus and emotive vocals that showcase Annie Lennox's signature soulful voice.\",\n",
       "       \"dreamy and ethereal, with a soaring chorus that showcases the band's signature Irish folk-rock sound.\",\n",
       "       \"haunting and ethereal, with a soaring chorus and a hypnotic rhythm that lingers in the listener's mind long after the song is over.\",\n",
       "       \"haunting and ethereal, with a soaring chorus that showcases Antoine's powerful vocal range.\",\n",
       "       \"catchy and memorable, with a soaring chorus and a distinctive piano riff that has become synonymous with Elton John's signature style.\",\n",
       "       \"haunting and ethereal, with a soaring chorus that showcases the band's signature Irish folk-inspired sound.\",\n",
       "       'catchy and upbeat, with a memorable chorus and a lilting rhythm that evokes the bustling streets of Rome.',\n",
       "       'emotive and nostalgic, with a soaring chorus and introspective verses that evoke a sense of longing and reflection.',\n",
       "       'haunting and ethereal, with a soaring chorus that captures the longing and disillusionment of the lyrics.',\n",
       "       'a haunting and emotive blend of minor keys and soaring vocal lines, creating a sense of longing and nostalgia.',\n",
       "       'Soaring and emotive,  a beautifully crafted expression of longing and nostalgia.\"',\n",
       "       \"a smooth and soulful bossa nova, with a catchy and memorable tune that showcases Antonio Carlos's skillful guitar playing and vocal delivery.\",\n",
       "       'haunting and emotive, with a soaring vocal performance that captures the longing and sadness of the lyrics.',\n",
       "       \"A smooth, soulful melody with a haunting, minor key progression that showcases Johnny Mathis' signature vocal style.\",\n",
       "       'ethereal and free-spirited, with a soaring chorus that captures the essence of the iconic festival it was inspired by.',\n",
       "       \"The song's melody is catchy and memorable, featuring a soaring chorus and guitar riffs that create a sense of nostalgia and longing.\",\n",
       "       \"catchy and upbeat, with a repetitive and memorable chorus that showcases the band's signature new wave sound.\",\n",
       "       'haunting and memorable, with a soaring chorus and emotional vocal delivery that perfectly captures the longing and desperation of the lyrics.',\n",
       "       'a soaring, ethereal journey that transports the listener to a dreamlike state with its lilting, whimsical rhythm.',\n",
       "       'a soaring and emotive ballad with a memorable piano riff and a powerful vocal performance.',\n",
       "       \"A hauntingly beautiful and intricate melody that weaves together Kate Bush's signature vocal phrasing and piano accompaniment to create a dreamlike atmosphere.\",\n",
       "       \"Ethereal, soaring, and hauntingly beautiful, Kate Bush's melody for this classic song creates a sense of otherworldly wonder and emotional depth.\",\n",
       "       'catchy and memorable, with a memorable guitar riff and a sing-along chorus.',\n",
       "       \"The song's melody is catchy and upbeat, with a memorable chorus and a memorable guitar riff that adds to its nostalgic charm.\",\n",
       "       'a soaring, ethereal ballad with a sweeping orchestral arrangement and a haunting vocal performance by Justin Hayward.',\n",
       "       \"The song's melody is a hauntingly beautiful combination of soaring violins and mournful horns, creating a sense of nostalgic longing and wistfulness.\",\n",
       "       \"The song's melody is catchy and upbeat, with a memorable guitar riff and a sing-along chorus.\",\n",
       "       'catchy and upbeat, featuring a memorable chorus and a mix of fast-paced and slow verses.',\n",
       "       'Ethereal and introspective, the melody of this song floats and twists with a gentle, soothing quality.',\n",
       "       'a haunting and memorable guitar riff-driven track with a soaring vocal performance by Paul Stanley.',\n",
       "       \"haunting, atmospheric, and introspective, with a memorable and emotive melody that showcases Sting's vocal range and depth.\",\n",
       "       \"smooth and soulful, with a catchy and memorable chorus that showcases Barry Manilow's signature crooning style.\",\n",
       "       \"The song's melody is catchy and upbeat, with a memorable guitar riff and a sing-along chorus.\",\n",
       "       'Ethereal, dreamy, and slightly dissonant, the melody of \"Gli Uccelli\" by Battiato creates a sense of otherworldly wonder.',\n",
       "       'dreamy and ethereal, with a haunting piano riff that sets the tone for the surreal and introspective lyrics.',\n",
       "       'catchy and upbeat, with a memorable chorus and a series of intertwining instrumental lines that create a lively and energetic sound.',\n",
       "       \"a soothing and emotive ballad with a catchy and memorable tune that showcases Battisti's signature vocal style.\",\n",
       "       'light and airy, with a soothing and nostalgic quality that evokes a sense of longing and yearning.',\n",
       "       'a soaring, emotive ballad with a sweeping orchestral arrangement and a memorable, heartfelt chorus.',\n",
       "       'a beautiful, lilting tune with a catchy chorus and a memorable piano accompaniment.',\n",
       "       \"catchy and upbeat, with a memorable and sing-along chorus that showcases Battisti's signature vocal style.\",\n",
       "       'soothing and emotive melody with a gentle, lilting rhythm that evokes a sense of longing and nostalgia.',\n",
       "       'Soaring and emotive,  a timeless classic that showcases her powerful vocals and effortless range.',\n",
       "       \"a beautiful, soaring ballad with a memorable and emotive chorus that showcases Battisti's signature smooth and soulful vocals.\",\n",
       "       \"The song's melody is ethereal and dreamy, with a haunting quality that evokes a sense of nostalgia and longing.\",\n",
       "       'Soothing and emotive,  characterized by its gentle, wistful piano accompaniment and heartfelt vocal delivery.',\n",
       "       'A hauntingly beautiful and mournful melody with a repetitive, hypnotic riff and soaring guitar solos that create a sense of tension and release.',\n",
       "       'Elegant and catchy melody with a memorable guitar riff and distinctive vocal delivery.',\n",
       "       'A soaring, emotive ballad with a timeless and iconic melody that has captivated listeners for decades.',\n",
       "       'A soaring, anthemic melody with a haunting guitar riff and powerful vocal delivery, building to an epic crescendo.',\n",
       "       'Soothing and mellow,  a gentle, acoustic ballad with a memorable and catchy chorus.\"',\n",
       "       'playful and whimsical, with a catchy and upbeat rhythm that is sure to put a smile on the listener\\'s face.\"',\n",
       "       'haunting and emotive, with a simple yet powerful piano accompaniment that perfectly complements the soulful vocals.',\n",
       "       \"The song's soaring, emotive melody is a timeless classic that has captured the hearts of listeners for decades.\",\n",
       "       \"catchy and upbeat, with a memorable piano riff and a sing-along chorus that showcases the band's signature blend of indie rock and pop sensibilities.\",\n",
       "       \"The song's melody is catchy and upbeat, with a memorable piano riff and a sing-along chorus.\",\n",
       "       'Soaring and lilting, the melody floats lightly and effortlessly, evoking a sense of carefree joy and playfulness.',\n",
       "       \"catchy and upbeat, with a memorable and sing-along chorus that showcases Cluver's smooth and soulful vocals.\",\n",
       "       \"emotive and haunting, with a soaring chorus that showcases the singer's powerful vocals and the song's themes of lost love and longing.\",\n",
       "       'ethereal and dreamy, with a soaring quality that transports the listener to a place of serenity and contemplation.',\n",
       "       \"catchy and memorable, with a simple but effective chord progression that showcases Bertè's powerful vocals.\",\n",
       "       'hauntingly beautiful melody with a soaring chorus and emotive lyrics that capture the longing and hope of the human spirit.',\n",
       "       'hauntingly beautiful, with a gentle and soothing quality that evokes a sense of longing and introspection.',\n",
       "       \"The melody is catchy and upbeat, with a memorable chorus that showcases the band's ability to craft infectious and memorable hooks.\",\n",
       "       'soft and soothing, with a gentle piano accompaniment and a beautiful vocal performance by Tim Immers.',\n",
       "       'Soaring and emotive,  a masterful blend of piano and vocal harmonies that conveys a sense of longing and disillusionment.',\n",
       "       \"The song's melody is a soulful, emotive ballad with a soaring chorus and a memorable saxophone riff.\",\n",
       "       'catchy and memorable, featuring a series of interconnected musical themes that evoke the sights and sounds of an Italian restaurant.',\n",
       "       \"Elegant and soothing,  a masterclass in subtlety and nuance, with Billy Joel's signature piano riffs and soulful vocals creating a haunting and emotive soundscapes.\",\n",
       "       \"catchy and upbeat, with a memorable chorus that showcases the group's vocal talents.\",\n",
       "       'catchy and memorable, with a soaring chorus and a memorable piano riff that stays with the listener long after the song is over.',\n",
       "       \"Lutricia McNeal's melody is smooth and soulful, with a catchy and upbeat rhythm that showcases her powerful vocals.\",\n",
       "       'Hypnotic and dreamy,  characterized by its slow, winding guitar riffs and mesmerizing vocal delivery.',\n",
       "       \"The song's melody is catchy and memorable, with a soaring chorus and a memorable piano riff that helps to drive the emotional intensity of the lyrics.\",\n",
       "       'a beautiful and emotive blend of soaring vocals and gentle instrumentation, creating a sense of longing and yearning that is both haunting and captivating.',\n",
       "       'haunting and memorable, with a repetitive guitar riff and soaring vocal lines that create a sense of eerie calm.',\n",
       "       \"The song's melody is ethereal and dreamy, with a soaring chorus that captures the longing and heartache of the lyrics.\",\n",
       "       'simple yet haunting, with a memorable and repetitive structure that has made it a classic of folk music.',\n",
       "       \"simple yet haunting, with a repetitive and mournful quality that perfectly captures the song's themes of social justice and political unrest.\",\n",
       "       \"The song's melody is a catchy and memorable folk-rock tune with a distinctive rhythm and harmony, featuring Dylan's signature raspy vocals and poignant lyrics.\",\n",
       "       'soulful and introspective, with a memorable guitar riff and soaring vocals that convey a sense of longing and search for something more.',\n",
       "       'A hauntingly beautiful melody with a soaring chorus and atmospheric synths.',\n",
       "       'a soaring, emotional ballad with a catchy and memorable chorus.',\n",
       "       'a slow and mellow acoustic ballad with a catchy and memorable chorus.',\n",
       "       'a haunting and emotive waltz, with a soaring chorus and a memorable piano accompaniment.',\n",
       "       'catchy and upbeat, with a memorable and repetitive chorus that sticks in your head.',\n",
       "       'Soaring, ethereal melody with a gentle, pulsing beat that builds into a soaring, emotional climax.',\n",
       "       \"The song's melody is haunting and atmospheric, with a soaring chorus and intricate instrumental passages that showcase the band's technical skill and emotional depth.\",\n",
       "       'Soaring and emotive, the melody of this Marillion song carries a haunting and introspective quality, with a mix of gentle and powerful moments that evoke a range of emotions.',\n",
       "       \"The song's melody is dark and haunting, with a repetitive and hypnotic quality that enhances the track's eerie atmosphere.\",\n",
       "       'a nostalgic and wistful tune with a simple yet memorable piano accompaniment and a soaring vocal performance by Mary Hopkins.',\n",
       "       \"soulful and emotive, with a soaring chorus and a memorable hook that showcases Mary J. Blige's powerful vocals.\",\n",
       "       'a soulful and emotive ballad with a soaring chorus and a memorable piano riff.',\n",
       "       'haunting and melancholic, with a repetitive piano theme that creates a sense of nostalgia and longing.',\n",
       "       'The melody is a catchy and upbeat tune with a memorable accordion riff and a sing-along chorus.',\n",
       "       \"catchy and upbeat, with a memorable chorus that showcases Brassens' signature gravelly voice and poetic lyrics.\",\n",
       "       \"The song's melody is catchy and upbeat, with a memorable chorus and a distinctive guitar riff that adds to its memorable quality.\",\n",
       "       'lilting and catchy, with a memorable accordion riff that adds to its nostalgic charm.',\n",
       "       \"a gentle, soothing waltz with a simple yet catchy tune that showcases Brassens' signature folk-like style.\",\n",
       "       \"lilting and charming, with a catchy and memorable tune that showcases Brassens' signature folk-style rhythm and blues influence.\",\n",
       "       'Ethereal and dreamy, the melody of this song floats and soars with a gentle, airy quality.',\n",
       "       'a soothing and emotive ballad with a gentle, lilting rhythm that conveys a sense of longing and nostalgia.',\n",
       "       \"The song's melody is catchy and memorable, with a blend of pop and rock elements that create a lively and upbeat atmosphere.\",\n",
       "       'A soaring, sweeping melody that captures the sense of endless possibility and adventure.',\n",
       "       'light and airy, with a carefree and playful quality that evokes a sense of joy and celebration.',\n",
       "       'soulful and emotive, featuring a soaring piano riff and heartfelt vocals that convey a sense of longing and nostalgia.',\n",
       "       \"haunting and ethereal, with a soaring chorus that showcases the band's ability to create a sense of yearning and longing.\",\n",
       "       \"haunting and emotive, with a soaring chorus that showcases the vocalist's range and power.\",\n",
       "       'hauntingly beautiful, with a soaring chorus and a memorable piano accompaniment.',\n",
       "       \"The song's melody is catchy and upbeat, with a memorable chorus and a mix of acoustic and electric guitar elements that create a lively and energetic atmosphere.\",\n",
       "       'light and airy, with a soothing and dreamy quality that captures the whimsical nature of the lyrics.',\n",
       "       'a haunting and emotive blend of soaring vocals and gentle instrumentation, creating a dreamy and introspective atmosphere.',\n",
       "       'a soothing and emotive ballad with a gentle, lilting quality that evokes a sense of longing and nostalgia.',\n",
       "       'soulful and emotive, featuring a soaring chorus and a heartfelt vocal performance.',\n",
       "       \"soulful and emotive, with a soaring chorus and a gentle, introspective rhythm that showcases Zucchero's powerful vocals.\",\n",
       "       \"The song's melody is a soothing and emotive blend of gentle piano chords, soulful vocals, and a catchy chorus that showcases Zucchero's signature smooth and soulful delivery.\",\n",
       "       'haunting and atmospheric, with a memorable guitar riff and emotive vocals that create a sense of introspective longing.',\n",
       "       \"The song's melody is catchy and memorable, with a soaring chorus and a distinctive guitar riff that has become one of the most recognizable in alternative rock.\",\n",
       "       'a soothing and conscious sexual desire saves the young from stress and Catholic Action.',\n",
       "       'a lilting, upbeat tune with a catchy and memorable chorus.',\n",
       "       \"a soothing and emotive ballad with a gentle, lilting rhythm that showcases Mina's powerful vocal range and expressive delivery.\",\n",
       "       'Soothing and nostalgic, Mina\\'s voice weaves a gentle melody that carries the listener on a wave of emotions.\"',\n",
       "       'catchy and upbeat, with a memorable guitar riff and a sing-along chorus.',\n",
       "       \"The song's melody is dreamy and ethereal, with a soaring chorus that showcases the band's ability to craft catchy and memorable hooks.\",\n",
       "       'catchy and upbeat, with a memorable chorus and a lilting rhythm that will stick in your head for days.',\n",
       "       'A hauntingly beautiful and ethereal melody that evokes a sense of spiritual longing and transcendence.',\n",
       "       \"catchy and upbeat, with a memorable chorus that showcases the band's ability to blend traditional Albanian folk elements with modern rock sensibilities.\",\n",
       "       \"hauntingly beautiful melody that captures the essence of the desert landscape and the emotional depth of the characters in the film.'\",\n",
       "       'mellow and introspective, with a soothing piano accompaniment and a memorable, repetitive chorus.',\n",
       "       \"a haunting and nostalgic reprise of the original tune, with a simple yet effective piano accompaniment that adds to the song's emotional impact.\",\n",
       "       \"mellow and contemplative, with a simple but memorable chord progression that underscores the emotional depth of Cash's lyrics.\",\n",
       "       'catchy and memorable, with a soaring chorus and a memorable saxophone riff that has become a classic of 80s pop music.',\n",
       "       \"lively and upbeat, with a catchy and memorable tune that showcases Caterina Caselli's powerful vocal abilities.\",\n",
       "       'haunting and emotive, with a soaring chorus and a memorable saxophone solo that adds to its nostalgic and bittersweet quality.',\n",
       "       'smooth and soulful, with a gentle, wistful quality that evokes a sense of longing and nostalgia.',\n",
       "       \"The song's melody is mellow and introspective, with a soaring chorus that showcases Imbruglia's emotive vocal range.\",\n",
       "       \"catchy and upbeat, with a memorable and emotive chorus that showcases the singer's signature vocal style.\",\n",
       "       \"a soaring, emotive ballad with a sweeping, cinematic quality, showcasing Celine Dion's powerful vocals and impressive vocal range.\",\n",
       "       \"The song's melody is a haunting and emotive blend of synth-pop and electronic elements, with a catchy and memorable chorus.\",\n",
       "       \"Soaring and emotive, the classic radio mix of 'It's All Coming Back to Me Now' by Celine Dion features a sweeping, orchestral arrangement that showcases the singer's powerful vocals and timeless appeal.\",\n",
       "       'catchy and upbeat, with a memorable piano riff and lively percussion that creates a festive and energetic atmosphere.',\n",
       "       \"a haunting and emotive ballad, with a soaring chorus and a gentle, introspective rhythm that showcases Aznavour's signature smooth and soulful vocals.\",\n",
       "       'soulful and emotive, with a gentle, soaring quality that conveys a deep sense of longing and yearning.',\n",
       "       \"The song's catchy and memorable melody features a repetitive and upbeat piano riff, accompanied by a lively saxophone solo and a distinctive vocal harmony.\",\n",
       "       'a soaring and emotive ballad with a memorable and catchy chorus.',\n",
       "       'smooth and laid-back, with a catchy and memorable piano riff that floats above a subtle and groovy bassline and drumming.',\n",
       "       \"haunting and ethereal, with a soaring chorus that showcases the band's ability to create a sense of longing and nostalgia through their music.\",\n",
       "       'characterized by its haunting, introspective quality, with a soaring, lyrical theme and a series of dramatic contrasts that create a sense of emotional depth and complexity.',\n",
       "       'haunting and emotive, featuring a soaring chorus and a memorable piano accompaniment.',\n",
       "       'characterized by its gentle, lilting rhythm and intricate, delicate phrasing.',\n",
       "       'A hauntingly beautiful melody with a soaring chorus and emotive lyrics.',\n",
       "       'Elegant and emotive,  a haunting blend of bluesy soul and atmospheric rock.',\n",
       "       'dreamy and ethereal, with a soaring chorus that lifts the listener up and carries them away on a wave of emotions.',\n",
       "       'haunting and emotive, featuring a soaring chorus and a memorable guitar riff that perfectly captures the sense of longing and displacement in the lyrics.',\n",
       "       'Soothing and emotive, Chris Rea\\'s melody for \"Julia\" is a heartfelt ballad with a gentle, piano-led melody that builds in intensity and emotion throughout.',\n",
       "       \"catchy and upbeat, with a memorable chorus that showcases the artist's vocal range and emotional delivery.\",\n",
       "       'catchy and upbeat, with a memorable chorus and a lilting, sing-along quality.',\n",
       "       \"upbeat and lively, with a catchy and memorable tune that showcases the band's skillful musicianship and energetic performance.\",\n",
       "       'characterized by its dreamy, ethereal quality, with a sense of floating, undulating lines that create a sense of otherworldly atmosphere.',\n",
       "       'Ethereal and haunting, the melody of this song by Mike Oldfield floats and swirls like a ghostly presence.',\n",
       "       'haunting and ethereal, with a soaring vocal line and a gentle, pulsing electronic beat that creates a sense of otherworldly wonder.',\n",
       "       'Soothing and ethereal, with a gentle, lilting quality that evokes a sense of peaceful contemplation.',\n",
       "       'delicate and ethereal, with a dreamy quality that floats and twirls like a ballerina\\'s graceful movements.\"',\n",
       "       'catchy and upbeat, with a lilting rhythm and cheerful chord progressions that evoke a sense of joy and optimism.',\n",
       "       \"haunting and emotive, with a soaring chorus that showcases the artist's vocal range and emotional depth.\",\n",
       "       'a soaring, emotive ballad with a haunting piano accompaniment and a powerful vocal performance.',\n",
       "       \"catchy and upbeat, with a memorable and repetitive chorus that sticks in the listener's head.\",\n",
       "       'a beautiful and emotive ballad with a soaring chorus and a gentle, melancholic piano accompaniment.',\n",
       "       'catchy and memorable, with a repetitive piano riff and soaring vocal harmonies that create a dreamy, introspective atmosphere.',\n",
       "       \"The song's melody is soulful and emotive, with a soaring chorus and a memorable saxophone solo that adds depth and complexity to the overall sound.\",\n",
       "       'hauntingly beautiful and soulful melody with a memorable guitar riff and emotive vocals.',\n",
       "       \"The song has a mellow, introspective melody with a soaring chorus that showcases Cole's emotive vocals.\",\n",
       "       \"haunting and emotive, featuring a soaring vocal performance from Stephen Stills and a memorable guitar riff that has become one of the band's most iconic elements.\",\n",
       "       'catchy and memorable, with a mix of acoustic guitar and soaring vocals that create a feel-good, anthemic quality.',\n",
       "       'A catchy and upbeat synth-pop melody with a repetitive and memorable chorus.',\n",
       "       \"The song's melody is a haunting and introspective blend of soaring vocals and mellow guitar riffs, creating a sense of longing and yearning.\",\n",
       "       \"The song's melody is catchy and upbeat, with a memorable chorus and a distinctive guitar riff that adds to its infectious energy.\",\n",
       "       'a soothing and emotive blend of minor chords and delicate instrumentation, creating a dreamy and introspective atmosphere.',\n",
       "       'Hypnotic and haunting,  characterized by its repetitive and soaring guitar riffs, creating a sense of eerie and psychedelic atmosphere.',\n",
       "       'The melody is a soothing and emotive blend of acoustic guitar and plaintive vocals, creating a haunting and introspective atmosphere.',\n",
       "       'hauntingly beautiful, with a simple yet effective piano accompaniment that allows the listener to fully immerse themselves in the emotional lyrics.',\n",
       "       'haunting and ethereal, with a soaring guitar riff and atmospheric synthesizers that create a sense of longing and isolation.',\n",
       "       'Soothing and repetitive, the melody of \\'Sheep\\' by Pink Floyd creates a hypnotic and dreamy atmosphere.\"',\n",
       "       'haunting and ethereal, with a repeating piano motif that creates a sense of unease and tension.',\n",
       "       'Ethereal, atmospheric, and hauntingly memorable, the song\\'s melody is a sonic tapestry of swirling guitars, soaring vocals, and pulsing synths that creates a sense of disorienting and unsettling unease.\"',\n",
       "       \"haunting and emotive, with a soaring chorus that showcases the singer's powerful vocals.\",\n",
       "       'light and airy, with a catchy and memorable tune that will stick in your head for days.',\n",
       "       'light and airy, with a soothing and gentle quality that creates a sense of calm and relaxation.',\n",
       "       \"light and airy, with a soaring chorus that showcases the group's signature harmonies.\",\n",
       "       'light and airy, with a catchy and memorable tune that will stick in your head for days.',\n",
       "       'light and airy, with a catchy and upbeat rhythm that is sure to put a smile on your face.',\n",
       "       'light and airy, with a catchy and upbeat rhythm that is sure to get stuck in your head.',\n",
       "       'Soothing and emotive,  a gentle and heartfelt ballad that captures the essence of longing and nostalgia.\"',\n",
       "       \"Ethereal, otherworldly, and hauntingly beautiful, the melody of David Bowie's 'Life On Mars' floats and swirls like a dreamy, cosmic reverie.\",\n",
       "       \"haunting, atmospheric, and introspective,  a perfect complement to David Bowie's poignant lyrics.\",\n",
       "       'mellow and contemplative, with a gentle, soothing quality that evokes a sense of nostalgia and longing.',\n",
       "       \"heartwarming and nostalgic, with a simple yet catchy tune that lingers in the listener's mind.\",\n",
       "       \"smooth and soulful, featuring a repetitive and catchy bass line and a series of improvisational solos that showcase the musicians' mastery of the genre.\",\n",
       "       'haunting\"',\n",
       "       'catchy and upbeat, with a memorable chorus and a lilting rhythm that will stick in your head.',\n",
       "       'catchy and upbeat, with a repetitive and rhythmic structure that creates a sense of dynamism and energy.',\n",
       "       \"The song's melody is a soaring, emotive ballad with a catchy chorus and a memorable guitar riff that has become a classic of 80s rock music.\",\n",
       "       'catchy and memorable, with a distinctive organ riff and soaring vocal harmonies that create a sense of nostalgia and longing.',\n",
       "       'haunting and memorable, with a soaring vocal performance by Gary Brooker and a distinctive organ riff that drives the track forward.',\n",
       "       \"a smooth and sophisticated jazz tune with a catchy and memorable theme that showcases Hyman's skillful piano playing.\",\n",
       "       'a slow and soulful ballad with a memorable and catchy chorus.',\n",
       "       'a soothing and emotive blend of Italian folk and pop elements, with a catchy chorus and a memorable piano accompaniment.',\n",
       "       \"haunting and emotive, with a soaring chorus that showcases the band's ability to create a sense of longing and yearning through their music.\",\n",
       "       \"A soaring and uplifting melody with a catchy and repetitive chorus, showcasing the band's ability to create a memorable and anthemic sound.\",\n",
       "       'Soothing and emotive,  a haunting and introspective tribute to the artist Vincent van Gogh.',\n",
       "       'hauntingly soulful melody with a bluesy, psychedelic flair.',\n",
       "       \"The song's melody is a soulful and emotive blend of synth-heavy instrumentation and soaring vocal harmonies.\",\n",
       "       \"smooth and sophisticated, featuring a catchy and memorable saxophone solo that showcases Duke Ellington's mastery of jazz.\",\n",
       "       'A hauntingly beautiful melody with a soaring chorus and atmospheric synths that create a sense of longing and vulnerability.',\n",
       "       'ethereal and dreamy, with a soaring chorus that evokes a sense of celestial wonder.',\n",
       "       \"The song's melody is a soaring and emotive ballad with a memorable guitar riff and heartfelt vocal delivery.\",\n",
       "       \"The song's melody is smooth and soulful, featuring a catchy and memorable hook that showcases the group's signature horn section and vocal harmonies.\",\n",
       "       \"The song's melody is smooth and soulful, with a catchy and memorable hook that showcases the group's signature funk-infused R&B sound.\",\n",
       "       \"Lively and catchy, with a memorable chorus and a fun, upbeat melody that's sure to get stuck in your head.\",\n",
       "       \"The song's melody is catchy and upbeat, with a memorable chorus and a distinctive synth-pop sound.\",\n",
       "       'delicate and ethereal, with a dreamy quality that evokes a sense of longing and nostalgia.',\n",
       "       'A catchy and upbeat melody with a memorable saxophone riff and a lively rhythm that captures the energetic and carefree spirit of the song.',\n",
       "       'smooth and soulful, with a rich, bluesy quality that evokes a sense of longing and emotional depth.',\n",
       "       \"catchy and upbeat, with a memorable chorus that showcases the artist's vocal range and emotional delivery.\",\n",
       "       \"upbeat and catchy, with a memorable guitar riff and a sing-along chorus that showcases Nelson's smooth and soulful vocal delivery.\",\n",
       "       \"The song's melody is catchy and upbeat, with a memorable guitar riff and a sing-along chorus that showcases Nelson's signature crooning style.\",\n",
       "       'smooth and soothing, with a gentle, wistful quality that evokes a sense of longing and nostalgia.',\n",
       "       'Soothing and catchy,  a gentle, acoustic-driven tune with a memorable chorus and a sing-along quality.',\n",
       "       'haunting and mystical, featuring a soaring chorus and intricate instrumental arrangements that create a sense of otherworldly atmosphere.',\n",
       "       'ethereal and dreamy, with a soaring chorus that floats above a gentle, pulsing beat.',\n",
       "       \"haunting and ethereal, with a soaring chorus that showcases Rossi Vasco's vocal range and emotional depth.\",\n",
       "       \"The song's melody is ethereal and soaring, with a haunting Celtic-inspired piano theme that creates a sense of nostalgia and longing.\",\n",
       "       \"haunting and emotive, with a soaring chorus that showcases the band's ability to craft infectious and memorable hooks.\",\n",
       "       'a haunting and emotive blend of soaring vocals and mournful instrumentation, creating a sense of longing and nostalgia.',\n",
       "       'soothing and gentle, with a lilting rhythm that evokes a sense of peacefulness and tranquility.',\n",
       "       'Soaring and ethereal, the melody of \"Gli angeli\" by Rossi Vasco carries a sense of otherworldly beauty and grace.',\n",
       "       \"a soaring, emotive ballad with a memorable chorus and a sense of longing that lingers in the listener's mind.\",\n",
       "       \"enchanting and dreamy, with a soaring chorus that captures the listener's imagination and transports them to a magical world.\",\n",
       "       \"dreamy and ethereal, with a soaring chorus that showcases the vocalist's impressive range and emotional delivery.\",\n",
       "       'Elegant and soothing, the melody of \"Ti Avro\" by Ruggeri floats gracefully with a gentle rhythm.',\n",
       "       'a lilting, dreamy waltz with a haunting, ethereal quality to it.',\n",
       "       \"A soaring, intricate melody that showcases the band's technical prowess and musical complexity, with a memorable chorus that has become one of Rush's most iconic and enduring musical moments.\",\n",
       "       'a gentle, soothing waltz with a lilting, ethereal quality that evokes a sense of hope and optimism.\"',\n",
       "       'Soothing and dreamy, the melody of \\'Pescatore\\' by Fiorella Mannoia carries a gentle, lilting quality that evokes a sense of peacefulness and serenity.\"',\n",
       "       \"a soaring, atmospheric blend of folk-rock and new wave elements, featuring Stevie Nicks' ethereal vocals and a memorable chorus.\",\n",
       "       'hauntingly beautiful, with a gentle, soaring quality that evokes a sense of longing and nostalgia.',\n",
       "       \"The song's melody is a soothing, mid-tempo ballad with a memorable and catchy chorus, featuring Stevie Nicks' signature vocal style and poignant lyrics.\",\n",
       "       'A catchy and memorable melody with a bluesy, soulful vibe.',\n",
       "       'characterized by its slow, smooth, and soothing phrases, with a gentle, lilting rhythm that evokes a sense of relaxation and contentment.',\n",
       "       'smooth and sultry, with a lilting swing rhythm that evokes a sense of nostalgia and longing.',\n",
       "       'soothing and dreamy, with a gentle and repetitive pattern that creates a sense of calm and relaxation.',\n",
       "       \"catchy and upbeat, with a memorable and repetitive chorus that showcases Bauer's signature soulful vocals.\",\n",
       "       \"The song's melody is dark and moody, with a driving beat and haunting vocals that create a sense of introspection and longing.\",\n",
       "       \"The melody is a smooth and sultry bossa nova, with a catchy and memorable piano riff that lingers in the listener's mind.\",\n",
       "       \"soulful and emotive, with a memorable and catchy hook that showcases Gaye's smooth and velvety vocals.\",\n",
       "       \"The song's melody is characterized by a soaring, anthemic quality, with a memorable piano riff and a haunting saxophone solo that add depth and emotion to the lyrics.\",\n",
       "       \"smooth and soulful, with a catchy and memorable tune that showcases Sinatra's signature vocal style.\",\n",
       "       'A soaring, ethereal melody that floats and twirls with a haunting grace, evoking a sense of otherworldly wonder and enchantment.',\n",
       "       'hauntingly beautiful, with a slow-burning intensity that builds to a soaring, ethereal chorus.',\n",
       "       'Soaring, uplifting, and emotive,  a fitting tribute to the end of an era.',\n",
       "       'Elegant and soothing melody with a catchy, bouncy rhythm.\"',\n",
       "       \"a smooth and sophisticated blend of swing and jazz elements, with a catchy and memorable theme that showcases Kenton's innovative arranging skills.\",\n",
       "       'emotive and soaring, with a haunting quality that lingers long after the final note has faded.',\n",
       "       \"The song's melody is a haunting and emotive ballad with a soaring chorus and a gentle, introspective rhythm.\",\n",
       "       'catchy and upbeat, featuring a memorable guitar riff and a sing-along chorus.',\n",
       "       \"The song's melody is haunting and ethereal, with a soaring chorus and a memorable guitar riff that has become a classic of 80s rock music.\",\n",
       "       \"ethereal and haunting, with a soaring chorus that showcases Nicks' signature vocal range and emotive delivery.\",\n",
       "       'emotive and introspective, with a haunting piano riff and soaring vocal lines that convey a sense of longing and regret.',\n",
       "       'Soaring, emotive melody with a catchy chorus and intricate guitar work.\"',\n",
       "       \"The song's melody is haunting and ethereal, with a soaring vocal performance that showcases Patti's signature phrasing and emotional delivery.\",\n",
       "       'catchy and upbeat, with a lilting rhythm that evokes a sense of joy and adventure.',\n",
       "       \"Soaring and emotive, the melody of this iconic ballad carries a sense of longing and nostalgia, with Axl Rose's powerful vocals soaring above a sweeping piano accompaniment.\",\n",
       "       'hauntingly beautiful melody with a memorable guitar riff and emotive vocals.',\n",
       "       'catchy and upbeat, featuring a memorable chorus and a smooth, soulful vocal performance from the lead singer.',\n",
       "       'catchy and memorable, with a distinctive synthesizer riff that drives the rhythm and a memorable vocal hook that stays with the listener long after the song is over.'],\n",
       "      dtype=object)"
      ]
     },
     "execution_count": 7,
     "metadata": {},
     "output_type": "execute_result"
    }
   ],
   "source": [
    "valid_data[valid_data['emotion']== 'nostalgia']['caption'].values"
   ]
  },
  {
   "cell_type": "code",
   "execution_count": 8,
   "metadata": {},
   "outputs": [],
   "source": [
    "# for i in valid_data['caption'].values:\n",
    "#     inputs = tokenizer(i, return_tensors='pt')\n",
    "#     result = model(**inputs).logits\n",
    "#     emo, tem, gen = logits2Label(result)\n",
    "#     if gen != 'Rock':\n",
    "#         print(i)"
   ]
  },
  {
   "cell_type": "code",
   "execution_count": 9,
   "metadata": {},
   "outputs": [
    {
     "data": {
      "text/plain": [
       "BertConfig {\n",
       "  \"_name_or_path\": \"./best_model/e_60_t_40_g_52\",\n",
       "  \"architectures\": [\n",
       "    \"customRobertaForSequenceClassification\"\n",
       "  ],\n",
       "  \"attention_probs_dropout_prob\": 0.1,\n",
       "  \"bos_token_id\": 0,\n",
       "  \"classifier_dropout\": null,\n",
       "  \"eos_token_id\": 2,\n",
       "  \"hidden_act\": \"gelu\",\n",
       "  \"hidden_dropout_prob\": 0.1,\n",
       "  \"hidden_size\": 1024,\n",
       "  \"initializer_range\": 0.02,\n",
       "  \"intermediate_size\": 4096,\n",
       "  \"layer_norm_eps\": 1e-05,\n",
       "  \"max_position_embeddings\": 514,\n",
       "  \"model_type\": \"bert\",\n",
       "  \"num_attention_heads\": 16,\n",
       "  \"num_hidden_layers\": 24,\n",
       "  \"num_labels1\": 10,\n",
       "  \"num_labels2\": 4,\n",
       "  \"num_labels3\": 11,\n",
       "  \"pad_token_id\": 1,\n",
       "  \"position_embedding_type\": \"absolute\",\n",
       "  \"problem_type\": \"multi_label_classification\",\n",
       "  \"torch_dtype\": \"float32\",\n",
       "  \"transformers_version\": \"4.38.2\",\n",
       "  \"type_vocab_size\": 1,\n",
       "  \"use_cache\": true,\n",
       "  \"vocab_size\": 50265\n",
       "}"
      ]
     },
     "execution_count": 9,
     "metadata": {},
     "output_type": "execute_result"
    }
   ],
   "source": [
    "model.config"
   ]
  },
  {
   "cell_type": "code",
   "execution_count": 10,
   "metadata": {},
   "outputs": [
    {
     "name": "stdout",
     "output_type": "stream",
     "text": [
      "{'input_ids': tensor([[    0,  9426, 22571,     8,   579,  6070,  1506,     6,    19,    10,\n",
      "         33200,     8, 10132, 13305, 31457,    14,  3880,     5,  6328,    13,\n",
      "             5,  1079,     9,     5,  1349,     2]]), 'attention_mask': tensor([[1, 1, 1, 1, 1, 1, 1, 1, 1, 1, 1, 1, 1, 1, 1, 1, 1, 1, 1, 1, 1, 1, 1, 1,\n",
      "         1, 1]])}\n",
      "pooled_output :  tensor([[ 0.8187, -0.3696,  0.0481,  ..., -1.0249, -0.4952, -0.1013]],\n",
      "       grad_fn=<SliceBackward0>)\n",
      "logits1 :  tensor([[-1.3488, -0.1706, -1.8826, -3.0804, -3.0152, -3.8921, -3.3904, -6.1804,\n",
      "         -6.1386, -6.3835]], grad_fn=<AddmmBackward0>)\n",
      "logits2 :  tensor([[-0.6902, -0.5398, -1.9985, -1.8040]], grad_fn=<AddmmBackward0>)\n",
      "logits3 :  tensor([[-0.7906, -0.8887, -2.7787, -3.2877, -2.5192, -3.7893, -2.6526, -3.4286,\n",
      "         -4.7993, -3.6399, -4.5625]], grad_fn=<AddmmBackward0>)\n",
      "(tensor([[-1.3488, -0.1706, -1.8826, -3.0804, -3.0152, -3.8921, -3.3904, -6.1804,\n",
      "         -6.1386, -6.3835]], grad_fn=<AddmmBackward0>), tensor([[-0.6902, -0.5398, -1.9985, -1.8040]], grad_fn=<AddmmBackward0>), tensor([[-0.7906, -0.8887, -2.7787, -3.2877, -2.5192, -3.7893, -2.6526, -3.4286,\n",
      "         -4.7993, -3.6399, -4.5625]], grad_fn=<AddmmBackward0>))\n"
     ]
    }
   ],
   "source": [
    "text= 'smooth and sultry, with a catchy and memorable piano riff that sets the tone for the rest of the track'\n",
    "text= 'very sad song give me'\n",
    "inputs = tokenizer(text, return_tensors='pt')\n",
    "print(inputs)\n",
    "\n",
    "result = model(**inputs).logits\n",
    "print(result)"
   ]
  },
  {
   "cell_type": "code",
   "execution_count": 9,
   "metadata": {},
   "outputs": [
    {
     "data": {
      "text/plain": [
       "Parameter containing:\n",
       "tensor([[-0.0132,  0.0145,  0.0467,  ...,  0.0158, -0.0164,  0.0089],\n",
       "        [-0.0348,  0.0241, -0.0217,  ...,  0.0371, -0.0127, -0.0233],\n",
       "        [ 0.0001, -0.0322,  0.0084,  ..., -0.0037, -0.0152,  0.0145],\n",
       "        ...,\n",
       "        [ 0.0020,  0.0227,  0.0166,  ...,  0.0063, -0.0023,  0.0013],\n",
       "        [-0.0132, -0.0187,  0.0003,  ..., -0.0009, -0.0028, -0.0308],\n",
       "        [ 0.0332, -0.0090, -0.0171,  ..., -0.0037, -0.0349, -0.0501]],\n",
       "       requires_grad=True)"
      ]
     },
     "execution_count": 9,
     "metadata": {},
     "output_type": "execute_result"
    }
   ],
   "source": [
    "model.classifier1.weight"
   ]
  },
  {
   "cell_type": "code",
   "execution_count": 72,
   "metadata": {},
   "outputs": [
    {
     "name": "stdout",
     "output_type": "stream",
     "text": [
      "['Allegro' 'Moderato' 'Andante' 'Presto']\n"
     ]
    }
   ],
   "source": [
    "import pickle\n",
    "label_data_path ='./labels.pkl'\n",
    "with open(label_data_path,'rb') as f:\n",
    "        emotion_labels=pickle.load(f)\n",
    "        tempo_labels=pickle.load(f)\n",
    "        genre_labels=pickle.load(f)\n",
    "\n",
    "print(tempo_labels)"
   ]
  },
  {
   "cell_type": "code",
   "execution_count": 73,
   "metadata": {},
   "outputs": [],
   "source": [
    "emotion , tempo, genre = id2labelData_labels('labels.pkl')\n",
    "\n",
    "def logits2Label(logits):\n",
    "    print(logits)\n",
    "    emotion_id = int(logits[0].detach().argmax(),dim=1)\n",
    "    tempo_id = int(logits[1].detach().argmax(),dim=1)\n",
    "    genre_id = int(logits[2].detach().argmax(),dim=1)\n",
    "    return emotion[emotion_id], tempo[tempo_id], genre[genre_id]"
   ]
  },
  {
   "cell_type": "code",
   "execution_count": 74,
   "metadata": {},
   "outputs": [
    {
     "data": {
      "text/plain": [
       "('excitement', 'Moderato', 'Rock')"
      ]
     },
     "execution_count": 74,
     "metadata": {},
     "output_type": "execute_result"
    }
   ],
   "source": [
    "emotion[1], tempo[1], genre[0]"
   ]
  },
  {
   "cell_type": "code",
   "execution_count": 75,
   "metadata": {},
   "outputs": [
    {
     "name": "stdout",
     "output_type": "stream",
     "text": [
      "(tensor([[-1.3488, -0.1706, -1.8826, -3.0804, -3.0152, -3.8921, -3.3904, -6.1804,\n",
      "         -6.1386, -6.3835]], grad_fn=<AddmmBackward0>), tensor([[-0.6902, -0.5398, -1.9985, -1.8040]], grad_fn=<AddmmBackward0>), tensor([[-0.7906, -0.8887, -2.7787, -3.2877, -2.5192, -3.7893, -2.6526, -3.4286,\n",
      "         -4.7993, -3.6399, -4.5625]], grad_fn=<AddmmBackward0>))\n"
     ]
    },
    {
     "ename": "TypeError",
     "evalue": "'dim' is an invalid keyword argument for int()",
     "output_type": "error",
     "traceback": [
      "\u001b[0;31m---------------------------------------------------------------------------\u001b[0m",
      "\u001b[0;31mTypeError\u001b[0m                                 Traceback (most recent call last)",
      "Cell \u001b[0;32mIn[75], line 1\u001b[0m\n\u001b[0;32m----> 1\u001b[0m \u001b[43mlogits2Label\u001b[49m\u001b[43m(\u001b[49m\u001b[43mresult\u001b[49m\u001b[43m)\u001b[49m\n",
      "Cell \u001b[0;32mIn[73], line 5\u001b[0m, in \u001b[0;36mlogits2Label\u001b[0;34m(logits)\u001b[0m\n\u001b[1;32m      3\u001b[0m \u001b[38;5;28;01mdef\u001b[39;00m \u001b[38;5;21mlogits2Label\u001b[39m(logits):\n\u001b[1;32m      4\u001b[0m     \u001b[38;5;28mprint\u001b[39m(logits)\n\u001b[0;32m----> 5\u001b[0m     emotion_id \u001b[38;5;241m=\u001b[39m \u001b[38;5;28;43mint\u001b[39;49m\u001b[43m(\u001b[49m\u001b[43mlogits\u001b[49m\u001b[43m[\u001b[49m\u001b[38;5;241;43m0\u001b[39;49m\u001b[43m]\u001b[49m\u001b[38;5;241;43m.\u001b[39;49m\u001b[43mdetach\u001b[49m\u001b[43m(\u001b[49m\u001b[43m)\u001b[49m\u001b[38;5;241;43m.\u001b[39;49m\u001b[43margmax\u001b[49m\u001b[43m(\u001b[49m\u001b[43m)\u001b[49m\u001b[43m,\u001b[49m\u001b[43mdim\u001b[49m\u001b[38;5;241;43m=\u001b[39;49m\u001b[38;5;241;43m1\u001b[39;49m\u001b[43m)\u001b[49m\n\u001b[1;32m      6\u001b[0m     tempo_id \u001b[38;5;241m=\u001b[39m \u001b[38;5;28mint\u001b[39m(logits[\u001b[38;5;241m1\u001b[39m]\u001b[38;5;241m.\u001b[39mdetach()\u001b[38;5;241m.\u001b[39margmax(),dim\u001b[38;5;241m=\u001b[39m\u001b[38;5;241m1\u001b[39m)\n\u001b[1;32m      7\u001b[0m     genre_id \u001b[38;5;241m=\u001b[39m \u001b[38;5;28mint\u001b[39m(logits[\u001b[38;5;241m2\u001b[39m]\u001b[38;5;241m.\u001b[39mdetach()\u001b[38;5;241m.\u001b[39margmax(),dim\u001b[38;5;241m=\u001b[39m\u001b[38;5;241m1\u001b[39m)\n",
      "\u001b[0;31mTypeError\u001b[0m: 'dim' is an invalid keyword argument for int()"
     ]
    }
   ],
   "source": [
    "logits2Label(result)"
   ]
  },
  {
   "cell_type": "code",
   "execution_count": null,
   "metadata": {},
   "outputs": [
    {
     "name": "stdout",
     "output_type": "stream",
     "text": [
      "2.2.1+cu121\n"
     ]
    }
   ],
   "source": [
    "import torch\n",
    "\n",
    "print(torch.__version__)"
   ]
  }
 ],
 "metadata": {
  "kernelspec": {
   "display_name": "base",
   "language": "python",
   "name": "python3"
  },
  "language_info": {
   "codemirror_mode": {
    "name": "ipython",
    "version": 3
   },
   "file_extension": ".py",
   "mimetype": "text/x-python",
   "name": "python",
   "nbconvert_exporter": "python",
   "pygments_lexer": "ipython3",
   "version": "3.12.2"
  }
 },
 "nbformat": 4,
 "nbformat_minor": 2
}
