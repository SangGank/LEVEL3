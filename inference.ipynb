{
 "cells": [
  {
   "cell_type": "code",
   "execution_count": 2,
   "metadata": {},
   "outputs": [
    {
     "name": "stderr",
     "output_type": "stream",
     "text": [
      "/home/leesk/miniconda3/lib/python3.12/site-packages/tqdm/auto.py:21: TqdmWarning: IProgress not found. Please update jupyter and ipywidgets. See https://ipywidgets.readthedocs.io/en/stable/user_install.html\n",
      "  from .autonotebook import tqdm as notebook_tqdm\n"
     ]
    }
   ],
   "source": [
    "from transformers import AutoTokenizer, AutoModelForSequenceClassification, TrainingArguments, Trainer, DataCollatorWithPadding, AutoConfig\n",
    "import torch\n",
    "from customModel import customBertForSequenceClassification, customRobertaForSequenceClassification,customGPT2ForSequenceClassification, customElectraForSequenceClassification\n",
    "import numpy as np\n",
    "from frontModelCustom import id2labelData_labels\n"
   ]
  },
  {
   "cell_type": "code",
   "execution_count": 4,
   "metadata": {},
   "outputs": [],
   "source": [
    "# Model_path = './my_awesome_model/checkpoint-300'\n",
    "Model_path = 'SangGank/my-front-model'\n",
    "tokenizer = AutoTokenizer.from_pretrained(Model_path)\n",
    "model = customRobertaForSequenceClassification.from_pretrained(Model_path)"
   ]
  },
  {
   "cell_type": "code",
   "execution_count": 5,
   "metadata": {},
   "outputs": [],
   "source": [
    "text= 'Very sad and depressing song'\n",
    "inputs = tokenizer(text, return_tensors='pt')\n",
    "result = model(**inputs).logits"
   ]
  },
  {
   "cell_type": "code",
   "execution_count": 6,
   "metadata": {},
   "outputs": [
    {
     "name": "stdout",
     "output_type": "stream",
     "text": [
      "['Allegro' 'Moderato' 'Andante' 'Presto']\n"
     ]
    }
   ],
   "source": [
    "import pickle\n",
    "label_data_path ='./labels.pkl'\n",
    "with open(label_data_path,'rb') as f:\n",
    "        emotion_labels=pickle.load(f)\n",
    "        tempo_labels=pickle.load(f)\n",
    "        genre_labels=pickle.load(f)\n",
    "\n",
    "print(tempo_labels)"
   ]
  },
  {
   "cell_type": "code",
   "execution_count": 7,
   "metadata": {},
   "outputs": [],
   "source": [
    "emotion , tempo, genre = id2labelData_labels('labels.pkl')\n",
    "\n",
    "def logits2Label(logits):\n",
    "    \n",
    "    emotion_id = int(logits[0].detach().argmax())\n",
    "    tempo_id = int(logits[1].detach().argmax())\n",
    "    genre_id = int(logits[2].detach().argmax())\n",
    "    return emotion[emotion_id], tempo[tempo_id], genre[genre_id]"
   ]
  },
  {
   "cell_type": "code",
   "execution_count": 11,
   "metadata": {},
   "outputs": [
    {
     "data": {
      "text/plain": [
       "('nostalgia', 'Moderato', 'Rock')"
      ]
     },
     "execution_count": 11,
     "metadata": {},
     "output_type": "execute_result"
    }
   ],
   "source": [
    "logits2Label(result)"
   ]
  },
  {
   "cell_type": "code",
   "execution_count": 9,
   "metadata": {},
   "outputs": [
    {
     "name": "stdout",
     "output_type": "stream",
     "text": [
      "2.2.1+cu121\n"
     ]
    }
   ],
   "source": [
    "import torch\n",
    "\n",
    "print(torch.__version__)"
   ]
  }
 ],
 "metadata": {
  "kernelspec": {
   "display_name": "base",
   "language": "python",
   "name": "python3"
  },
  "language_info": {
   "codemirror_mode": {
    "name": "ipython",
    "version": 3
   },
   "file_extension": ".py",
   "mimetype": "text/x-python",
   "name": "python",
   "nbconvert_exporter": "python",
   "pygments_lexer": "ipython3",
   "version": "3.12.2"
  }
 },
 "nbformat": 4,
 "nbformat_minor": 2
}
