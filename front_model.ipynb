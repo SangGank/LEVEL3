{
 "cells": [
  {
   "cell_type": "code",
   "execution_count": 1,
   "metadata": {},
   "outputs": [],
   "source": [
    "# !pip install torch\n",
    "# # !pip install tqdm\n",
    "# # !pip install scikit-learn\n"
   ]
  },
  {
   "cell_type": "code",
   "execution_count": 2,
   "metadata": {},
   "outputs": [
    {
     "name": "stderr",
     "output_type": "stream",
     "text": [
      "/usr/lib/python3/dist-packages/requests/__init__.py:89: RequestsDependencyWarning: urllib3 (2.2.1) or chardet (3.0.4) doesn't match a supported version!\n",
      "  warnings.warn(\"urllib3 ({}) or chardet ({}) doesn't match a supported \"\n",
      "/home/leesk/.local/lib/python3.8/site-packages/tqdm/auto.py:21: TqdmWarning: IProgress not found. Please update jupyter and ipywidgets. See https://ipywidgets.readthedocs.io/en/stable/user_install.html\n",
      "  from .autonotebook import tqdm as notebook_tqdm\n"
     ]
    }
   ],
   "source": [
    "import pandas as pd\n",
    "import pickle\n",
    "from transformers import AutoTokenizer, AutoModelForSequenceClassification, TrainingArguments, Trainer, DataCollatorWithPadding, AutoConfig\n",
    "import evaluate\n",
    "import numpy as np\n",
    "from tqdm import tqdm\n",
    "from sklearn.model_selection import train_test_split\n",
    "import torch\n",
    "from sklearn.metrics import f1_score, accuracy_score\n",
    "from sklearn.metrics import classification_report\n",
    "from customModel import customBertForSequenceClassification, customRobertaForSequenceClassification\n",
    "from CustomTraniner import CustomTrainer\n",
    "from transformers.configuration_utils import PretrainedConfig\n",
    "import wandb\n",
    "\n",
    "from transformers.models.auto.modeling_auto import MODEL_FOR_SEQUENCE_CLASSIFICATION_MAPPING"
   ]
  },
  {
   "cell_type": "code",
   "execution_count": 3,
   "metadata": {},
   "outputs": [
    {
     "name": "stdout",
     "output_type": "stream",
     "text": [
      "cuda\n"
     ]
    }
   ],
   "source": [
    "device = torch.device('cuda' if torch.cuda.is_available() else 'cpu')\n",
    "print(device)"
   ]
  },
  {
   "cell_type": "markdown",
   "metadata": {},
   "source": [
    "### Data Process"
   ]
  },
  {
   "cell_type": "code",
   "execution_count": 4,
   "metadata": {},
   "outputs": [
    {
     "data": {
      "text/html": [
       "<div>\n",
       "<style scoped>\n",
       "    .dataframe tbody tr th:only-of-type {\n",
       "        vertical-align: middle;\n",
       "    }\n",
       "\n",
       "    .dataframe tbody tr th {\n",
       "        vertical-align: top;\n",
       "    }\n",
       "\n",
       "    .dataframe thead th {\n",
       "        text-align: right;\n",
       "    }\n",
       "</style>\n",
       "<table border=\"1\" class=\"dataframe\">\n",
       "  <thead>\n",
       "    <tr style=\"text-align: right;\">\n",
       "      <th></th>\n",
       "      <th>singer</th>\n",
       "      <th>song_name</th>\n",
       "      <th>index</th>\n",
       "      <th>emotion</th>\n",
       "      <th>caption</th>\n",
       "      <th>tempo</th>\n",
       "      <th>instruments</th>\n",
       "      <th>tempo(int)</th>\n",
       "      <th>tempo(category)</th>\n",
       "      <th>genre</th>\n",
       "      <th>sub_genre</th>\n",
       "    </tr>\n",
       "  </thead>\n",
       "  <tbody>\n",
       "    <tr>\n",
       "      <th>0</th>\n",
       "      <td>10,000 Maniacs</td>\n",
       "      <td>A Campfire Song</td>\n",
       "      <td>2</td>\n",
       "      <td>nostalgia</td>\n",
       "      <td>The melody is mellow and soothing, with a gent...</td>\n",
       "      <td>Tempo_135.0</td>\n",
       "      <td>['Program_-1', 'Program_16', 'Program_24', 'Pr...</td>\n",
       "      <td>135</td>\n",
       "      <td>Tempo_135</td>\n",
       "      <td>Rock</td>\n",
       "      <td>Alternative rock</td>\n",
       "    </tr>\n",
       "    <tr>\n",
       "      <th>1</th>\n",
       "      <td>101 Strings</td>\n",
       "      <td>Theme From The Godfather</td>\n",
       "      <td>3</td>\n",
       "      <td>nostalgia</td>\n",
       "      <td>Elegant and sweeping orchestral melody with a ...</td>\n",
       "      <td>Tempo_80.0</td>\n",
       "      <td>['Program_-1', 'Program_0', 'Program_12', 'Pro...</td>\n",
       "      <td>80</td>\n",
       "      <td>Tempo_75</td>\n",
       "      <td>Pop</td>\n",
       "      <td>Pop</td>\n",
       "    </tr>\n",
       "    <tr>\n",
       "      <th>2</th>\n",
       "      <td>10cc</td>\n",
       "      <td>Dreadlock Holiday</td>\n",
       "      <td>4</td>\n",
       "      <td>excitement</td>\n",
       "      <td>catchy and upbeat, featuring a memorable guita...</td>\n",
       "      <td>Tempo_103.0</td>\n",
       "      <td>['Program_-1', 'Program_0']</td>\n",
       "      <td>103</td>\n",
       "      <td>Tempo_105</td>\n",
       "      <td>Rock</td>\n",
       "      <td>Reggae rock</td>\n",
       "    </tr>\n",
       "    <tr>\n",
       "      <th>3</th>\n",
       "      <td>10cc</td>\n",
       "      <td>I'm Not In Love</td>\n",
       "      <td>5</td>\n",
       "      <td>nostalgia</td>\n",
       "      <td>A catchy and memorable tune with a simple yet ...</td>\n",
       "      <td>Tempo_65.0</td>\n",
       "      <td>['Program_-1', 'Program_0', 'Program_122', 'Pr...</td>\n",
       "      <td>65</td>\n",
       "      <td>Tempo_75</td>\n",
       "      <td>Rock</td>\n",
       "      <td>Soft rock</td>\n",
       "    </tr>\n",
       "    <tr>\n",
       "      <th>4</th>\n",
       "      <td>10cc</td>\n",
       "      <td>The Things We Do for Love</td>\n",
       "      <td>6</td>\n",
       "      <td>love</td>\n",
       "      <td>The melody is catchy and memorable, with a ble...</td>\n",
       "      <td>Tempo_111.0</td>\n",
       "      <td>['Program_-1', 'Program_0', 'Program_16', 'Pro...</td>\n",
       "      <td>111</td>\n",
       "      <td>Tempo_105</td>\n",
       "      <td>Rock</td>\n",
       "      <td>Soft rock</td>\n",
       "    </tr>\n",
       "  </tbody>\n",
       "</table>\n",
       "</div>"
      ],
      "text/plain": [
       "           singer                  song_name  index     emotion  \\\n",
       "0  10,000 Maniacs            A Campfire Song      2   nostalgia   \n",
       "1     101 Strings   Theme From The Godfather      3   nostalgia   \n",
       "2            10cc          Dreadlock Holiday      4  excitement   \n",
       "3            10cc            I'm Not In Love      5   nostalgia   \n",
       "4            10cc  The Things We Do for Love      6        love   \n",
       "\n",
       "                                             caption        tempo  \\\n",
       "0  The melody is mellow and soothing, with a gent...  Tempo_135.0   \n",
       "1  Elegant and sweeping orchestral melody with a ...   Tempo_80.0   \n",
       "2  catchy and upbeat, featuring a memorable guita...  Tempo_103.0   \n",
       "3  A catchy and memorable tune with a simple yet ...   Tempo_65.0   \n",
       "4  The melody is catchy and memorable, with a ble...  Tempo_111.0   \n",
       "\n",
       "                                         instruments  tempo(int)  \\\n",
       "0  ['Program_-1', 'Program_16', 'Program_24', 'Pr...         135   \n",
       "1  ['Program_-1', 'Program_0', 'Program_12', 'Pro...          80   \n",
       "2                        ['Program_-1', 'Program_0']         103   \n",
       "3  ['Program_-1', 'Program_0', 'Program_122', 'Pr...          65   \n",
       "4  ['Program_-1', 'Program_0', 'Program_16', 'Pro...         111   \n",
       "\n",
       "  tempo(category) genre         sub_genre  \n",
       "0       Tempo_135  Rock  Alternative rock  \n",
       "1        Tempo_75   Pop               Pop  \n",
       "2       Tempo_105  Rock       Reggae rock  \n",
       "3        Tempo_75  Rock         Soft rock  \n",
       "4       Tempo_105  Rock         Soft rock  "
      ]
     },
     "execution_count": 4,
     "metadata": {},
     "output_type": "execute_result"
    }
   ],
   "source": [
    "data = pd.read_csv('./genre_35.csv')\n",
    "data.head()"
   ]
  },
  {
   "cell_type": "code",
   "execution_count": 5,
   "metadata": {},
   "outputs": [],
   "source": [
    "id2label_emotion = {k:l for k, l in enumerate(data.emotion.unique())}\n",
    "label2id_emotion = {l:k for k, l in enumerate(data.emotion.unique())}\n",
    "id2label_tempo = {k:l for k, l in enumerate(data['tempo(category)'].unique())}\n",
    "label2id_tempo = {l:k for k, l in enumerate(data['tempo(category)'].unique())}\n",
    "id2label_genre = {k:l for k, l in enumerate(data['genre'].unique())}\n",
    "label2id_genre = {l:k for k, l in enumerate(data['genre'].unique())}"
   ]
  },
  {
   "cell_type": "code",
   "execution_count": 6,
   "metadata": {},
   "outputs": [],
   "source": [
    "train_data, valid_data = train_test_split(data, stratify=data['emotion'],test_size= 0.1, random_state=42)"
   ]
  },
  {
   "cell_type": "code",
   "execution_count": 7,
   "metadata": {},
   "outputs": [],
   "source": [
    "class customDataset_after():\n",
    "    def __init__(self, data, tokenizer):\n",
    "        self.tokenizer = tokenizer\n",
    "        self.dataset = []\n",
    "        datas = []\n",
    "        self.labels1 = []\n",
    "        self.labels2 = []\n",
    "        self.labels3 = []\n",
    "        for idx, df in tqdm(data.iterrows()):\n",
    "            label1 = [0. for _ in range(len(id2label_emotion))]\n",
    "            label2 = [0. for _ in range(len(id2label_tempo))]\n",
    "            label3 = [0. for _ in range(len(id2label_genre))]\n",
    "            datas.append(df.caption)\n",
    "            label1[label2id_emotion[df.emotion]] = 1.\n",
    "            label2[label2id_tempo[df['tempo(category)']]] = 1.\n",
    "            label3[label2id_genre[df['genre']]] = 1.\n",
    "            self.labels1.append(label1)\n",
    "            self.labels2.append(label2)\n",
    "            self.labels3.append(label3)\n",
    "        self.dataset =  tokenizer(datas,padding=True, truncation=True,max_length=512 ,return_tensors=\"pt\").to('cuda')\n",
    "        self.labels1= torch.tensor(self.labels1)\n",
    "        self.labels2= torch.tensor(self.labels2)\n",
    "        self.labels3= torch.tensor(self.labels3)\n",
    "    def __len__(self):\n",
    "        return len(self.labels1)\n",
    "    \n",
    "    def __getitem__(self, idx):\n",
    "        item = {key: val[idx].clone().detach() for key, val in self.dataset.items()}\n",
    "        item['labels1'] = self.labels1[idx].clone().detach()\n",
    "        item['labels2'] = self.labels2[idx].clone().detach()\n",
    "        item['labels3'] = self.labels3[idx].clone().detach()\n",
    "        return item"
   ]
  },
  {
   "cell_type": "code",
   "execution_count": 8,
   "metadata": {},
   "outputs": [],
   "source": [
    "# BASE_MODEL = 'bert-base-uncased'\n",
    "\n",
    "# tokenizer = AutoTokenizer.from_pretrained(BASE_MODEL)\n",
    "# model = AutoModelForSequenceClassification.from_pretrained(BASE_MODEL, num_labels=num_labels,\n",
    "#            id2label=id2label, label2id=label2id, problem_type = \"multi_label_classification\").to('cuda')\n"
   ]
  },
  {
   "cell_type": "code",
   "execution_count": 9,
   "metadata": {},
   "outputs": [
    {
     "name": "stderr",
     "output_type": "stream",
     "text": [
      "Some weights of customRobertaForSequenceClassification were not initialized from the model checkpoint at FacebookAI/roberta-large and are newly initialized: ['classifier1.bias', 'classifier1.weight', 'classifier2.bias', 'classifier2.weight', 'classifier3.bias', 'classifier3.weight', 'dense.bias', 'dense.weight']\n",
      "You should probably TRAIN this model on a down-stream task to be able to use it for predictions and inference.\n"
     ]
    }
   ],
   "source": [
    "BASE_MODEL = 'FacebookAI/roberta-large'\n",
    "\n",
    "tokenizer = AutoTokenizer.from_pretrained(BASE_MODEL)\n",
    "config = AutoConfig.from_pretrained(BASE_MODEL)\n",
    "config.num_labels1 = len(id2label_emotion)\n",
    "config.num_labels2 = len(id2label_tempo)\n",
    "config.num_labels3 = len(id2label_genre)\n",
    "# model = customBertForSequenceClassification.from_pretrained(BASE_MODEL, config= config).to(device)\n",
    "model = customRobertaForSequenceClassification.from_pretrained(BASE_MODEL, config= config).to(device)\n"
   ]
  },
  {
   "cell_type": "code",
   "execution_count": 10,
   "metadata": {},
   "outputs": [
    {
     "data": {
      "text/plain": [
       "_LazyAutoMapping([(transformers.models.albert.configuration_albert.AlbertConfig,\n",
       "                   transformers.models.albert.modeling_albert.AlbertForSequenceClassification),\n",
       "                  (transformers.models.bart.configuration_bart.BartConfig,\n",
       "                   transformers.models.bart.modeling_bart.BartForSequenceClassification),\n",
       "                  (transformers.models.bert.configuration_bert.BertConfig,\n",
       "                   transformers.models.bert.modeling_bert.BertForSequenceClassification),\n",
       "                  (transformers.models.big_bird.configuration_big_bird.BigBirdConfig,\n",
       "                   transformers.models.big_bird.modeling_big_bird.BigBirdForSequenceClassification),\n",
       "                  (transformers.models.bigbird_pegasus.configuration_bigbird_pegasus.BigBirdPegasusConfig,\n",
       "                   transformers.models.bigbird_pegasus.modeling_bigbird_pegasus.BigBirdPegasusForSequenceClassification),\n",
       "                  (transformers.models.biogpt.configuration_biogpt.BioGptConfig,\n",
       "                   transformers.models.biogpt.modeling_biogpt.BioGptForSequenceClassification),\n",
       "                  (transformers.models.bloom.configuration_bloom.BloomConfig,\n",
       "                   transformers.models.bloom.modeling_bloom.BloomForSequenceClassification),\n",
       "                  (transformers.models.camembert.configuration_camembert.CamembertConfig,\n",
       "                   transformers.models.camembert.modeling_camembert.CamembertForSequenceClassification),\n",
       "                  (transformers.models.canine.configuration_canine.CanineConfig,\n",
       "                   transformers.models.canine.modeling_canine.CanineForSequenceClassification),\n",
       "                  (transformers.models.llama.configuration_llama.LlamaConfig,\n",
       "                   transformers.models.llama.modeling_llama.LlamaForSequenceClassification),\n",
       "                  (transformers.models.convbert.configuration_convbert.ConvBertConfig,\n",
       "                   transformers.models.convbert.modeling_convbert.ConvBertForSequenceClassification),\n",
       "                  (transformers.models.ctrl.configuration_ctrl.CTRLConfig,\n",
       "                   transformers.models.ctrl.modeling_ctrl.CTRLForSequenceClassification),\n",
       "                  (transformers.models.data2vec.configuration_data2vec_text.Data2VecTextConfig,\n",
       "                   transformers.models.data2vec.modeling_data2vec_text.Data2VecTextForSequenceClassification),\n",
       "                  (transformers.models.deberta.configuration_deberta.DebertaConfig,\n",
       "                   transformers.models.deberta.modeling_deberta.DebertaForSequenceClassification),\n",
       "                  (transformers.models.deberta_v2.configuration_deberta_v2.DebertaV2Config,\n",
       "                   transformers.models.deberta_v2.modeling_deberta_v2.DebertaV2ForSequenceClassification),\n",
       "                  (transformers.models.distilbert.configuration_distilbert.DistilBertConfig,\n",
       "                   transformers.models.distilbert.modeling_distilbert.DistilBertForSequenceClassification),\n",
       "                  (transformers.models.electra.configuration_electra.ElectraConfig,\n",
       "                   transformers.models.electra.modeling_electra.ElectraForSequenceClassification),\n",
       "                  (transformers.models.ernie.configuration_ernie.ErnieConfig,\n",
       "                   transformers.models.ernie.modeling_ernie.ErnieForSequenceClassification),\n",
       "                  (transformers.models.ernie_m.configuration_ernie_m.ErnieMConfig,\n",
       "                   transformers.models.ernie_m.modeling_ernie_m.ErnieMForSequenceClassification),\n",
       "                  (transformers.models.esm.configuration_esm.EsmConfig,\n",
       "                   transformers.models.esm.modeling_esm.EsmForSequenceClassification),\n",
       "                  (transformers.models.falcon.configuration_falcon.FalconConfig,\n",
       "                   transformers.models.falcon.modeling_falcon.FalconForSequenceClassification),\n",
       "                  (transformers.models.flaubert.configuration_flaubert.FlaubertConfig,\n",
       "                   transformers.models.flaubert.modeling_flaubert.FlaubertForSequenceClassification),\n",
       "                  (transformers.models.fnet.configuration_fnet.FNetConfig,\n",
       "                   transformers.models.fnet.modeling_fnet.FNetForSequenceClassification),\n",
       "                  (transformers.models.funnel.configuration_funnel.FunnelConfig,\n",
       "                   transformers.models.funnel.modeling_funnel.FunnelForSequenceClassification),\n",
       "                  (transformers.models.gemma.configuration_gemma.GemmaConfig,\n",
       "                   transformers.models.gemma.modeling_gemma.GemmaForSequenceClassification),\n",
       "                  (transformers.models.gpt2.configuration_gpt2.GPT2Config,\n",
       "                   transformers.models.gpt2.modeling_gpt2.GPT2ForSequenceClassification),\n",
       "                  (transformers.models.gpt2.configuration_gpt2.GPT2Config,\n",
       "                   transformers.models.gpt2.modeling_gpt2.GPT2ForSequenceClassification),\n",
       "                  (transformers.models.gpt_bigcode.configuration_gpt_bigcode.GPTBigCodeConfig,\n",
       "                   transformers.models.gpt_bigcode.modeling_gpt_bigcode.GPTBigCodeForSequenceClassification),\n",
       "                  (transformers.models.gpt_neo.configuration_gpt_neo.GPTNeoConfig,\n",
       "                   transformers.models.gpt_neo.modeling_gpt_neo.GPTNeoForSequenceClassification),\n",
       "                  (transformers.models.gpt_neox.configuration_gpt_neox.GPTNeoXConfig,\n",
       "                   transformers.models.gpt_neox.modeling_gpt_neox.GPTNeoXForSequenceClassification),\n",
       "                  (transformers.models.gptj.configuration_gptj.GPTJConfig,\n",
       "                   transformers.models.gptj.modeling_gptj.GPTJForSequenceClassification),\n",
       "                  (transformers.models.ibert.configuration_ibert.IBertConfig,\n",
       "                   transformers.models.ibert.modeling_ibert.IBertForSequenceClassification),\n",
       "                  (transformers.models.layoutlm.configuration_layoutlm.LayoutLMConfig,\n",
       "                   transformers.models.layoutlm.modeling_layoutlm.LayoutLMForSequenceClassification),\n",
       "                  (transformers.models.layoutlmv2.configuration_layoutlmv2.LayoutLMv2Config,\n",
       "                   transformers.models.layoutlmv2.modeling_layoutlmv2.LayoutLMv2ForSequenceClassification),\n",
       "                  (transformers.models.layoutlmv3.configuration_layoutlmv3.LayoutLMv3Config,\n",
       "                   transformers.models.layoutlmv3.modeling_layoutlmv3.LayoutLMv3ForSequenceClassification),\n",
       "                  (transformers.models.led.configuration_led.LEDConfig,\n",
       "                   transformers.models.led.modeling_led.LEDForSequenceClassification),\n",
       "                  (transformers.models.lilt.configuration_lilt.LiltConfig,\n",
       "                   transformers.models.lilt.modeling_lilt.LiltForSequenceClassification),\n",
       "                  (transformers.models.llama.configuration_llama.LlamaConfig,\n",
       "                   transformers.models.llama.modeling_llama.LlamaForSequenceClassification),\n",
       "                  (transformers.models.longformer.configuration_longformer.LongformerConfig,\n",
       "                   transformers.models.longformer.modeling_longformer.LongformerForSequenceClassification),\n",
       "                  (transformers.models.luke.configuration_luke.LukeConfig,\n",
       "                   transformers.models.luke.modeling_luke.LukeForSequenceClassification),\n",
       "                  (transformers.models.markuplm.configuration_markuplm.MarkupLMConfig,\n",
       "                   transformers.models.markuplm.modeling_markuplm.MarkupLMForSequenceClassification),\n",
       "                  (transformers.models.mbart.configuration_mbart.MBartConfig,\n",
       "                   transformers.models.mbart.modeling_mbart.MBartForSequenceClassification),\n",
       "                  (transformers.models.mega.configuration_mega.MegaConfig,\n",
       "                   transformers.models.mega.modeling_mega.MegaForSequenceClassification),\n",
       "                  (transformers.models.megatron_bert.configuration_megatron_bert.MegatronBertConfig,\n",
       "                   transformers.models.megatron_bert.modeling_megatron_bert.MegatronBertForSequenceClassification),\n",
       "                  (transformers.models.mistral.configuration_mistral.MistralConfig,\n",
       "                   transformers.models.mistral.modeling_mistral.MistralForSequenceClassification),\n",
       "                  (transformers.models.mixtral.configuration_mixtral.MixtralConfig,\n",
       "                   transformers.models.mixtral.modeling_mixtral.MixtralForSequenceClassification),\n",
       "                  (transformers.models.mobilebert.configuration_mobilebert.MobileBertConfig,\n",
       "                   transformers.models.mobilebert.modeling_mobilebert.MobileBertForSequenceClassification),\n",
       "                  (transformers.models.mpnet.configuration_mpnet.MPNetConfig,\n",
       "                   transformers.models.mpnet.modeling_mpnet.MPNetForSequenceClassification),\n",
       "                  (transformers.models.mpt.configuration_mpt.MptConfig,\n",
       "                   transformers.models.mpt.modeling_mpt.MptForSequenceClassification),\n",
       "                  (transformers.models.mra.configuration_mra.MraConfig,\n",
       "                   transformers.models.mra.modeling_mra.MraForSequenceClassification),\n",
       "                  (transformers.models.mt5.configuration_mt5.MT5Config,\n",
       "                   transformers.models.mt5.modeling_mt5.MT5ForSequenceClassification),\n",
       "                  (transformers.models.mvp.configuration_mvp.MvpConfig,\n",
       "                   transformers.models.mvp.modeling_mvp.MvpForSequenceClassification),\n",
       "                  (transformers.models.nezha.configuration_nezha.NezhaConfig,\n",
       "                   transformers.models.nezha.modeling_nezha.NezhaForSequenceClassification),\n",
       "                  (transformers.models.nystromformer.configuration_nystromformer.NystromformerConfig,\n",
       "                   transformers.models.nystromformer.modeling_nystromformer.NystromformerForSequenceClassification),\n",
       "                  (transformers.models.deprecated.open_llama.configuration_open_llama.OpenLlamaConfig,\n",
       "                   transformers.models.deprecated.open_llama.modeling_open_llama.OpenLlamaForSequenceClassification),\n",
       "                  (transformers.models.openai.configuration_openai.OpenAIGPTConfig,\n",
       "                   transformers.models.openai.modeling_openai.OpenAIGPTForSequenceClassification),\n",
       "                  (transformers.models.opt.configuration_opt.OPTConfig,\n",
       "                   transformers.models.opt.modeling_opt.OPTForSequenceClassification),\n",
       "                  (transformers.models.perceiver.configuration_perceiver.PerceiverConfig,\n",
       "                   transformers.models.perceiver.modeling_perceiver.PerceiverForSequenceClassification),\n",
       "                  (transformers.models.persimmon.configuration_persimmon.PersimmonConfig,\n",
       "                   transformers.models.persimmon.modeling_persimmon.PersimmonForSequenceClassification),\n",
       "                  (transformers.models.phi.configuration_phi.PhiConfig,\n",
       "                   transformers.models.phi.modeling_phi.PhiForSequenceClassification),\n",
       "                  (transformers.models.plbart.configuration_plbart.PLBartConfig,\n",
       "                   transformers.models.plbart.modeling_plbart.PLBartForSequenceClassification),\n",
       "                  (transformers.models.qdqbert.configuration_qdqbert.QDQBertConfig,\n",
       "                   transformers.models.qdqbert.modeling_qdqbert.QDQBertForSequenceClassification),\n",
       "                  (transformers.models.qwen2.configuration_qwen2.Qwen2Config,\n",
       "                   transformers.models.qwen2.modeling_qwen2.Qwen2ForSequenceClassification),\n",
       "                  (transformers.models.reformer.configuration_reformer.ReformerConfig,\n",
       "                   transformers.models.reformer.modeling_reformer.ReformerForSequenceClassification),\n",
       "                  (transformers.models.rembert.configuration_rembert.RemBertConfig,\n",
       "                   transformers.models.rembert.modeling_rembert.RemBertForSequenceClassification),\n",
       "                  (transformers.models.roberta.configuration_roberta.RobertaConfig,\n",
       "                   transformers.models.roberta.modeling_roberta.RobertaForSequenceClassification),\n",
       "                  (transformers.models.roberta_prelayernorm.configuration_roberta_prelayernorm.RobertaPreLayerNormConfig,\n",
       "                   transformers.models.roberta_prelayernorm.modeling_roberta_prelayernorm.RobertaPreLayerNormForSequenceClassification),\n",
       "                  (transformers.models.roc_bert.configuration_roc_bert.RoCBertConfig,\n",
       "                   transformers.models.roc_bert.modeling_roc_bert.RoCBertForSequenceClassification),\n",
       "                  (transformers.models.roformer.configuration_roformer.RoFormerConfig,\n",
       "                   transformers.models.roformer.modeling_roformer.RoFormerForSequenceClassification),\n",
       "                  (transformers.models.squeezebert.configuration_squeezebert.SqueezeBertConfig,\n",
       "                   transformers.models.squeezebert.modeling_squeezebert.SqueezeBertForSequenceClassification),\n",
       "                  (transformers.models.stablelm.configuration_stablelm.StableLmConfig,\n",
       "                   transformers.models.stablelm.modeling_stablelm.StableLmForSequenceClassification),\n",
       "                  (transformers.models.t5.configuration_t5.T5Config,\n",
       "                   transformers.models.t5.modeling_t5.T5ForSequenceClassification),\n",
       "                  (transformers.models.tapas.configuration_tapas.TapasConfig,\n",
       "                   transformers.models.tapas.modeling_tapas.TapasForSequenceClassification),\n",
       "                  (transformers.models.deprecated.transfo_xl.configuration_transfo_xl.TransfoXLConfig,\n",
       "                   transformers.models.deprecated.transfo_xl.modeling_transfo_xl.TransfoXLForSequenceClassification),\n",
       "                  (transformers.models.umt5.configuration_umt5.UMT5Config,\n",
       "                   transformers.models.umt5.modeling_umt5.UMT5ForSequenceClassification),\n",
       "                  (transformers.models.xlm.configuration_xlm.XLMConfig,\n",
       "                   transformers.models.xlm.modeling_xlm.XLMForSequenceClassification),\n",
       "                  (transformers.models.xlm_roberta.configuration_xlm_roberta.XLMRobertaConfig,\n",
       "                   transformers.models.xlm_roberta.modeling_xlm_roberta.XLMRobertaForSequenceClassification),\n",
       "                  (transformers.models.xlm_roberta_xl.configuration_xlm_roberta_xl.XLMRobertaXLConfig,\n",
       "                   transformers.models.xlm_roberta_xl.modeling_xlm_roberta_xl.XLMRobertaXLForSequenceClassification),\n",
       "                  (transformers.models.xlnet.configuration_xlnet.XLNetConfig,\n",
       "                   transformers.models.xlnet.modeling_xlnet.XLNetForSequenceClassification),\n",
       "                  (transformers.models.xmod.configuration_xmod.XmodConfig,\n",
       "                   transformers.models.xmod.modeling_xmod.XmodForSequenceClassification),\n",
       "                  (transformers.models.yoso.configuration_yoso.YosoConfig,\n",
       "                   transformers.models.yoso.modeling_yoso.YosoForSequenceClassification)])"
      ]
     },
     "execution_count": 10,
     "metadata": {},
     "output_type": "execute_result"
    }
   ],
   "source": [
    "MODEL_FOR_SEQUENCE_CLASSIFICATION_MAPPING"
   ]
  },
  {
   "cell_type": "code",
   "execution_count": 11,
   "metadata": {},
   "outputs": [
    {
     "name": "stderr",
     "output_type": "stream",
     "text": [
      "9045it [00:00, 13304.35it/s]\n",
      "1006it [00:00, 13285.82it/s]\n"
     ]
    }
   ],
   "source": [
    "dataset_train = customDataset_after(train_data, tokenizer =tokenizer)\n",
    "dataset_valid = customDataset_after(valid_data, tokenizer =tokenizer)\n"
   ]
  },
  {
   "cell_type": "code",
   "execution_count": 12,
   "metadata": {},
   "outputs": [],
   "source": [
    "GLOBAL_SCORE_INDICES = range(0,17)\n",
    "CAUSE_INDICES = range(17, 25)\n",
    "def get_preds_from_logits(logits):\n",
    "    ret = np.zeros(logits.shape)\n",
    "    \n",
    "    # The first 5 columns (GLOBAL_SCORE_INDICES) are for global scores. They should be handled with a multiclass approach\n",
    "    # i.e. we fill 1 to the class with highest probability, and 0 into the other columns\n",
    "    best_class = np.argmax(logits, axis=1)\n",
    "    ret[list(range(len(ret))), best_class] = 1\n",
    "    # The other columns are for causes and emotions. They should be handled with multilabel approach.\n",
    "    # i.e. we fill 1 to every class whose score is higher than some threshold\n",
    "    # In this example, we choose that threshold = 0\n",
    "    \n",
    "    return ret"
   ]
  },
  {
   "cell_type": "code",
   "execution_count": 13,
   "metadata": {},
   "outputs": [],
   "source": [
    "# clf_metrics = evaluate.combine([\"accuracy\", \"f1\", \"precision\", \"recall\"])\n",
    "\n",
    "# def sigmoid(x):\n",
    "#    return 1/(1 + np.exp(-x))\n",
    "\n",
    "# def compute_metrics(eval_pred):\n",
    "\n",
    "#    predictions, labels = eval_pred\n",
    "#    predictions = sigmoid(predictions)\n",
    "#    predictions = (predictions > 0.5).astype(int).reshape(-1)\n",
    "#    return clf_metrics.compute(predictions=predictions, references=labels.astype(int).reshape(-1))"
   ]
  },
  {
   "cell_type": "code",
   "execution_count": 14,
   "metadata": {},
   "outputs": [],
   "source": [
    "def compute_metrics(eval_pred):\n",
    "    logits, labels = eval_pred\n",
    "    final_metrics = {}\n",
    "    \n",
    "    # Deduce predictions from logits\n",
    "    predictions_emotion = get_preds_from_logits(logits[0])\n",
    "    predictions_tempo = get_preds_from_logits(logits[1])\n",
    "    predictions_genre = get_preds_from_logits(logits[2])\n",
    "    \n",
    "    # Get f1 metrics for global scoring. Notice that f1_micro = accuracy\n",
    "    final_metrics[\"f1_emotion\"] = f1_score(labels[0], predictions_emotion, average=\"micro\")\n",
    "    \n",
    "    # Get f1 metrics for causes\n",
    "    final_metrics[\"f1_tempo\"] = f1_score(labels[1], predictions_tempo, average=\"micro\")\n",
    "    \n",
    "\n",
    "    # The global f1_metrics\n",
    "    final_metrics[\"f1_genre\"] = f1_score(labels[2], predictions_genre, average=\"micro\")\n",
    "    \n",
    "    # Classification report\n",
    "    # print(\"Classification report for global scores: \")\n",
    "    # print(classification_report(labels[:, GLOBAL_SCORE_INDICES], predictions[:, GLOBAL_SCORE_INDICES], zero_division=0))\n",
    "    # print(\"Classification report for causes: \")\n",
    "    # print(classification_report(labels[:, CAUSE_INDICES], predictions[:, CAUSE_INDICES], zero_division=0))\n",
    "    return final_metrics"
   ]
  },
  {
   "cell_type": "code",
   "execution_count": 15,
   "metadata": {},
   "outputs": [],
   "source": [
    "data_collator = DataCollatorWithPadding(tokenizer=tokenizer)"
   ]
  },
  {
   "cell_type": "code",
   "execution_count": 16,
   "metadata": {},
   "outputs": [
    {
     "name": "stderr",
     "output_type": "stream",
     "text": [
      "Failed to detect the name of this notebook, you can set it manually with the WANDB_NOTEBOOK_NAME environment variable to enable code saving.\n"
     ]
    },
    {
     "name": "stderr",
     "output_type": "stream",
     "text": [
      "huggingface/tokenizers: The current process just got forked, after parallelism has already been used. Disabling parallelism to avoid deadlocks...\n",
      "To disable this warning, you can either:\n",
      "\t- Avoid using `tokenizers` before the fork if possible\n",
      "\t- Explicitly set the environment variable TOKENIZERS_PARALLELISM=(true | false)\n"
     ]
    },
    {
     "name": "stdout",
     "output_type": "stream",
     "text": [
      "10 8 35\n"
     ]
    },
    {
     "name": "stderr",
     "output_type": "stream",
     "text": [
      "/usr/lib/python3/dist-packages/requests/__init__.py:89: RequestsDependencyWarning: urllib3 (2.2.1) or chardet (3.0.4) doesn't match a supported version!\n",
      "  warnings.warn(\"urllib3 ({}) or chardet ({}) doesn't match a supported \"\n",
      "\u001b[34m\u001b[1mwandb\u001b[0m: Currently logged in as: \u001b[33mleesk9663\u001b[0m (\u001b[33msanggang\u001b[0m). Use \u001b[1m`wandb login --relogin`\u001b[0m to force relogin\n",
      "huggingface/tokenizers: The current process just got forked, after parallelism has already been used. Disabling parallelism to avoid deadlocks...\n",
      "To disable this warning, you can either:\n",
      "\t- Avoid using `tokenizers` before the fork if possible\n",
      "\t- Explicitly set the environment variable TOKENIZERS_PARALLELISM=(true | false)\n",
      "huggingface/tokenizers: The current process just got forked, after parallelism has already been used. Disabling parallelism to avoid deadlocks...\n",
      "To disable this warning, you can either:\n",
      "\t- Avoid using `tokenizers` before the fork if possible\n",
      "\t- Explicitly set the environment variable TOKENIZERS_PARALLELISM=(true | false)\n"
     ]
    },
    {
     "data": {
      "text/html": [
       "Tracking run with wandb version 0.16.4"
      ],
      "text/plain": [
       "<IPython.core.display.HTML object>"
      ]
     },
     "metadata": {},
     "output_type": "display_data"
    },
    {
     "data": {
      "text/html": [
       "Run data is saved locally in <code>/home/leesk/LEVEL3/wandb/run-20240310_204122-iq8x48ac</code>"
      ],
      "text/plain": [
       "<IPython.core.display.HTML object>"
      ]
     },
     "metadata": {},
     "output_type": "display_data"
    },
    {
     "data": {
      "text/html": [
       "Syncing run <strong><a href='https://wandb.ai/sanggang/Final%20project/runs/iq8x48ac' target=\"_blank\">FacebookAI/roberta-large</a></strong> to <a href='https://wandb.ai/sanggang/Final%20project' target=\"_blank\">Weights & Biases</a> (<a href='https://wandb.me/run' target=\"_blank\">docs</a>)<br/>"
      ],
      "text/plain": [
       "<IPython.core.display.HTML object>"
      ]
     },
     "metadata": {},
     "output_type": "display_data"
    },
    {
     "data": {
      "text/html": [
       " View project at <a href='https://wandb.ai/sanggang/Final%20project' target=\"_blank\">https://wandb.ai/sanggang/Final%20project</a>"
      ],
      "text/plain": [
       "<IPython.core.display.HTML object>"
      ]
     },
     "metadata": {},
     "output_type": "display_data"
    },
    {
     "data": {
      "text/html": [
       " View run at <a href='https://wandb.ai/sanggang/Final%20project/runs/iq8x48ac' target=\"_blank\">https://wandb.ai/sanggang/Final%20project/runs/iq8x48ac</a>"
      ],
      "text/plain": [
       "<IPython.core.display.HTML object>"
      ]
     },
     "metadata": {},
     "output_type": "display_data"
    },
    {
     "name": "stderr",
     "output_type": "stream",
     "text": [
      "Detected kernel version 5.4.0, which is below the recommended minimum of 5.5.0; this can cause the process to hang. It is recommended to upgrade the kernel to the minimum version or higher.\n"
     ]
    },
    {
     "data": {
      "text/html": [
       "\n",
       "    <div>\n",
       "      \n",
       "      <progress value='1416' max='2830' style='width:300px; height:20px; vertical-align: middle;'></progress>\n",
       "      [1416/2830 20:23 < 20:23, 1.16 it/s, Epoch 5/10]\n",
       "    </div>\n",
       "    <table border=\"1\" class=\"dataframe\">\n",
       "  <thead>\n",
       " <tr style=\"text-align: left;\">\n",
       "      <th>Epoch</th>\n",
       "      <th>Training Loss</th>\n",
       "      <th>Validation Loss</th>\n",
       "      <th>F1 Emotion</th>\n",
       "      <th>F1 Tempo</th>\n",
       "      <th>F1 Genre</th>\n",
       "    </tr>\n",
       "  </thead>\n",
       "  <tbody>\n",
       "    <tr>\n",
       "      <td>1</td>\n",
       "      <td>No log</td>\n",
       "      <td>0.240290</td>\n",
       "      <td>0.465209</td>\n",
       "      <td>0.327038</td>\n",
       "      <td>0.272366</td>\n",
       "    </tr>\n",
       "    <tr>\n",
       "      <td>2</td>\n",
       "      <td>0.669900</td>\n",
       "      <td>0.242622</td>\n",
       "      <td>0.465209</td>\n",
       "      <td>0.335984</td>\n",
       "      <td>0.272366</td>\n",
       "    </tr>\n",
       "    <tr>\n",
       "      <td>3</td>\n",
       "      <td>0.669900</td>\n",
       "      <td>0.237129</td>\n",
       "      <td>0.465209</td>\n",
       "      <td>0.335984</td>\n",
       "      <td>0.272366</td>\n",
       "    </tr>\n",
       "    <tr>\n",
       "      <td>4</td>\n",
       "      <td>0.630100</td>\n",
       "      <td>0.237329</td>\n",
       "      <td>0.465209</td>\n",
       "      <td>0.327038</td>\n",
       "      <td>0.288270</td>\n",
       "    </tr>\n",
       "    <tr>\n",
       "      <td>5</td>\n",
       "      <td>0.630100</td>\n",
       "      <td>0.238948</td>\n",
       "      <td>0.465209</td>\n",
       "      <td>0.335984</td>\n",
       "      <td>0.288270</td>\n",
       "    </tr>\n",
       "  </tbody>\n",
       "</table><p>"
      ],
      "text/plain": [
       "<IPython.core.display.HTML object>"
      ]
     },
     "metadata": {},
     "output_type": "display_data"
    },
    {
     "name": "stderr",
     "output_type": "stream",
     "text": [
      "Checkpoint destination directory my_awesome_model/checkpoint-283 already exists and is non-empty. Saving will proceed but saved results may be invalid.\n",
      "Checkpoint destination directory my_awesome_model/checkpoint-566 already exists and is non-empty. Saving will proceed but saved results may be invalid.\n"
     ]
    }
   ],
   "source": [
    "print(config.num_labels1, config.num_labels2, config.num_labels3)\n",
    "\n",
    "wandb.init(project=\"Final project\", entity=\"sanggang\",name = BASE_MODEL)\n",
    "\n",
    "training_args = TrainingArguments(\n",
    "\n",
    "   output_dir=\"my_awesome_model\",\n",
    "   learning_rate=5e-4,\n",
    "   per_device_train_batch_size=32,\n",
    "   per_device_eval_batch_size=32,\n",
    "   num_train_epochs=10,\n",
    "   weight_decay=0.01,\n",
    "   evaluation_strategy=\"epoch\",\n",
    "   save_strategy=\"epoch\",\n",
    "   load_best_model_at_end=True,\n",
    "   save_total_limit = 3,\n",
    "   report_to=\"wandb\",\n",
    "   # run_name=BASE_MODEL, \n",
    ")\n",
    "\n",
    "trainer = CustomTrainer(\n",
    "\n",
    "   model=model,\n",
    "   args=training_args,\n",
    "   train_dataset=dataset_train,\n",
    "   eval_dataset=dataset_valid,\n",
    "   tokenizer=tokenizer,\n",
    "   data_collator=data_collator,\n",
    "   compute_metrics=compute_metrics,\n",
    ")\n",
    "\n",
    "\n",
    "# trainer = Trainer(\n",
    "\n",
    "#    model=model,\n",
    "#    args=training_args,\n",
    "#    train_dataset=dataset_train,\n",
    "#    eval_dataset=dataset_valid,\n",
    "#    tokenizer=tokenizer,\n",
    "#    data_collator=data_collator,\n",
    "#    compute_metrics=compute_metrics,\n",
    "# )\n",
    "\n",
    "\n",
    "\n",
    "trainer.train()\n"
   ]
  }
 ],
 "metadata": {
  "kernelspec": {
   "display_name": "Python 3",
   "language": "python",
   "name": "python3"
  },
  "language_info": {
   "codemirror_mode": {
    "name": "ipython",
    "version": 3
   },
   "file_extension": ".py",
   "mimetype": "text/x-python",
   "name": "python",
   "nbconvert_exporter": "python",
   "pygments_lexer": "ipython3",
   "version": "3.8.10"
  }
 },
 "nbformat": 4,
 "nbformat_minor": 2
}
