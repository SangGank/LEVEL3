{
 "cells": [
  {
   "cell_type": "code",
   "execution_count": 149,
   "metadata": {},
   "outputs": [],
   "source": [
    "import pandas as pd\n",
    "import pickle\n",
    "from transformers import AutoTokenizer, AutoModelForSequenceClassification, TrainingArguments, Trainer, DataCollatorWithPadding\n",
    "import evaluate\n",
    "import numpy as np\n",
    "from tqdm import tqdm\n",
    "from sklearn.model_selection import train_test_split\n",
    "import torch\n",
    "from sklearn.metrics import f1_score, accuracy_score\n",
    "from sklearn.metrics import classification_report"
   ]
  },
  {
   "cell_type": "code",
   "execution_count": 98,
   "metadata": {},
   "outputs": [
    {
     "name": "stdout",
     "output_type": "stream",
     "text": [
      "cuda\n"
     ]
    }
   ],
   "source": [
    "device = torch.device('cuda' if torch.cuda.is_available() else 'cpu')\n",
    "print(device)"
   ]
  },
  {
   "cell_type": "markdown",
   "metadata": {},
   "source": [
    "### Data Process"
   ]
  },
  {
   "cell_type": "code",
   "execution_count": 83,
   "metadata": {},
   "outputs": [
    {
     "data": {
      "text/html": [
       "<div>\n",
       "<style scoped>\n",
       "    .dataframe tbody tr th:only-of-type {\n",
       "        vertical-align: middle;\n",
       "    }\n",
       "\n",
       "    .dataframe tbody tr th {\n",
       "        vertical-align: top;\n",
       "    }\n",
       "\n",
       "    .dataframe thead th {\n",
       "        text-align: right;\n",
       "    }\n",
       "</style>\n",
       "<table border=\"1\" class=\"dataframe\">\n",
       "  <thead>\n",
       "    <tr style=\"text-align: right;\">\n",
       "      <th></th>\n",
       "      <th>singer</th>\n",
       "      <th>song_name</th>\n",
       "      <th>index</th>\n",
       "      <th>emotion</th>\n",
       "      <th>caption</th>\n",
       "      <th>tempo</th>\n",
       "      <th>instruments</th>\n",
       "      <th>tempo(int)</th>\n",
       "      <th>tempo(category)</th>\n",
       "    </tr>\n",
       "  </thead>\n",
       "  <tbody>\n",
       "    <tr>\n",
       "      <th>0</th>\n",
       "      <td>.38 Special</td>\n",
       "      <td>Caught Up In You</td>\n",
       "      <td>0</td>\n",
       "      <td>excitement</td>\n",
       "      <td>catchy and memorable, with a memorable guitar ...</td>\n",
       "      <td>Tempo_120.0</td>\n",
       "      <td>['Program_-1', 'Program_25', 'Program_62', 'Pr...</td>\n",
       "      <td>120</td>\n",
       "      <td>Tempo_135</td>\n",
       "    </tr>\n",
       "    <tr>\n",
       "      <th>1</th>\n",
       "      <td>.38 Special</td>\n",
       "      <td>Fantasy Girl</td>\n",
       "      <td>1</td>\n",
       "      <td>excitement</td>\n",
       "      <td>The song's melody is catchy and memorable, fea...</td>\n",
       "      <td>Tempo_175.0</td>\n",
       "      <td>['Program_-1', 'Program_103', 'Program_29', 'P...</td>\n",
       "      <td>175</td>\n",
       "      <td>Tempo_165</td>\n",
       "    </tr>\n",
       "    <tr>\n",
       "      <th>2</th>\n",
       "      <td>10,000 Maniacs</td>\n",
       "      <td>A Campfire Song</td>\n",
       "      <td>2</td>\n",
       "      <td>nostalgia</td>\n",
       "      <td>The melody is mellow and soothing, with a gent...</td>\n",
       "      <td>Tempo_135.0</td>\n",
       "      <td>['Program_-1', 'Program_16', 'Program_24', 'Pr...</td>\n",
       "      <td>135</td>\n",
       "      <td>Tempo_135</td>\n",
       "    </tr>\n",
       "    <tr>\n",
       "      <th>3</th>\n",
       "      <td>101 Strings</td>\n",
       "      <td>Theme From The Godfather</td>\n",
       "      <td>3</td>\n",
       "      <td>nostalgia</td>\n",
       "      <td>Elegant and sweeping orchestral melody with a ...</td>\n",
       "      <td>Tempo_80.0</td>\n",
       "      <td>['Program_-1', 'Program_0', 'Program_12', 'Pro...</td>\n",
       "      <td>80</td>\n",
       "      <td>Tempo_75</td>\n",
       "    </tr>\n",
       "    <tr>\n",
       "      <th>4</th>\n",
       "      <td>10cc</td>\n",
       "      <td>Dreadlock Holiday</td>\n",
       "      <td>4</td>\n",
       "      <td>excitement</td>\n",
       "      <td>catchy and upbeat, featuring a memorable guita...</td>\n",
       "      <td>Tempo_103.0</td>\n",
       "      <td>['Program_-1', 'Program_0']</td>\n",
       "      <td>103</td>\n",
       "      <td>Tempo_105</td>\n",
       "    </tr>\n",
       "  </tbody>\n",
       "</table>\n",
       "</div>"
      ],
      "text/plain": [
       "           singer                 song_name index     emotion  \\\n",
       "0     .38 Special          Caught Up In You     0  excitement   \n",
       "1     .38 Special              Fantasy Girl     1  excitement   \n",
       "2  10,000 Maniacs           A Campfire Song     2   nostalgia   \n",
       "3     101 Strings  Theme From The Godfather     3   nostalgia   \n",
       "4            10cc         Dreadlock Holiday     4  excitement   \n",
       "\n",
       "                                             caption        tempo  \\\n",
       "0  catchy and memorable, with a memorable guitar ...  Tempo_120.0   \n",
       "1  The song's melody is catchy and memorable, fea...  Tempo_175.0   \n",
       "2  The melody is mellow and soothing, with a gent...  Tempo_135.0   \n",
       "3  Elegant and sweeping orchestral melody with a ...   Tempo_80.0   \n",
       "4  catchy and upbeat, featuring a memorable guita...  Tempo_103.0   \n",
       "\n",
       "                                         instruments tempo(int)  \\\n",
       "0  ['Program_-1', 'Program_25', 'Program_62', 'Pr...        120   \n",
       "1  ['Program_-1', 'Program_103', 'Program_29', 'P...        175   \n",
       "2  ['Program_-1', 'Program_16', 'Program_24', 'Pr...        135   \n",
       "3  ['Program_-1', 'Program_0', 'Program_12', 'Pro...         80   \n",
       "4                        ['Program_-1', 'Program_0']        103   \n",
       "\n",
       "  tempo(category)  \n",
       "0       Tempo_135  \n",
       "1       Tempo_165  \n",
       "2       Tempo_135  \n",
       "3        Tempo_75  \n",
       "4       Tempo_105  "
      ]
     },
     "execution_count": 83,
     "metadata": {},
     "output_type": "execute_result"
    }
   ],
   "source": [
    "data = pd.read_csv('./final_data.csv')\n",
    "data.head()"
   ]
  },
  {
   "cell_type": "code",
   "execution_count": 84,
   "metadata": {},
   "outputs": [],
   "source": [
    "train_data, valid_data = train_test_split(data, stratify=data['emotion'],test_size= 0.1, random_state=42)"
   ]
  },
  {
   "cell_type": "code",
   "execution_count": 85,
   "metadata": {},
   "outputs": [],
   "source": [
    "with open(\"category.pickle\",\"rb\") as f:\n",
    "    data_labels = pickle.load(f)"
   ]
  },
  {
   "cell_type": "code",
   "execution_count": 86,
   "metadata": {},
   "outputs": [],
   "source": [
    "id2label = {k:l for k, l in enumerate(data_labels)}\n",
    "label2id = {l:k for k, l in enumerate(data_labels)}\n",
    "num_labels = len(data_labels)"
   ]
  },
  {
   "cell_type": "code",
   "execution_count": 147,
   "metadata": {},
   "outputs": [
    {
     "data": {
      "text/plain": [
       "{0: 'excitement',\n",
       " 1: 'nostalgia',\n",
       " 2: 'love',\n",
       " 3: 'anger',\n",
       " 4: 'happiness',\n",
       " 5: 'sadness',\n",
       " 6: 'calmness',\n",
       " 7: 'gratitude',\n",
       " 8: 'irony',\n",
       " 9: 'grief',\n",
       " 10: 'loneliness',\n",
       " 11: 'anticipation',\n",
       " 12: 'suspicion',\n",
       " 13: 'hope',\n",
       " 14: 'anxiety',\n",
       " 15: 'lust',\n",
       " 16: 'determination',\n",
       " 17: 'Tempo_135',\n",
       " 18: 'Tempo_165',\n",
       " 19: 'Tempo_75',\n",
       " 20: 'Tempo_105',\n",
       " 21: 'Tempo_45',\n",
       " 22: 'Tempo_195',\n",
       " 23: 'Tempo_255',\n",
       " 24: 'Tempo_225'}"
      ]
     },
     "execution_count": 147,
     "metadata": {},
     "output_type": "execute_result"
    }
   ],
   "source": [
    "id2label"
   ]
  },
  {
   "cell_type": "code",
   "execution_count": 141,
   "metadata": {},
   "outputs": [],
   "source": [
    "class customDataset():\n",
    "    def __init__(self, data, tokenizer):\n",
    "        self.tokenizer = tokenizer\n",
    "        self.dataset = []\n",
    "        datas = []\n",
    "        self.labels = []\n",
    "        for idx, df in tqdm(data.iterrows()):\n",
    "            label = [0. for _ in range(num_labels)]\n",
    "            datas.append(df.caption)\n",
    "            label[label2id[df.emotion]] = 1.\n",
    "            label[label2id[df['tempo(category)']]] = 1.\n",
    "            self.labels.append(label)\n",
    "        self.dataset =  tokenizer(datas,padding=True, truncation=True,max_length=512 ,return_tensors=\"pt\").to('cuda')\n",
    "        self.labels= torch.tensor(self.labels)\n",
    "    def __len__(self):\n",
    "        return len(self.labels)\n",
    "    \n",
    "    def __getitem__(self, idx):\n",
    "        item = {key: val[idx].clone().detach() for key, val in self.dataset.items()}\n",
    "        item['labels'] = self.labels[idx].clone().detach()\n",
    "        return item\n",
    "        # return {'input_ids' : self.dataset[idx]['input_ids'],\n",
    "        #         'attention_mask' : self.dataset[idx]['attention_mask'],\n",
    "        #         'labels' : self.labels[idx]\n",
    "        #         }"
   ]
  },
  {
   "cell_type": "code",
   "execution_count": 89,
   "metadata": {},
   "outputs": [
    {
     "name": "stderr",
     "output_type": "stream",
     "text": [
      "Some weights of BertForSequenceClassification were not initialized from the model checkpoint at bert-base-uncased and are newly initialized: ['classifier.bias', 'classifier.weight']\n",
      "You should probably TRAIN this model on a down-stream task to be able to use it for predictions and inference.\n"
     ]
    }
   ],
   "source": [
    "BASE_MODEL = 'bert-base-uncased'\n",
    "\n",
    "tokenizer = AutoTokenizer.from_pretrained(BASE_MODEL)\n",
    "model = AutoModelForSequenceClassification.from_pretrained(BASE_MODEL, num_labels=num_labels,\n",
    "           id2label=id2label, label2id=label2id, problem_type = \"multi_label_classification\").to('cuda')\n"
   ]
  },
  {
   "cell_type": "code",
   "execution_count": 142,
   "metadata": {},
   "outputs": [
    {
     "name": "stderr",
     "output_type": "stream",
     "text": [
      "9126it [00:00, 14266.44it/s]\n",
      "1014it [00:00, 13912.82it/s]\n"
     ]
    }
   ],
   "source": [
    "dataset_train = customDataset(train_data, tokenizer =tokenizer)\n",
    "dataset_valid = customDataset(valid_data, tokenizer =tokenizer)\n"
   ]
  },
  {
   "cell_type": "code",
   "execution_count": 148,
   "metadata": {},
   "outputs": [],
   "source": [
    "GLOBAL_SCORE_INDICES = range(0,17)\n",
    "CAUSE_INDICES = range(17, 25)\n",
    "def get_preds_from_logits(logits):\n",
    "    ret = np.zeros(logits.shape)\n",
    "    \n",
    "    # The first 5 columns (GLOBAL_SCORE_INDICES) are for global scores. They should be handled with a multiclass approach\n",
    "    # i.e. we fill 1 to the class with highest probability, and 0 into the other columns\n",
    "    best_class = np.argmax(logits[:, GLOBAL_SCORE_INDICES], axis=-1)\n",
    "    ret[list(range(len(ret))), best_class] = 1\n",
    "    \n",
    "    # The other columns are for causes and emotions. They should be handled with multilabel approach.\n",
    "    # i.e. we fill 1 to every class whose score is higher than some threshold\n",
    "    # In this example, we choose that threshold = 0\n",
    "    ret[:, CAUSE_INDICES] = (logits[:, CAUSE_INDICES] >= 0).astype(int)\n",
    "    \n",
    "    return ret"
   ]
  },
  {
   "cell_type": "code",
   "execution_count": 143,
   "metadata": {},
   "outputs": [],
   "source": [
    "# clf_metrics = evaluate.combine([\"accuracy\", \"f1\", \"precision\", \"recall\"])\n",
    "\n",
    "# def sigmoid(x):\n",
    "#    return 1/(1 + np.exp(-x))\n",
    "\n",
    "# def compute_metrics(eval_pred):\n",
    "\n",
    "#    predictions, labels = eval_pred\n",
    "#    predictions = sigmoid(predictions)\n",
    "#    predictions = (predictions > 0.5).astype(int).reshape(-1)\n",
    "#    return clf_metrics.compute(predictions=predictions, references=labels.astype(int).reshape(-1))"
   ]
  },
  {
   "cell_type": "code",
   "execution_count": 154,
   "metadata": {},
   "outputs": [],
   "source": [
    "def compute_metrics(eval_pred):\n",
    "    logits, labels = eval_pred\n",
    "    final_metrics = {}\n",
    "    \n",
    "    # Deduce predictions from logits\n",
    "    predictions = get_preds_from_logits(logits)\n",
    "    \n",
    "    # Get f1 metrics for global scoring. Notice that f1_micro = accuracy\n",
    "    final_metrics[\"f1_micro_for_global_score\"] = f1_score(labels[:, GLOBAL_SCORE_INDICES], predictions[:, GLOBAL_SCORE_INDICES], average=\"micro\")\n",
    "    final_metrics[\"f1_macro_for_global_score\"] = f1_score(labels[:, GLOBAL_SCORE_INDICES], predictions[:, GLOBAL_SCORE_INDICES], average=\"macro\")\n",
    "    \n",
    "    # Get f1 metrics for causes\n",
    "    final_metrics[\"f1_micro_for_causes\"] = f1_score(labels[:, CAUSE_INDICES], predictions[:, CAUSE_INDICES], average=\"micro\")\n",
    "    final_metrics[\"f1_macro_for_causes\"] = f1_score(labels[:, CAUSE_INDICES], predictions[:, CAUSE_INDICES], average=\"macro\")\n",
    "    \n",
    "\n",
    "    # The global f1_metrics\n",
    "    final_metrics[\"f1_micro\"] = f1_score(labels, predictions, average=\"micro\")\n",
    "    final_metrics[\"f1_macro\"] = f1_score(labels, predictions, average=\"macro\")\n",
    "    \n",
    "    # Classification report\n",
    "    # print(\"Classification report for global scores: \")\n",
    "    # print(classification_report(labels[:, GLOBAL_SCORE_INDICES], predictions[:, GLOBAL_SCORE_INDICES], zero_division=0))\n",
    "    # print(\"Classification report for causes: \")\n",
    "    # print(classification_report(labels[:, CAUSE_INDICES], predictions[:, CAUSE_INDICES], zero_division=0))\n",
    "    return final_metrics"
   ]
  },
  {
   "cell_type": "code",
   "execution_count": 151,
   "metadata": {},
   "outputs": [],
   "source": [
    "data_collator = DataCollatorWithPadding(tokenizer=tokenizer)"
   ]
  },
  {
   "cell_type": "code",
   "execution_count": 153,
   "metadata": {},
   "outputs": [],
   "source": [
    "class MultiTaskClassificationTrainer(Trainer):\n",
    "    def __init__(self, group_weights=None, **kwargs):\n",
    "        super().__init__(**kwargs)\n",
    "        self.group_weights = group_weights\n",
    "        \n",
    "    def compute_loss(self, model, inputs, return_outputs=False):\n",
    "        labels = inputs.pop(\"labels\")\n",
    "        outputs = model(**inputs)\n",
    "        logits = outputs[0]\n",
    "        \n",
    "        global_score_loss = torch.nn.functional.cross_entropy(logits[:, GLOBAL_SCORE_INDICES], labels[:, GLOBAL_SCORE_INDICES])\n",
    "        cause_loss = torch.nn.functional.binary_cross_entropy_with_logits(logits[:, CAUSE_INDICES], labels[:, CAUSE_INDICES])\n",
    "        \n",
    "        loss = self.group_weights[0] * global_score_loss +self.group_weights[1] * cause_loss\n",
    "        return (loss, outputs) if return_outputs else loss"
   ]
  },
  {
   "cell_type": "code",
   "execution_count": 155,
   "metadata": {},
   "outputs": [
    {
     "name": "stderr",
     "output_type": "stream",
     "text": [
      "Detected kernel version 5.4.0, which is below the recommended minimum of 5.5.0; this can cause the process to hang. It is recommended to upgrade the kernel to the minimum version or higher.\n"
     ]
    },
    {
     "data": {
      "text/html": [
       "\n",
       "    <div>\n",
       "      \n",
       "      <progress value='12168' max='12168' style='width:300px; height:20px; vertical-align: middle;'></progress>\n",
       "      [12168/12168 10:11, Epoch 4/4]\n",
       "    </div>\n",
       "    <table border=\"1\" class=\"dataframe\">\n",
       "  <thead>\n",
       " <tr style=\"text-align: left;\">\n",
       "      <th>Epoch</th>\n",
       "      <th>Training Loss</th>\n",
       "      <th>Validation Loss</th>\n",
       "      <th>F1 Micro For Global Score</th>\n",
       "      <th>F1 Macro For Global Score</th>\n",
       "      <th>F1 Micro For Causes</th>\n",
       "      <th>F1 Macro For Causes</th>\n",
       "      <th>F1 Micro</th>\n",
       "      <th>F1 Macro</th>\n",
       "    </tr>\n",
       "  </thead>\n",
       "  <tbody>\n",
       "    <tr>\n",
       "      <td>1</td>\n",
       "      <td>0.925100</td>\n",
       "      <td>3.097902</td>\n",
       "      <td>0.544379</td>\n",
       "      <td>0.147133</td>\n",
       "      <td>0.289504</td>\n",
       "      <td>0.124159</td>\n",
       "      <td>0.426901</td>\n",
       "      <td>0.139781</td>\n",
       "    </tr>\n",
       "    <tr>\n",
       "      <td>2</td>\n",
       "      <td>0.989400</td>\n",
       "      <td>3.186205</td>\n",
       "      <td>0.558185</td>\n",
       "      <td>0.156859</td>\n",
       "      <td>0.303233</td>\n",
       "      <td>0.123217</td>\n",
       "      <td>0.438514</td>\n",
       "      <td>0.146093</td>\n",
       "    </tr>\n",
       "    <tr>\n",
       "      <td>3</td>\n",
       "      <td>1.375600</td>\n",
       "      <td>2.823989</td>\n",
       "      <td>0.549310</td>\n",
       "      <td>0.152312</td>\n",
       "      <td>0.284553</td>\n",
       "      <td>0.109720</td>\n",
       "      <td>0.427733</td>\n",
       "      <td>0.138683</td>\n",
       "    </tr>\n",
       "    <tr>\n",
       "      <td>4</td>\n",
       "      <td>1.080600</td>\n",
       "      <td>3.059764</td>\n",
       "      <td>0.553254</td>\n",
       "      <td>0.150315</td>\n",
       "      <td>0.275626</td>\n",
       "      <td>0.112933</td>\n",
       "      <td>0.424419</td>\n",
       "      <td>0.138353</td>\n",
       "    </tr>\n",
       "  </tbody>\n",
       "</table><p>"
      ],
      "text/plain": [
       "<IPython.core.display.HTML object>"
      ]
     },
     "metadata": {},
     "output_type": "display_data"
    },
    {
     "name": "stderr",
     "output_type": "stream",
     "text": [
      "/home/leesk/.local/lib/python3.8/site-packages/sklearn/metrics/_classification.py:1760: UndefinedMetricWarning: F-score is ill-defined and being set to 0.0 in labels with no true nor predicted samples. Use `zero_division` parameter to control this behavior.\n",
      "  _warn_prf(average, \"true nor predicted\", \"F-score is\", len(true_sum))\n",
      "/home/leesk/.local/lib/python3.8/site-packages/sklearn/metrics/_classification.py:1760: UndefinedMetricWarning: F-score is ill-defined and being set to 0.0 in labels with no true nor predicted samples. Use `zero_division` parameter to control this behavior.\n",
      "  _warn_prf(average, \"true nor predicted\", \"F-score is\", len(true_sum))\n",
      "Checkpoint destination directory my_awesome_model/checkpoint-3042 already exists and is non-empty. Saving will proceed but saved results may be invalid.\n",
      "/home/leesk/.local/lib/python3.8/site-packages/sklearn/metrics/_classification.py:1760: UndefinedMetricWarning: F-score is ill-defined and being set to 0.0 in labels with no true nor predicted samples. Use `zero_division` parameter to control this behavior.\n",
      "  _warn_prf(average, \"true nor predicted\", \"F-score is\", len(true_sum))\n",
      "/home/leesk/.local/lib/python3.8/site-packages/sklearn/metrics/_classification.py:1760: UndefinedMetricWarning: F-score is ill-defined and being set to 0.0 in labels with no true nor predicted samples. Use `zero_division` parameter to control this behavior.\n",
      "  _warn_prf(average, \"true nor predicted\", \"F-score is\", len(true_sum))\n",
      "Checkpoint destination directory my_awesome_model/checkpoint-6084 already exists and is non-empty. Saving will proceed but saved results may be invalid.\n",
      "/home/leesk/.local/lib/python3.8/site-packages/sklearn/metrics/_classification.py:1760: UndefinedMetricWarning: F-score is ill-defined and being set to 0.0 in labels with no true nor predicted samples. Use `zero_division` parameter to control this behavior.\n",
      "  _warn_prf(average, \"true nor predicted\", \"F-score is\", len(true_sum))\n",
      "/home/leesk/.local/lib/python3.8/site-packages/sklearn/metrics/_classification.py:1760: UndefinedMetricWarning: F-score is ill-defined and being set to 0.0 in labels with no true nor predicted samples. Use `zero_division` parameter to control this behavior.\n",
      "  _warn_prf(average, \"true nor predicted\", \"F-score is\", len(true_sum))\n",
      "Checkpoint destination directory my_awesome_model/checkpoint-9126 already exists and is non-empty. Saving will proceed but saved results may be invalid.\n",
      "/home/leesk/.local/lib/python3.8/site-packages/sklearn/metrics/_classification.py:1760: UndefinedMetricWarning: F-score is ill-defined and being set to 0.0 in labels with no true nor predicted samples. Use `zero_division` parameter to control this behavior.\n",
      "  _warn_prf(average, \"true nor predicted\", \"F-score is\", len(true_sum))\n",
      "/home/leesk/.local/lib/python3.8/site-packages/sklearn/metrics/_classification.py:1760: UndefinedMetricWarning: F-score is ill-defined and being set to 0.0 in labels with no true nor predicted samples. Use `zero_division` parameter to control this behavior.\n",
      "  _warn_prf(average, \"true nor predicted\", \"F-score is\", len(true_sum))\n",
      "Checkpoint destination directory my_awesome_model/checkpoint-12168 already exists and is non-empty. Saving will proceed but saved results may be invalid.\n"
     ]
    },
    {
     "data": {
      "text/plain": [
       "TrainOutput(global_step=12168, training_loss=1.1078459283852562, metrics={'train_runtime': 611.6824, 'train_samples_per_second': 59.678, 'train_steps_per_second': 19.893, 'total_flos': 975669234935616.0, 'train_loss': 1.1078459283852562, 'epoch': 4.0})"
      ]
     },
     "execution_count": 155,
     "metadata": {},
     "output_type": "execute_result"
    }
   ],
   "source": [
    "training_args = TrainingArguments(\n",
    "\n",
    "   output_dir=\"my_awesome_model\",\n",
    "   learning_rate=2e-5,\n",
    "   per_device_train_batch_size=3,\n",
    "   per_device_eval_batch_size=3,\n",
    "   num_train_epochs=4,\n",
    "   weight_decay=0.01,\n",
    "   evaluation_strategy=\"epoch\",\n",
    "   save_strategy=\"epoch\",\n",
    "   load_best_model_at_end=True,\n",
    ")\n",
    "\n",
    "# trainer = Trainer(\n",
    "\n",
    "#    model=model,\n",
    "#    args=training_args,\n",
    "#    train_dataset=dataset_train,\n",
    "#    eval_dataset=dataset_valid,\n",
    "#    tokenizer=tokenizer,\n",
    "#    data_collator=data_collator,\n",
    "#    compute_metrics=compute_metrics,\n",
    "# )\n",
    "\n",
    "trainer = MultiTaskClassificationTrainer(\n",
    "\n",
    "   model=model,\n",
    "   args=training_args,\n",
    "   train_dataset=dataset_train,\n",
    "   eval_dataset=dataset_valid,\n",
    "   tokenizer=tokenizer,\n",
    "   data_collator=data_collator,\n",
    "   compute_metrics=compute_metrics,\n",
    "   group_weights=(0.7, 4)\n",
    ")\n",
    "\n",
    "\n",
    "\n",
    "trainer.train()\n"
   ]
  },
  {
   "cell_type": "code",
   "execution_count": null,
   "metadata": {},
   "outputs": [],
   "source": []
  }
 ],
 "metadata": {
  "kernelspec": {
   "display_name": "Python 3",
   "language": "python",
   "name": "python3"
  },
  "language_info": {
   "codemirror_mode": {
    "name": "ipython",
    "version": 3
   },
   "file_extension": ".py",
   "mimetype": "text/x-python",
   "name": "python",
   "nbconvert_exporter": "python",
   "pygments_lexer": "ipython3",
   "version": "3.8.10"
  }
 },
 "nbformat": 4,
 "nbformat_minor": 2
}
