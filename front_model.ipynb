{
 "cells": [
  {
   "cell_type": "code",
   "execution_count": 9,
   "metadata": {},
   "outputs": [],
   "source": [
    "import pandas as pd\n",
    "import pickle\n",
    "from transformers import AutoTokenizer, AutoModelForSequenceClassification, TrainingArguments, Trainer, DataCollatorWithPadding, AutoConfig\n",
    "import evaluate\n",
    "import numpy as np\n",
    "from tqdm import tqdm\n",
    "from sklearn.model_selection import train_test_split\n",
    "import torch\n",
    "from sklearn.metrics import f1_score, accuracy_score\n",
    "from sklearn.metrics import classification_report\n",
    "from customModel import customBertForSequenceClassification"
   ]
  },
  {
   "cell_type": "code",
   "execution_count": 10,
   "metadata": {},
   "outputs": [
    {
     "name": "stdout",
     "output_type": "stream",
     "text": [
      "cuda\n"
     ]
    }
   ],
   "source": [
    "device = torch.device('cuda' if torch.cuda.is_available() else 'cpu')\n",
    "print(device)"
   ]
  },
  {
   "cell_type": "markdown",
   "metadata": {},
   "source": [
    "### Data Process"
   ]
  },
  {
   "cell_type": "code",
   "execution_count": 11,
   "metadata": {},
   "outputs": [
    {
     "data": {
      "text/html": [
       "<div>\n",
       "<style scoped>\n",
       "    .dataframe tbody tr th:only-of-type {\n",
       "        vertical-align: middle;\n",
       "    }\n",
       "\n",
       "    .dataframe tbody tr th {\n",
       "        vertical-align: top;\n",
       "    }\n",
       "\n",
       "    .dataframe thead th {\n",
       "        text-align: right;\n",
       "    }\n",
       "</style>\n",
       "<table border=\"1\" class=\"dataframe\">\n",
       "  <thead>\n",
       "    <tr style=\"text-align: right;\">\n",
       "      <th></th>\n",
       "      <th>singer</th>\n",
       "      <th>song_name</th>\n",
       "      <th>index</th>\n",
       "      <th>emotion</th>\n",
       "      <th>caption</th>\n",
       "      <th>tempo</th>\n",
       "      <th>instruments</th>\n",
       "      <th>tempo(int)</th>\n",
       "      <th>tempo(category)</th>\n",
       "      <th>genre</th>\n",
       "      <th>sub_genre</th>\n",
       "    </tr>\n",
       "  </thead>\n",
       "  <tbody>\n",
       "    <tr>\n",
       "      <th>0</th>\n",
       "      <td>10,000 Maniacs</td>\n",
       "      <td>A Campfire Song</td>\n",
       "      <td>2</td>\n",
       "      <td>nostalgia</td>\n",
       "      <td>The melody is mellow and soothing, with a gent...</td>\n",
       "      <td>Tempo_135.0</td>\n",
       "      <td>['Program_-1', 'Program_16', 'Program_24', 'Pr...</td>\n",
       "      <td>135</td>\n",
       "      <td>Tempo_135</td>\n",
       "      <td>Rock</td>\n",
       "      <td>Alternative rock</td>\n",
       "    </tr>\n",
       "    <tr>\n",
       "      <th>1</th>\n",
       "      <td>101 Strings</td>\n",
       "      <td>Theme From The Godfather</td>\n",
       "      <td>3</td>\n",
       "      <td>nostalgia</td>\n",
       "      <td>Elegant and sweeping orchestral melody with a ...</td>\n",
       "      <td>Tempo_80.0</td>\n",
       "      <td>['Program_-1', 'Program_0', 'Program_12', 'Pro...</td>\n",
       "      <td>80</td>\n",
       "      <td>Tempo_75</td>\n",
       "      <td>Pop</td>\n",
       "      <td>Pop</td>\n",
       "    </tr>\n",
       "    <tr>\n",
       "      <th>2</th>\n",
       "      <td>10cc</td>\n",
       "      <td>Dreadlock Holiday</td>\n",
       "      <td>4</td>\n",
       "      <td>excitement</td>\n",
       "      <td>catchy and upbeat, featuring a memorable guita...</td>\n",
       "      <td>Tempo_103.0</td>\n",
       "      <td>['Program_-1', 'Program_0']</td>\n",
       "      <td>103</td>\n",
       "      <td>Tempo_105</td>\n",
       "      <td>Rock</td>\n",
       "      <td>Reggae rock</td>\n",
       "    </tr>\n",
       "    <tr>\n",
       "      <th>3</th>\n",
       "      <td>10cc</td>\n",
       "      <td>I'm Not In Love</td>\n",
       "      <td>5</td>\n",
       "      <td>nostalgia</td>\n",
       "      <td>A catchy and memorable tune with a simple yet ...</td>\n",
       "      <td>Tempo_65.0</td>\n",
       "      <td>['Program_-1', 'Program_0', 'Program_122', 'Pr...</td>\n",
       "      <td>65</td>\n",
       "      <td>Tempo_75</td>\n",
       "      <td>Rock</td>\n",
       "      <td>Soft rock</td>\n",
       "    </tr>\n",
       "    <tr>\n",
       "      <th>4</th>\n",
       "      <td>10cc</td>\n",
       "      <td>The Things We Do for Love</td>\n",
       "      <td>6</td>\n",
       "      <td>love</td>\n",
       "      <td>The melody is catchy and memorable, with a ble...</td>\n",
       "      <td>Tempo_111.0</td>\n",
       "      <td>['Program_-1', 'Program_0', 'Program_16', 'Pro...</td>\n",
       "      <td>111</td>\n",
       "      <td>Tempo_105</td>\n",
       "      <td>Rock</td>\n",
       "      <td>Soft rock</td>\n",
       "    </tr>\n",
       "  </tbody>\n",
       "</table>\n",
       "</div>"
      ],
      "text/plain": [
       "           singer                  song_name  index     emotion  \\\n",
       "0  10,000 Maniacs            A Campfire Song      2   nostalgia   \n",
       "1     101 Strings   Theme From The Godfather      3   nostalgia   \n",
       "2            10cc          Dreadlock Holiday      4  excitement   \n",
       "3            10cc            I'm Not In Love      5   nostalgia   \n",
       "4            10cc  The Things We Do for Love      6        love   \n",
       "\n",
       "                                             caption        tempo  \\\n",
       "0  The melody is mellow and soothing, with a gent...  Tempo_135.0   \n",
       "1  Elegant and sweeping orchestral melody with a ...   Tempo_80.0   \n",
       "2  catchy and upbeat, featuring a memorable guita...  Tempo_103.0   \n",
       "3  A catchy and memorable tune with a simple yet ...   Tempo_65.0   \n",
       "4  The melody is catchy and memorable, with a ble...  Tempo_111.0   \n",
       "\n",
       "                                         instruments  tempo(int)  \\\n",
       "0  ['Program_-1', 'Program_16', 'Program_24', 'Pr...         135   \n",
       "1  ['Program_-1', 'Program_0', 'Program_12', 'Pro...          80   \n",
       "2                        ['Program_-1', 'Program_0']         103   \n",
       "3  ['Program_-1', 'Program_0', 'Program_122', 'Pr...          65   \n",
       "4  ['Program_-1', 'Program_0', 'Program_16', 'Pro...         111   \n",
       "\n",
       "  tempo(category) genre         sub_genre  \n",
       "0       Tempo_135  Rock  Alternative rock  \n",
       "1        Tempo_75   Pop               Pop  \n",
       "2       Tempo_105  Rock       Reggae rock  \n",
       "3        Tempo_75  Rock         Soft rock  \n",
       "4       Tempo_105  Rock         Soft rock  "
      ]
     },
     "execution_count": 11,
     "metadata": {},
     "output_type": "execute_result"
    }
   ],
   "source": [
    "data = pd.read_csv('./genre_seung.csv')\n",
    "data.head()"
   ]
  },
  {
   "cell_type": "code",
   "execution_count": 12,
   "metadata": {},
   "outputs": [],
   "source": [
    "id2label_emotion = {k:l for k, l in enumerate(data.emotion.unique())}\n",
    "label2id_emotion = {l:k for k, l in enumerate(data.emotion.unique())}\n",
    "id2label_tempo = {k:l for k, l in enumerate(data['tempo(category)'].unique())}\n",
    "label2id_tempo = {l:k for k, l in enumerate(data['tempo(category)'].unique())}\n",
    "id2label_genre = {k:l for k, l in enumerate(data['genre'].unique())}\n",
    "label2id_genre = {l:k for k, l in enumerate(data['genre'].unique())}"
   ]
  },
  {
   "cell_type": "code",
   "execution_count": 13,
   "metadata": {},
   "outputs": [],
   "source": [
    "train_data, valid_data = train_test_split(data, stratify=data['emotion'],test_size= 0.1, random_state=42)"
   ]
  },
  {
   "cell_type": "code",
   "execution_count": 14,
   "metadata": {},
   "outputs": [],
   "source": [
    "class customDataset_before():\n",
    "    def __init__(self, data, tokenizer):\n",
    "        self.tokenizer = tokenizer\n",
    "        self.dataset = []\n",
    "        datas = []\n",
    "        self.labels = []\n",
    "        for idx, df in tqdm(data.iterrows()):\n",
    "            label = [0. for _ in range(num_labels)]\n",
    "            datas.append(df.caption)\n",
    "            label[label2id[df.emotion]] = 1.\n",
    "            label[label2id[df['tempo(category)']]] = 1.\n",
    "            self.labels.append(label)\n",
    "        self.dataset =  tokenizer(datas,padding=True, truncation=True,max_length=512 ,return_tensors=\"pt\").to('cuda')\n",
    "        self.labels= torch.tensor(self.labels)\n",
    "    def __len__(self):\n",
    "        return len(self.labels)\n",
    "    \n",
    "    def __getitem__(self, idx):\n",
    "        item = {key: val[idx].clone().detach() for key, val in self.dataset.items()}\n",
    "        item['labels'] = self.labels[idx].clone().detach()\n",
    "        return item\n",
    "        # return {'input_ids' : self.dataset[idx]['input_ids'],\n",
    "        #         'attention_mask' : self.dataset[idx]['attention_mask'],\n",
    "        #         'labels' : self.labels[idx]\n",
    "        #         }"
   ]
  },
  {
   "cell_type": "code",
   "execution_count": 15,
   "metadata": {},
   "outputs": [],
   "source": [
    "class customDataset_after():\n",
    "    def __init__(self, data, tokenizer):\n",
    "        self.tokenizer = tokenizer\n",
    "        self.dataset = []\n",
    "        datas = []\n",
    "        self.labels1 = []\n",
    "        self.labels2 = []\n",
    "        self.labels3 = []\n",
    "        for idx, df in tqdm(data.iterrows()):\n",
    "            label1 = [0. for _ in range(len(id2label_emotion))]\n",
    "            label2 = [0. for _ in range(len(id2label_tempo))]\n",
    "            label3 = [0. for _ in range(len(id2label_genre))]\n",
    "            datas.append(df.caption)\n",
    "            label1[label2id_emotion[df.emotion]] = 1.\n",
    "            label2[label2id_tempo[df['tempo(category)']]] = 1.\n",
    "            label3[label2id_genre[df['genre']]] = 1.\n",
    "            self.labels1.append(label1)\n",
    "            self.labels2.append(label2)\n",
    "            self.labels3.append(label3)\n",
    "        self.dataset =  tokenizer(datas,padding=True, truncation=True,max_length=512 ,return_tensors=\"pt\").to('cuda')\n",
    "        self.labels1= torch.tensor(self.labels1)\n",
    "        self.labels2= torch.tensor(self.labels2)\n",
    "        self.labels3= torch.tensor(self.labels3)\n",
    "    def __len__(self):\n",
    "        return len(self.labels1)\n",
    "    \n",
    "    def __getitem__(self, idx):\n",
    "        item = {key: val[idx].clone().detach() for key, val in self.dataset.items()}\n",
    "        item['labels1'] = self.labels1[idx].clone().detach()\n",
    "        item['labels2'] = self.labels2[idx].clone().detach()\n",
    "        item['labels3'] = self.labels3[idx].clone().detach()\n",
    "        return item"
   ]
  },
  {
   "cell_type": "code",
   "execution_count": 16,
   "metadata": {},
   "outputs": [],
   "source": [
    "# BASE_MODEL = 'bert-base-uncased'\n",
    "\n",
    "# tokenizer = AutoTokenizer.from_pretrained(BASE_MODEL)\n",
    "# model = AutoModelForSequenceClassification.from_pretrained(BASE_MODEL, num_labels=num_labels,\n",
    "#            id2label=id2label, label2id=label2id, problem_type = \"multi_label_classification\").to('cuda')\n"
   ]
  },
  {
   "cell_type": "code",
   "execution_count": 17,
   "metadata": {},
   "outputs": [
    {
     "name": "stderr",
     "output_type": "stream",
     "text": [
      "Some weights of customBertForSequenceClassification were not initialized from the model checkpoint at bert-base-uncased and are newly initialized: ['classifier1.bias', 'classifier1.weight', 'classifier2.bias', 'classifier2.weight', 'classifier3.bias', 'classifier3.weight']\n",
      "You should probably TRAIN this model on a down-stream task to be able to use it for predictions and inference.\n"
     ]
    }
   ],
   "source": [
    "BASE_MODEL = 'bert-base-uncased'\n",
    "\n",
    "tokenizer = AutoTokenizer.from_pretrained(BASE_MODEL)\n",
    "config = AutoConfig.from_pretrained(BASE_MODEL)\n",
    "config.num_labels1 = len(id2label_emotion)\n",
    "config.num_labels2 = len(id2label_tempo)\n",
    "config.num_labels3 = len(id2label_genre)\n",
    "model = customBertForSequenceClassification.from_pretrained(BASE_MODEL, config= config).to(device)\n",
    "# custom = customBertForSequenceClassification(config, num_labels1 = len(id2label_emotion), \n",
    "#                                                             num_labels2 = len(id2label_tempo), num_labels3 = len(id2label_genre))\n",
    "# model = customBertForSequenceClassification.from_pretrained(config)"
   ]
  },
  {
   "cell_type": "code",
   "execution_count": 42,
   "metadata": {},
   "outputs": [
    {
     "name": "stderr",
     "output_type": "stream",
     "text": [
      "10it [00:00, 7290.64it/s]\n",
      "10it [00:00, 8514.62it/s]\n"
     ]
    }
   ],
   "source": [
    "dataset_train = customDataset_after(train_data[:10], tokenizer =tokenizer)\n",
    "dataset_valid = customDataset_after(valid_data[:10], tokenizer =tokenizer)\n"
   ]
  },
  {
   "cell_type": "code",
   "execution_count": 19,
   "metadata": {},
   "outputs": [],
   "source": [
    "GLOBAL_SCORE_INDICES = range(0,17)\n",
    "CAUSE_INDICES = range(17, 25)\n",
    "def get_preds_from_logits(logits):\n",
    "    ret = np.zeros(logits.shape)\n",
    "    \n",
    "    # The first 5 columns (GLOBAL_SCORE_INDICES) are for global scores. They should be handled with a multiclass approach\n",
    "    # i.e. we fill 1 to the class with highest probability, and 0 into the other columns\n",
    "    best_class = np.argmax(logits[:, GLOBAL_SCORE_INDICES], axis=-1)\n",
    "    ret[list(range(len(ret))), best_class] = 1\n",
    "    \n",
    "    # The other columns are for causes and emotions. They should be handled with multilabel approach.\n",
    "    # i.e. we fill 1 to every class whose score is higher than some threshold\n",
    "    # In this example, we choose that threshold = 0\n",
    "    ret[:, CAUSE_INDICES] = (logits[:, CAUSE_INDICES] >= 0).astype(int)\n",
    "    \n",
    "    return ret"
   ]
  },
  {
   "cell_type": "code",
   "execution_count": 20,
   "metadata": {},
   "outputs": [],
   "source": [
    "# clf_metrics = evaluate.combine([\"accuracy\", \"f1\", \"precision\", \"recall\"])\n",
    "\n",
    "# def sigmoid(x):\n",
    "#    return 1/(1 + np.exp(-x))\n",
    "\n",
    "# def compute_metrics(eval_pred):\n",
    "\n",
    "#    predictions, labels = eval_pred\n",
    "#    predictions = sigmoid(predictions)\n",
    "#    predictions = (predictions > 0.5).astype(int).reshape(-1)\n",
    "#    return clf_metrics.compute(predictions=predictions, references=labels.astype(int).reshape(-1))"
   ]
  },
  {
   "cell_type": "code",
   "execution_count": 51,
   "metadata": {},
   "outputs": [],
   "source": [
    "def compute_metrics(eval_pred):\n",
    "    logits, labels = eval_pred\n",
    "    final_metrics = {}\n",
    "    \n",
    "    # Deduce predictions from logits\n",
    "    predictions = get_preds_from_logits(logits)\n",
    "    \n",
    "    # Get f1 metrics for global scoring. Notice that f1_micro = accuracy\n",
    "    final_metrics[\"f1_micro_for_global_score\"] = f1_score(labels[:, GLOBAL_SCORE_INDICES], predictions[:, GLOBAL_SCORE_INDICES], average=\"micro\")\n",
    "    final_metrics[\"f1_macro_for_global_score\"] = f1_score(labels[:, GLOBAL_SCORE_INDICES], predictions[:, GLOBAL_SCORE_INDICES], average=\"macro\")\n",
    "    \n",
    "    # Get f1 metrics for causes\n",
    "    final_metrics[\"f1_micro_for_causes\"] = f1_score(labels[:, CAUSE_INDICES], predictions[:, CAUSE_INDICES], average=\"micro\")\n",
    "    final_metrics[\"f1_macro_for_causes\"] = f1_score(labels[:, CAUSE_INDICES], predictions[:, CAUSE_INDICES], average=\"macro\")\n",
    "    \n",
    "\n",
    "    # The global f1_metrics\n",
    "    final_metrics[\"f1_micro\"] = f1_score(labels, predictions, average=\"micro\")\n",
    "    final_metrics[\"f1_macro\"] = f1_score(labels, predictions, average=\"macro\")\n",
    "    \n",
    "    # Classification report\n",
    "    # print(\"Classification report for global scores: \")\n",
    "    # print(classification_report(labels[:, GLOBAL_SCORE_INDICES], predictions[:, GLOBAL_SCORE_INDICES], zero_division=0))\n",
    "    # print(\"Classification report for causes: \")\n",
    "    # print(classification_report(labels[:, CAUSE_INDICES], predictions[:, CAUSE_INDICES], zero_division=0))\n",
    "    return final_metrics"
   ]
  },
  {
   "cell_type": "code",
   "execution_count": 22,
   "metadata": {},
   "outputs": [],
   "source": [
    "data_collator = DataCollatorWithPadding(tokenizer=tokenizer)"
   ]
  },
  {
   "cell_type": "code",
   "execution_count": 23,
   "metadata": {},
   "outputs": [],
   "source": [
    "class MultiTaskClassificationTrainer(Trainer):\n",
    "    def __init__(self, group_weights=None, **kwargs):\n",
    "        super().__init__(**kwargs)\n",
    "        self.group_weights = group_weights\n",
    "        \n",
    "    def compute_loss(self, model, inputs, return_outputs=False):\n",
    "        labels = inputs.pop(\"labels\")\n",
    "        outputs = model(**inputs)\n",
    "        logits = outputs[0]\n",
    "        \n",
    "        global_score_loss = torch.nn.functional.cross_entropy(logits[:, GLOBAL_SCORE_INDICES], labels[:, GLOBAL_SCORE_INDICES])\n",
    "        cause_loss = torch.nn.functional.binary_cross_entropy_with_logits(logits[:, CAUSE_INDICES], labels[:, CAUSE_INDICES])\n",
    "        \n",
    "        loss = self.group_weights[0] * global_score_loss +self.group_weights[1] * cause_loss\n",
    "        return (loss, outputs) if return_outputs else loss"
   ]
  },
  {
   "cell_type": "code",
   "execution_count": 29,
   "metadata": {},
   "outputs": [
    {
     "ename": "KeyError",
     "evalue": "0",
     "output_type": "error",
     "traceback": [
      "\u001b[0;31m---------------------------------------------------------------------------\u001b[0m",
      "\u001b[0;31mKeyError\u001b[0m                                  Traceback (most recent call last)",
      "Cell \u001b[0;32mIn[29], line 2\u001b[0m\n\u001b[1;32m      1\u001b[0m train_dataset\u001b[38;5;241m=\u001b[39mdataset_train[:\u001b[38;5;241m10\u001b[39m]\n\u001b[0;32m----> 2\u001b[0m \u001b[43mtrain_dataset\u001b[49m\u001b[43m[\u001b[49m\u001b[38;5;241;43m0\u001b[39;49m\u001b[43m]\u001b[49m\n",
      "\u001b[0;31mKeyError\u001b[0m: 0"
     ]
    }
   ],
   "source": [
    "train_dataset=dataset_train[:10]\n",
    "train_dataset[0]"
   ]
  },
  {
   "cell_type": "code",
   "execution_count": 52,
   "metadata": {},
   "outputs": [
    {
     "name": "stderr",
     "output_type": "stream",
     "text": [
      "Detected kernel version 5.4.0, which is below the recommended minimum of 5.5.0; this can cause the process to hang. It is recommended to upgrade the kernel to the minimum version or higher.\n"
     ]
    },
    {
     "data": {
      "text/html": [
       "\n",
       "    <div>\n",
       "      \n",
       "      <progress value='5' max='4' style='width:300px; height:20px; vertical-align: middle;'></progress>\n",
       "      [4/4 00:00, Epoch 1/1]\n",
       "    </div>\n",
       "    <table border=\"1\" class=\"dataframe\">\n",
       "  <thead>\n",
       " <tr style=\"text-align: left;\">\n",
       "      <th>Epoch</th>\n",
       "      <th>Training Loss</th>\n",
       "      <th>Validation Loss</th>\n",
       "    </tr>\n",
       "  </thead>\n",
       "  <tbody>\n",
       "  </tbody>\n",
       "</table><p>\n",
       "    <div>\n",
       "      \n",
       "      <progress value='4' max='4' style='width:300px; height:20px; vertical-align: middle;'></progress>\n",
       "      [4/4 00:00]\n",
       "    </div>\n",
       "    "
      ],
      "text/plain": [
       "<IPython.core.display.HTML object>"
      ]
     },
     "metadata": {},
     "output_type": "display_data"
    },
    {
     "name": "stdout",
     "output_type": "stream",
     "text": [
      "3 [[0. 0. 1. 0. 0. 0. 0. 0. 0. 0.]\n",
      " [0. 0. 1. 0. 0. 0. 0. 0. 0. 0.]\n",
      " [0. 0. 0. 0. 0. 1. 0. 0. 0. 0.]\n",
      " [0. 1. 0. 0. 0. 0. 0. 0. 0. 0.]\n",
      " [0. 0. 1. 0. 0. 0. 0. 0. 0. 0.]\n",
      " [0. 0. 0. 0. 1. 0. 0. 0. 0. 0.]\n",
      " [1. 0. 0. 0. 0. 0. 0. 0. 0. 0.]\n",
      " [0. 0. 1. 0. 0. 0. 0. 0. 0. 0.]\n",
      " [1. 0. 0. 0. 0. 0. 0. 0. 0. 0.]\n",
      " [0. 0. 0. 1. 0. 0. 0. 0. 0. 0.]]\n",
      "3 [[-0.45201775 -0.13388656 -0.47873458 -0.43306145 -0.71649426 -1.0870479\n",
      "  -0.79251045 -0.79158014 -0.42986917 -0.7733262 ]\n",
      " [-0.49111006 -0.20802103 -0.41549543 -0.79904896 -0.87623686 -1.148113\n",
      "  -0.9874136  -0.8512178  -0.41627786 -1.0011503 ]\n",
      " [-0.48435283 -0.2232695  -0.57035136 -0.5737782  -0.79568565 -1.0543053\n",
      "  -0.8826895  -0.9187193  -0.32404786 -0.81632525]\n",
      " [-0.43533346 -0.02724187 -0.51592433 -0.3013504  -0.750411   -1.0393006\n",
      "  -0.74203485 -0.8200394  -0.23630384 -0.8503291 ]\n",
      " [-0.47505826 -0.24872066 -0.41201052 -0.5929998  -0.78251266 -1.058842\n",
      "  -0.92945784 -0.88612205 -0.43651113 -0.96625745]\n",
      " [-0.48051727 -0.19800527 -0.60216    -0.68066216 -0.9270049  -1.1762646\n",
      "  -0.89637893 -0.88206774 -0.2583242  -0.8698168 ]\n",
      " [-0.5174374  -0.27373013 -0.4666163  -0.78276694 -0.8151918  -1.0989243\n",
      "  -0.9264361  -0.84222037 -0.42215303 -0.94199276]\n",
      " [-0.46011764  0.00550375 -0.47766292 -0.43806836 -0.7686153  -1.0086778\n",
      "  -0.72811854 -0.819019   -0.36862135 -0.78170335]\n",
      " [-0.4931893  -0.23056379 -0.46231306 -0.74402004 -0.82996666 -1.1441114\n",
      "  -0.9298489  -0.87847656 -0.3954788  -0.96905994]\n",
      " [-0.48120445 -0.12186798 -0.42812806 -0.49710983 -0.6719169  -0.9949473\n",
      "  -0.8993948  -0.8266204  -0.3618435  -0.9754436 ]]\n"
     ]
    },
    {
     "ename": "AttributeError",
     "evalue": "'tuple' object has no attribute 'shape'",
     "output_type": "error",
     "traceback": [
      "\u001b[0;31m---------------------------------------------------------------------------\u001b[0m",
      "\u001b[0;31mAttributeError\u001b[0m                            Traceback (most recent call last)",
      "Cell \u001b[0;32mIn[52], line 39\u001b[0m\n\u001b[1;32m     14\u001b[0m trainer \u001b[38;5;241m=\u001b[39m Trainer(\n\u001b[1;32m     15\u001b[0m \n\u001b[1;32m     16\u001b[0m    model\u001b[38;5;241m=\u001b[39mmodel,\n\u001b[0;32m   (...)\u001b[0m\n\u001b[1;32m     22\u001b[0m    compute_metrics\u001b[38;5;241m=\u001b[39mcompute_metrics,\n\u001b[1;32m     23\u001b[0m )\n\u001b[1;32m     25\u001b[0m \u001b[38;5;66;03m# trainer = MultiTaskClassificationTrainer(\u001b[39;00m\n\u001b[1;32m     26\u001b[0m \n\u001b[1;32m     27\u001b[0m \u001b[38;5;66;03m#    model=model,\u001b[39;00m\n\u001b[0;32m   (...)\u001b[0m\n\u001b[1;32m     34\u001b[0m \u001b[38;5;66;03m#    group_weights=(0.7, 4)\u001b[39;00m\n\u001b[1;32m     35\u001b[0m \u001b[38;5;66;03m# )\u001b[39;00m\n\u001b[0;32m---> 39\u001b[0m \u001b[43mtrainer\u001b[49m\u001b[38;5;241;43m.\u001b[39;49m\u001b[43mtrain\u001b[49m\u001b[43m(\u001b[49m\u001b[43m)\u001b[49m\n",
      "File \u001b[0;32m~/.local/lib/python3.8/site-packages/transformers/trainer.py:1624\u001b[0m, in \u001b[0;36mTrainer.train\u001b[0;34m(self, resume_from_checkpoint, trial, ignore_keys_for_eval, **kwargs)\u001b[0m\n\u001b[1;32m   1622\u001b[0m         hf_hub_utils\u001b[38;5;241m.\u001b[39menable_progress_bars()\n\u001b[1;32m   1623\u001b[0m \u001b[38;5;28;01melse\u001b[39;00m:\n\u001b[0;32m-> 1624\u001b[0m     \u001b[38;5;28;01mreturn\u001b[39;00m \u001b[43minner_training_loop\u001b[49m\u001b[43m(\u001b[49m\n\u001b[1;32m   1625\u001b[0m \u001b[43m        \u001b[49m\u001b[43margs\u001b[49m\u001b[38;5;241;43m=\u001b[39;49m\u001b[43margs\u001b[49m\u001b[43m,\u001b[49m\n\u001b[1;32m   1626\u001b[0m \u001b[43m        \u001b[49m\u001b[43mresume_from_checkpoint\u001b[49m\u001b[38;5;241;43m=\u001b[39;49m\u001b[43mresume_from_checkpoint\u001b[49m\u001b[43m,\u001b[49m\n\u001b[1;32m   1627\u001b[0m \u001b[43m        \u001b[49m\u001b[43mtrial\u001b[49m\u001b[38;5;241;43m=\u001b[39;49m\u001b[43mtrial\u001b[49m\u001b[43m,\u001b[49m\n\u001b[1;32m   1628\u001b[0m \u001b[43m        \u001b[49m\u001b[43mignore_keys_for_eval\u001b[49m\u001b[38;5;241;43m=\u001b[39;49m\u001b[43mignore_keys_for_eval\u001b[49m\u001b[43m,\u001b[49m\n\u001b[1;32m   1629\u001b[0m \u001b[43m    \u001b[49m\u001b[43m)\u001b[49m\n",
      "File \u001b[0;32m~/.local/lib/python3.8/site-packages/transformers/trainer.py:2049\u001b[0m, in \u001b[0;36mTrainer._inner_training_loop\u001b[0;34m(self, batch_size, args, resume_from_checkpoint, trial, ignore_keys_for_eval)\u001b[0m\n\u001b[1;32m   2046\u001b[0m     \u001b[38;5;28mself\u001b[39m\u001b[38;5;241m.\u001b[39mcontrol\u001b[38;5;241m.\u001b[39mshould_training_stop \u001b[38;5;241m=\u001b[39m \u001b[38;5;28;01mTrue\u001b[39;00m\n\u001b[1;32m   2048\u001b[0m \u001b[38;5;28mself\u001b[39m\u001b[38;5;241m.\u001b[39mcontrol \u001b[38;5;241m=\u001b[39m \u001b[38;5;28mself\u001b[39m\u001b[38;5;241m.\u001b[39mcallback_handler\u001b[38;5;241m.\u001b[39mon_epoch_end(args, \u001b[38;5;28mself\u001b[39m\u001b[38;5;241m.\u001b[39mstate, \u001b[38;5;28mself\u001b[39m\u001b[38;5;241m.\u001b[39mcontrol)\n\u001b[0;32m-> 2049\u001b[0m \u001b[38;5;28;43mself\u001b[39;49m\u001b[38;5;241;43m.\u001b[39;49m\u001b[43m_maybe_log_save_evaluate\u001b[49m\u001b[43m(\u001b[49m\u001b[43mtr_loss\u001b[49m\u001b[43m,\u001b[49m\u001b[43m \u001b[49m\u001b[43mgrad_norm\u001b[49m\u001b[43m,\u001b[49m\u001b[43m \u001b[49m\u001b[43mmodel\u001b[49m\u001b[43m,\u001b[49m\u001b[43m \u001b[49m\u001b[43mtrial\u001b[49m\u001b[43m,\u001b[49m\u001b[43m \u001b[49m\u001b[43mepoch\u001b[49m\u001b[43m,\u001b[49m\u001b[43m \u001b[49m\u001b[43mignore_keys_for_eval\u001b[49m\u001b[43m)\u001b[49m\n\u001b[1;32m   2051\u001b[0m \u001b[38;5;28;01mif\u001b[39;00m DebugOption\u001b[38;5;241m.\u001b[39mTPU_METRICS_DEBUG \u001b[38;5;129;01min\u001b[39;00m \u001b[38;5;28mself\u001b[39m\u001b[38;5;241m.\u001b[39margs\u001b[38;5;241m.\u001b[39mdebug:\n\u001b[1;32m   2052\u001b[0m     \u001b[38;5;28;01mif\u001b[39;00m is_torch_tpu_available():\n\u001b[1;32m   2053\u001b[0m         \u001b[38;5;66;03m# tpu-comment: Logging debug metrics for PyTorch/XLA (compile, execute times, ops, etc.)\u001b[39;00m\n",
      "File \u001b[0;32m~/.local/lib/python3.8/site-packages/transformers/trainer.py:2412\u001b[0m, in \u001b[0;36mTrainer._maybe_log_save_evaluate\u001b[0;34m(self, tr_loss, grad_norm, model, trial, epoch, ignore_keys_for_eval)\u001b[0m\n\u001b[1;32m   2410\u001b[0m metrics \u001b[38;5;241m=\u001b[39m \u001b[38;5;28;01mNone\u001b[39;00m\n\u001b[1;32m   2411\u001b[0m \u001b[38;5;28;01mif\u001b[39;00m \u001b[38;5;28mself\u001b[39m\u001b[38;5;241m.\u001b[39mcontrol\u001b[38;5;241m.\u001b[39mshould_evaluate:\n\u001b[0;32m-> 2412\u001b[0m     metrics \u001b[38;5;241m=\u001b[39m \u001b[38;5;28;43mself\u001b[39;49m\u001b[38;5;241;43m.\u001b[39;49m\u001b[43mevaluate\u001b[49m\u001b[43m(\u001b[49m\u001b[43mignore_keys\u001b[49m\u001b[38;5;241;43m=\u001b[39;49m\u001b[43mignore_keys_for_eval\u001b[49m\u001b[43m)\u001b[49m\n\u001b[1;32m   2413\u001b[0m     \u001b[38;5;28mself\u001b[39m\u001b[38;5;241m.\u001b[39m_report_to_hp_search(trial, \u001b[38;5;28mself\u001b[39m\u001b[38;5;241m.\u001b[39mstate\u001b[38;5;241m.\u001b[39mglobal_step, metrics)\n\u001b[1;32m   2415\u001b[0m     \u001b[38;5;66;03m# Run delayed LR scheduler now that metrics are populated\u001b[39;00m\n",
      "File \u001b[0;32m~/.local/lib/python3.8/site-packages/transformers/trainer.py:3229\u001b[0m, in \u001b[0;36mTrainer.evaluate\u001b[0;34m(self, eval_dataset, ignore_keys, metric_key_prefix)\u001b[0m\n\u001b[1;32m   3226\u001b[0m start_time \u001b[38;5;241m=\u001b[39m time\u001b[38;5;241m.\u001b[39mtime()\n\u001b[1;32m   3228\u001b[0m eval_loop \u001b[38;5;241m=\u001b[39m \u001b[38;5;28mself\u001b[39m\u001b[38;5;241m.\u001b[39mprediction_loop \u001b[38;5;28;01mif\u001b[39;00m \u001b[38;5;28mself\u001b[39m\u001b[38;5;241m.\u001b[39margs\u001b[38;5;241m.\u001b[39muse_legacy_prediction_loop \u001b[38;5;28;01melse\u001b[39;00m \u001b[38;5;28mself\u001b[39m\u001b[38;5;241m.\u001b[39mevaluation_loop\n\u001b[0;32m-> 3229\u001b[0m output \u001b[38;5;241m=\u001b[39m \u001b[43meval_loop\u001b[49m\u001b[43m(\u001b[49m\n\u001b[1;32m   3230\u001b[0m \u001b[43m    \u001b[49m\u001b[43meval_dataloader\u001b[49m\u001b[43m,\u001b[49m\n\u001b[1;32m   3231\u001b[0m \u001b[43m    \u001b[49m\u001b[43mdescription\u001b[49m\u001b[38;5;241;43m=\u001b[39;49m\u001b[38;5;124;43m\"\u001b[39;49m\u001b[38;5;124;43mEvaluation\u001b[39;49m\u001b[38;5;124;43m\"\u001b[39;49m\u001b[43m,\u001b[49m\n\u001b[1;32m   3232\u001b[0m \u001b[43m    \u001b[49m\u001b[38;5;66;43;03m# No point gathering the predictions if there are no metrics, otherwise we defer to\u001b[39;49;00m\n\u001b[1;32m   3233\u001b[0m \u001b[43m    \u001b[49m\u001b[38;5;66;43;03m# self.args.prediction_loss_only\u001b[39;49;00m\n\u001b[1;32m   3234\u001b[0m \u001b[43m    \u001b[49m\u001b[43mprediction_loss_only\u001b[49m\u001b[38;5;241;43m=\u001b[39;49m\u001b[38;5;28;43;01mTrue\u001b[39;49;00m\u001b[43m \u001b[49m\u001b[38;5;28;43;01mif\u001b[39;49;00m\u001b[43m \u001b[49m\u001b[38;5;28;43mself\u001b[39;49m\u001b[38;5;241;43m.\u001b[39;49m\u001b[43mcompute_metrics\u001b[49m\u001b[43m \u001b[49m\u001b[38;5;129;43;01mis\u001b[39;49;00m\u001b[43m \u001b[49m\u001b[38;5;28;43;01mNone\u001b[39;49;00m\u001b[43m \u001b[49m\u001b[38;5;28;43;01melse\u001b[39;49;00m\u001b[43m \u001b[49m\u001b[38;5;28;43;01mNone\u001b[39;49;00m\u001b[43m,\u001b[49m\n\u001b[1;32m   3235\u001b[0m \u001b[43m    \u001b[49m\u001b[43mignore_keys\u001b[49m\u001b[38;5;241;43m=\u001b[39;49m\u001b[43mignore_keys\u001b[49m\u001b[43m,\u001b[49m\n\u001b[1;32m   3236\u001b[0m \u001b[43m    \u001b[49m\u001b[43mmetric_key_prefix\u001b[49m\u001b[38;5;241;43m=\u001b[39;49m\u001b[43mmetric_key_prefix\u001b[49m\u001b[43m,\u001b[49m\n\u001b[1;32m   3237\u001b[0m \u001b[43m\u001b[49m\u001b[43m)\u001b[49m\n\u001b[1;32m   3239\u001b[0m total_batch_size \u001b[38;5;241m=\u001b[39m \u001b[38;5;28mself\u001b[39m\u001b[38;5;241m.\u001b[39margs\u001b[38;5;241m.\u001b[39meval_batch_size \u001b[38;5;241m*\u001b[39m \u001b[38;5;28mself\u001b[39m\u001b[38;5;241m.\u001b[39margs\u001b[38;5;241m.\u001b[39mworld_size\n\u001b[1;32m   3240\u001b[0m \u001b[38;5;28;01mif\u001b[39;00m \u001b[38;5;124mf\u001b[39m\u001b[38;5;124m\"\u001b[39m\u001b[38;5;132;01m{\u001b[39;00mmetric_key_prefix\u001b[38;5;132;01m}\u001b[39;00m\u001b[38;5;124m_jit_compilation_time\u001b[39m\u001b[38;5;124m\"\u001b[39m \u001b[38;5;129;01min\u001b[39;00m output\u001b[38;5;241m.\u001b[39mmetrics:\n",
      "File \u001b[0;32m~/.local/lib/python3.8/site-packages/transformers/trainer.py:3520\u001b[0m, in \u001b[0;36mTrainer.evaluation_loop\u001b[0;34m(self, dataloader, description, prediction_loss_only, ignore_keys, metric_key_prefix)\u001b[0m\n\u001b[1;32m   3516\u001b[0m         metrics \u001b[38;5;241m=\u001b[39m \u001b[38;5;28mself\u001b[39m\u001b[38;5;241m.\u001b[39mcompute_metrics(\n\u001b[1;32m   3517\u001b[0m             EvalPrediction(predictions\u001b[38;5;241m=\u001b[39mall_preds, label_ids\u001b[38;5;241m=\u001b[39mall_labels, inputs\u001b[38;5;241m=\u001b[39mall_inputs)\n\u001b[1;32m   3518\u001b[0m         )\n\u001b[1;32m   3519\u001b[0m     \u001b[38;5;28;01melse\u001b[39;00m:\n\u001b[0;32m-> 3520\u001b[0m         metrics \u001b[38;5;241m=\u001b[39m \u001b[38;5;28;43mself\u001b[39;49m\u001b[38;5;241;43m.\u001b[39;49m\u001b[43mcompute_metrics\u001b[49m\u001b[43m(\u001b[49m\u001b[43mEvalPrediction\u001b[49m\u001b[43m(\u001b[49m\u001b[43mpredictions\u001b[49m\u001b[38;5;241;43m=\u001b[39;49m\u001b[43mall_preds\u001b[49m\u001b[43m,\u001b[49m\u001b[43m \u001b[49m\u001b[43mlabel_ids\u001b[49m\u001b[38;5;241;43m=\u001b[39;49m\u001b[43mall_labels\u001b[49m\u001b[43m)\u001b[49m\u001b[43m)\u001b[49m\n\u001b[1;32m   3521\u001b[0m \u001b[38;5;28;01melse\u001b[39;00m:\n\u001b[1;32m   3522\u001b[0m     metrics \u001b[38;5;241m=\u001b[39m {}\n",
      "Cell \u001b[0;32mIn[51], line 8\u001b[0m, in \u001b[0;36mcompute_metrics\u001b[0;34m(eval_pred)\u001b[0m\n\u001b[1;32m      5\u001b[0m final_metrics \u001b[38;5;241m=\u001b[39m {}\n\u001b[1;32m      7\u001b[0m \u001b[38;5;66;03m# Deduce predictions from logits\u001b[39;00m\n\u001b[0;32m----> 8\u001b[0m predictions \u001b[38;5;241m=\u001b[39m \u001b[43mget_preds_from_logits\u001b[49m\u001b[43m(\u001b[49m\u001b[43mlogits\u001b[49m\u001b[43m)\u001b[49m\n\u001b[1;32m     10\u001b[0m \u001b[38;5;66;03m# Get f1 metrics for global scoring. Notice that f1_micro = accuracy\u001b[39;00m\n\u001b[1;32m     11\u001b[0m final_metrics[\u001b[38;5;124m\"\u001b[39m\u001b[38;5;124mf1_micro_for_global_score\u001b[39m\u001b[38;5;124m\"\u001b[39m] \u001b[38;5;241m=\u001b[39m f1_score(labels[:, GLOBAL_SCORE_INDICES], predictions[:, GLOBAL_SCORE_INDICES], average\u001b[38;5;241m=\u001b[39m\u001b[38;5;124m\"\u001b[39m\u001b[38;5;124mmicro\u001b[39m\u001b[38;5;124m\"\u001b[39m)\n",
      "Cell \u001b[0;32mIn[19], line 4\u001b[0m, in \u001b[0;36mget_preds_from_logits\u001b[0;34m(logits)\u001b[0m\n\u001b[1;32m      3\u001b[0m \u001b[38;5;28;01mdef\u001b[39;00m \u001b[38;5;21mget_preds_from_logits\u001b[39m(logits):\n\u001b[0;32m----> 4\u001b[0m     ret \u001b[38;5;241m=\u001b[39m np\u001b[38;5;241m.\u001b[39mzeros(\u001b[43mlogits\u001b[49m\u001b[38;5;241;43m.\u001b[39;49m\u001b[43mshape\u001b[49m)\n\u001b[1;32m      6\u001b[0m     \u001b[38;5;66;03m# The first 5 columns (GLOBAL_SCORE_INDICES) are for global scores. They should be handled with a multiclass approach\u001b[39;00m\n\u001b[1;32m      7\u001b[0m     \u001b[38;5;66;03m# i.e. we fill 1 to the class with highest probability, and 0 into the other columns\u001b[39;00m\n\u001b[1;32m      8\u001b[0m     best_class \u001b[38;5;241m=\u001b[39m np\u001b[38;5;241m.\u001b[39margmax(logits[:, GLOBAL_SCORE_INDICES], axis\u001b[38;5;241m=\u001b[39m\u001b[38;5;241m-\u001b[39m\u001b[38;5;241m1\u001b[39m)\n",
      "\u001b[0;31mAttributeError\u001b[0m: 'tuple' object has no attribute 'shape'"
     ]
    }
   ],
   "source": [
    "training_args = TrainingArguments(\n",
    "\n",
    "   output_dir=\"my_awesome_model\",\n",
    "   learning_rate=2e-5,\n",
    "   per_device_train_batch_size=3,\n",
    "   per_device_eval_batch_size=3,\n",
    "   num_train_epochs=1,\n",
    "   weight_decay=0.01,\n",
    "   evaluation_strategy=\"epoch\",\n",
    "   save_strategy=\"epoch\",\n",
    "   load_best_model_at_end=True,\n",
    ")\n",
    "\n",
    "trainer = Trainer(\n",
    "\n",
    "   model=model,\n",
    "   args=training_args,\n",
    "   train_dataset=dataset_train,\n",
    "   eval_dataset=dataset_valid,\n",
    "   tokenizer=tokenizer,\n",
    "   data_collator=data_collator,\n",
    "   compute_metrics=compute_metrics,\n",
    ")\n",
    "\n",
    "# trainer = MultiTaskClassificationTrainer(\n",
    "\n",
    "#    model=model,\n",
    "#    args=training_args,\n",
    "#    train_dataset=dataset_train,\n",
    "#    eval_dataset=dataset_valid,\n",
    "#    tokenizer=tokenizer,\n",
    "#    data_collator=data_collator,\n",
    "#    compute_metrics=compute_metrics,\n",
    "#    group_weights=(0.7, 4)\n",
    "# )\n",
    "\n",
    "\n",
    "\n",
    "trainer.train()\n"
   ]
  }
 ],
 "metadata": {
  "kernelspec": {
   "display_name": "Python 3",
   "language": "python",
   "name": "python3"
  },
  "language_info": {
   "codemirror_mode": {
    "name": "ipython",
    "version": 3
   },
   "file_extension": ".py",
   "mimetype": "text/x-python",
   "name": "python",
   "nbconvert_exporter": "python",
   "pygments_lexer": "ipython3",
   "version": "3.8.10"
  }
 },
 "nbformat": 4,
 "nbformat_minor": 2
}
