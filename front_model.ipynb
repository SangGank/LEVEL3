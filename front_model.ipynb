{
 "cells": [
  {
   "cell_type": "code",
   "execution_count": 1,
   "metadata": {},
   "outputs": [
    {
     "name": "stderr",
     "output_type": "stream",
     "text": [
      "/usr/lib/python3/dist-packages/requests/__init__.py:89: RequestsDependencyWarning: urllib3 (2.2.1) or chardet (3.0.4) doesn't match a supported version!\n",
      "  warnings.warn(\"urllib3 ({}) or chardet ({}) doesn't match a supported \"\n",
      "/home/leesk/.local/lib/python3.8/site-packages/tqdm/auto.py:21: TqdmWarning: IProgress not found. Please update jupyter and ipywidgets. See https://ipywidgets.readthedocs.io/en/stable/user_install.html\n",
      "  from .autonotebook import tqdm as notebook_tqdm\n"
     ]
    }
   ],
   "source": [
    "import pandas as pd\n",
    "import pickle\n",
    "from transformers import AutoTokenizer, AutoModelForSequenceClassification, TrainingArguments, Trainer, DataCollatorWithPadding, AutoConfig\n",
    "import evaluate\n",
    "import numpy as np\n",
    "from tqdm import tqdm\n",
    "from sklearn.model_selection import train_test_split\n",
    "import torch\n",
    "from sklearn.metrics import f1_score, accuracy_score\n",
    "from sklearn.metrics import classification_report\n",
    "from customModel import customBertForSequenceClassification"
   ]
  },
  {
   "cell_type": "code",
   "execution_count": 2,
   "metadata": {},
   "outputs": [
    {
     "name": "stdout",
     "output_type": "stream",
     "text": [
      "cuda\n"
     ]
    }
   ],
   "source": [
    "device = torch.device('cuda' if torch.cuda.is_available() else 'cpu')\n",
    "print(device)"
   ]
  },
  {
   "cell_type": "markdown",
   "metadata": {},
   "source": [
    "### Data Process"
   ]
  },
  {
   "cell_type": "code",
   "execution_count": 3,
   "metadata": {},
   "outputs": [
    {
     "data": {
      "text/html": [
       "<div>\n",
       "<style scoped>\n",
       "    .dataframe tbody tr th:only-of-type {\n",
       "        vertical-align: middle;\n",
       "    }\n",
       "\n",
       "    .dataframe tbody tr th {\n",
       "        vertical-align: top;\n",
       "    }\n",
       "\n",
       "    .dataframe thead th {\n",
       "        text-align: right;\n",
       "    }\n",
       "</style>\n",
       "<table border=\"1\" class=\"dataframe\">\n",
       "  <thead>\n",
       "    <tr style=\"text-align: right;\">\n",
       "      <th></th>\n",
       "      <th>singer</th>\n",
       "      <th>song_name</th>\n",
       "      <th>index</th>\n",
       "      <th>emotion</th>\n",
       "      <th>caption</th>\n",
       "      <th>tempo</th>\n",
       "      <th>instruments</th>\n",
       "      <th>tempo(int)</th>\n",
       "      <th>tempo(category)</th>\n",
       "      <th>genre</th>\n",
       "      <th>sub_genre</th>\n",
       "    </tr>\n",
       "  </thead>\n",
       "  <tbody>\n",
       "    <tr>\n",
       "      <th>0</th>\n",
       "      <td>10,000 Maniacs</td>\n",
       "      <td>A Campfire Song</td>\n",
       "      <td>2</td>\n",
       "      <td>nostalgia</td>\n",
       "      <td>The melody is mellow and soothing, with a gent...</td>\n",
       "      <td>Tempo_135.0</td>\n",
       "      <td>['Program_-1', 'Program_16', 'Program_24', 'Pr...</td>\n",
       "      <td>135</td>\n",
       "      <td>Tempo_135</td>\n",
       "      <td>Rock</td>\n",
       "      <td>Alternative rock</td>\n",
       "    </tr>\n",
       "    <tr>\n",
       "      <th>1</th>\n",
       "      <td>101 Strings</td>\n",
       "      <td>Theme From The Godfather</td>\n",
       "      <td>3</td>\n",
       "      <td>nostalgia</td>\n",
       "      <td>Elegant and sweeping orchestral melody with a ...</td>\n",
       "      <td>Tempo_80.0</td>\n",
       "      <td>['Program_-1', 'Program_0', 'Program_12', 'Pro...</td>\n",
       "      <td>80</td>\n",
       "      <td>Tempo_75</td>\n",
       "      <td>Pop</td>\n",
       "      <td>Pop</td>\n",
       "    </tr>\n",
       "    <tr>\n",
       "      <th>2</th>\n",
       "      <td>10cc</td>\n",
       "      <td>Dreadlock Holiday</td>\n",
       "      <td>4</td>\n",
       "      <td>excitement</td>\n",
       "      <td>catchy and upbeat, featuring a memorable guita...</td>\n",
       "      <td>Tempo_103.0</td>\n",
       "      <td>['Program_-1', 'Program_0']</td>\n",
       "      <td>103</td>\n",
       "      <td>Tempo_105</td>\n",
       "      <td>Rock</td>\n",
       "      <td>Reggae rock</td>\n",
       "    </tr>\n",
       "    <tr>\n",
       "      <th>3</th>\n",
       "      <td>10cc</td>\n",
       "      <td>I'm Not In Love</td>\n",
       "      <td>5</td>\n",
       "      <td>nostalgia</td>\n",
       "      <td>A catchy and memorable tune with a simple yet ...</td>\n",
       "      <td>Tempo_65.0</td>\n",
       "      <td>['Program_-1', 'Program_0', 'Program_122', 'Pr...</td>\n",
       "      <td>65</td>\n",
       "      <td>Tempo_75</td>\n",
       "      <td>Rock</td>\n",
       "      <td>Soft rock</td>\n",
       "    </tr>\n",
       "    <tr>\n",
       "      <th>4</th>\n",
       "      <td>10cc</td>\n",
       "      <td>The Things We Do for Love</td>\n",
       "      <td>6</td>\n",
       "      <td>love</td>\n",
       "      <td>The melody is catchy and memorable, with a ble...</td>\n",
       "      <td>Tempo_111.0</td>\n",
       "      <td>['Program_-1', 'Program_0', 'Program_16', 'Pro...</td>\n",
       "      <td>111</td>\n",
       "      <td>Tempo_105</td>\n",
       "      <td>Rock</td>\n",
       "      <td>Soft rock</td>\n",
       "    </tr>\n",
       "  </tbody>\n",
       "</table>\n",
       "</div>"
      ],
      "text/plain": [
       "           singer                  song_name  index     emotion  \\\n",
       "0  10,000 Maniacs            A Campfire Song      2   nostalgia   \n",
       "1     101 Strings   Theme From The Godfather      3   nostalgia   \n",
       "2            10cc          Dreadlock Holiday      4  excitement   \n",
       "3            10cc            I'm Not In Love      5   nostalgia   \n",
       "4            10cc  The Things We Do for Love      6        love   \n",
       "\n",
       "                                             caption        tempo  \\\n",
       "0  The melody is mellow and soothing, with a gent...  Tempo_135.0   \n",
       "1  Elegant and sweeping orchestral melody with a ...   Tempo_80.0   \n",
       "2  catchy and upbeat, featuring a memorable guita...  Tempo_103.0   \n",
       "3  A catchy and memorable tune with a simple yet ...   Tempo_65.0   \n",
       "4  The melody is catchy and memorable, with a ble...  Tempo_111.0   \n",
       "\n",
       "                                         instruments  tempo(int)  \\\n",
       "0  ['Program_-1', 'Program_16', 'Program_24', 'Pr...         135   \n",
       "1  ['Program_-1', 'Program_0', 'Program_12', 'Pro...          80   \n",
       "2                        ['Program_-1', 'Program_0']         103   \n",
       "3  ['Program_-1', 'Program_0', 'Program_122', 'Pr...          65   \n",
       "4  ['Program_-1', 'Program_0', 'Program_16', 'Pro...         111   \n",
       "\n",
       "  tempo(category) genre         sub_genre  \n",
       "0       Tempo_135  Rock  Alternative rock  \n",
       "1        Tempo_75   Pop               Pop  \n",
       "2       Tempo_105  Rock       Reggae rock  \n",
       "3        Tempo_75  Rock         Soft rock  \n",
       "4       Tempo_105  Rock         Soft rock  "
      ]
     },
     "execution_count": 3,
     "metadata": {},
     "output_type": "execute_result"
    }
   ],
   "source": [
    "data = pd.read_csv('./genre_seung.csv')\n",
    "data.head()"
   ]
  },
  {
   "cell_type": "code",
   "execution_count": 4,
   "metadata": {},
   "outputs": [],
   "source": [
    "id2label_emotion = {k:l for k, l in enumerate(data.emotion.unique())}\n",
    "label2id_emotion = {l:k for k, l in enumerate(data.emotion.unique())}\n",
    "id2label_tempo = {k:l for k, l in enumerate(data['tempo(category)'].unique())}\n",
    "label2id_tempo = {l:k for k, l in enumerate(data['tempo(category)'].unique())}\n",
    "id2label_genre = {k:l for k, l in enumerate(data['genre'].unique())}\n",
    "label2id_genre = {l:k for k, l in enumerate(data['genre'].unique())}"
   ]
  },
  {
   "cell_type": "code",
   "execution_count": 5,
   "metadata": {},
   "outputs": [],
   "source": [
    "train_data, valid_data = train_test_split(data, stratify=data['emotion'],test_size= 0.1, random_state=42)"
   ]
  },
  {
   "cell_type": "code",
   "execution_count": 6,
   "metadata": {},
   "outputs": [],
   "source": [
    "class customDataset_before():\n",
    "    def __init__(self, data, tokenizer):\n",
    "        self.tokenizer = tokenizer\n",
    "        self.dataset = []\n",
    "        datas = []\n",
    "        self.labels = []\n",
    "        for idx, df in tqdm(data.iterrows()):\n",
    "            label = [0. for _ in range(num_labels)]\n",
    "            datas.append(df.caption)\n",
    "            label[label2id[df.emotion]] = 1.\n",
    "            label[label2id[df['tempo(category)']]] = 1.\n",
    "            self.labels.append(label)\n",
    "        self.dataset =  tokenizer(datas,padding=True, truncation=True,max_length=512 ,return_tensors=\"pt\").to('cuda')\n",
    "        self.labels= torch.tensor(self.labels)\n",
    "    def __len__(self):\n",
    "        return len(self.labels)\n",
    "    \n",
    "    def __getitem__(self, idx):\n",
    "        item = {key: val[idx].clone().detach() for key, val in self.dataset.items()}\n",
    "        item['labels'] = self.labels[idx].clone().detach()\n",
    "        return item\n",
    "        # return {'input_ids' : self.dataset[idx]['input_ids'],\n",
    "        #         'attention_mask' : self.dataset[idx]['attention_mask'],\n",
    "        #         'labels' : self.labels[idx]\n",
    "        #         }"
   ]
  },
  {
   "cell_type": "code",
   "execution_count": 7,
   "metadata": {},
   "outputs": [],
   "source": [
    "class customDataset_after():\n",
    "    def __init__(self, data, tokenizer):\n",
    "        self.tokenizer = tokenizer\n",
    "        self.dataset = []\n",
    "        datas = []\n",
    "        self.labels1 = []\n",
    "        self.labels2 = []\n",
    "        self.labels3 = []\n",
    "        for idx, df in tqdm(data.iterrows()):\n",
    "            label1 = [0. for _ in range(len(id2label_emotion))]\n",
    "            label2 = [0. for _ in range(len(id2label_tempo))]\n",
    "            label3 = [0. for _ in range(len(id2label_genre))]\n",
    "            datas.append(df.caption)\n",
    "            label1[label2id_emotion[df.emotion]] = 1.\n",
    "            label2[label2id_tempo[df['tempo(category)']]] = 1.\n",
    "            label3[label2id_genre[df['genre']]] = 1.\n",
    "            self.labels1.append(label1)\n",
    "            self.labels2.append(label2)\n",
    "            self.labels3.append(label3)\n",
    "        self.dataset =  tokenizer(datas,padding=True, truncation=True,max_length=512 ,return_tensors=\"pt\").to('cuda')\n",
    "        self.labels1= torch.tensor(self.labels1)\n",
    "        self.labels2= torch.tensor(self.labels2)\n",
    "        self.labels3= torch.tensor(self.labels3)\n",
    "    def __len__(self):\n",
    "        return len(self.labels1)\n",
    "    \n",
    "    def __getitem__(self, idx):\n",
    "        item = {key: val[idx].clone().detach() for key, val in self.dataset.items()}\n",
    "        item['labels1'] = self.labels1[idx].clone().detach()\n",
    "        item['labels2'] = self.labels2[idx].clone().detach()\n",
    "        item['labels3'] = self.labels3[idx].clone().detach()\n",
    "        return item"
   ]
  },
  {
   "cell_type": "code",
   "execution_count": 8,
   "metadata": {},
   "outputs": [],
   "source": [
    "# BASE_MODEL = 'bert-base-uncased'\n",
    "\n",
    "# tokenizer = AutoTokenizer.from_pretrained(BASE_MODEL)\n",
    "# model = AutoModelForSequenceClassification.from_pretrained(BASE_MODEL, num_labels=num_labels,\n",
    "#            id2label=id2label, label2id=label2id, problem_type = \"multi_label_classification\").to('cuda')\n"
   ]
  },
  {
   "cell_type": "code",
   "execution_count": 9,
   "metadata": {},
   "outputs": [
    {
     "name": "stderr",
     "output_type": "stream",
     "text": [
      "Some weights of customBertForSequenceClassification were not initialized from the model checkpoint at bert-base-uncased and are newly initialized: ['classifier1.bias', 'classifier1.weight', 'classifier2.bias', 'classifier2.weight', 'classifier3.bias', 'classifier3.weight']\n",
      "You should probably TRAIN this model on a down-stream task to be able to use it for predictions and inference.\n"
     ]
    }
   ],
   "source": [
    "BASE_MODEL = 'bert-base-uncased'\n",
    "\n",
    "tokenizer = AutoTokenizer.from_pretrained(BASE_MODEL)\n",
    "config = AutoConfig.from_pretrained(BASE_MODEL)\n",
    "config.num_labels1 = len(id2label_emotion)\n",
    "config.num_labels2 = len(id2label_tempo)\n",
    "config.num_labels3 = len(id2label_genre)\n",
    "model = customBertForSequenceClassification.from_pretrained(BASE_MODEL, config= config).to(device)\n",
    "# custom = customBertForSequenceClassification(config, num_labels1 = len(id2label_emotion), \n",
    "#                                                             num_labels2 = len(id2label_tempo), num_labels3 = len(id2label_genre))\n",
    "# model = customBertForSequenceClassification.from_pretrained(config)"
   ]
  },
  {
   "cell_type": "code",
   "execution_count": 10,
   "metadata": {},
   "outputs": [
    {
     "name": "stderr",
     "output_type": "stream",
     "text": [
      "9045it [00:00, 9929.75it/s] \n",
      "1006it [00:00, 12097.55it/s]\n"
     ]
    }
   ],
   "source": [
    "dataset_train = customDataset_after(train_data, tokenizer =tokenizer)\n",
    "dataset_valid = customDataset_after(valid_data, tokenizer =tokenizer)\n"
   ]
  },
  {
   "cell_type": "code",
   "execution_count": 11,
   "metadata": {},
   "outputs": [],
   "source": [
    "GLOBAL_SCORE_INDICES = range(0,17)\n",
    "CAUSE_INDICES = range(17, 25)\n",
    "def get_preds_from_logits(logits):\n",
    "    ret = np.zeros(logits.shape)\n",
    "    \n",
    "    # The first 5 columns (GLOBAL_SCORE_INDICES) are for global scores. They should be handled with a multiclass approach\n",
    "    # i.e. we fill 1 to the class with highest probability, and 0 into the other columns\n",
    "    best_class = np.argmax(logits, axis=1)\n",
    "    ret[list(range(len(ret))), best_class] = 1\n",
    "    # The other columns are for causes and emotions. They should be handled with multilabel approach.\n",
    "    # i.e. we fill 1 to every class whose score is higher than some threshold\n",
    "    # In this example, we choose that threshold = 0\n",
    "    \n",
    "    return ret"
   ]
  },
  {
   "cell_type": "code",
   "execution_count": 12,
   "metadata": {},
   "outputs": [],
   "source": [
    "# clf_metrics = evaluate.combine([\"accuracy\", \"f1\", \"precision\", \"recall\"])\n",
    "\n",
    "# def sigmoid(x):\n",
    "#    return 1/(1 + np.exp(-x))\n",
    "\n",
    "# def compute_metrics(eval_pred):\n",
    "\n",
    "#    predictions, labels = eval_pred\n",
    "#    predictions = sigmoid(predictions)\n",
    "#    predictions = (predictions > 0.5).astype(int).reshape(-1)\n",
    "#    return clf_metrics.compute(predictions=predictions, references=labels.astype(int).reshape(-1))"
   ]
  },
  {
   "cell_type": "code",
   "execution_count": 13,
   "metadata": {},
   "outputs": [],
   "source": [
    "def compute_metrics(eval_pred):\n",
    "    logits, labels = eval_pred\n",
    "    final_metrics = {}\n",
    "    \n",
    "    # Deduce predictions from logits\n",
    "    predictions_emotion = get_preds_from_logits(logits[0])\n",
    "    predictions_tempo = get_preds_from_logits(logits[1])\n",
    "    predictions_genre = get_preds_from_logits(logits[2])\n",
    "    \n",
    "    # Get f1 metrics for global scoring. Notice that f1_micro = accuracy\n",
    "    final_metrics[\"f1_emotion\"] = f1_score(labels[0], predictions_emotion, average=\"micro\")\n",
    "    \n",
    "    # Get f1 metrics for causes\n",
    "    final_metrics[\"f1_tempo\"] = f1_score(labels[1], predictions_tempo, average=\"micro\")\n",
    "    \n",
    "\n",
    "    # The global f1_metrics\n",
    "    final_metrics[\"f1_genre\"] = f1_score(labels[2], predictions_genre, average=\"micro\")\n",
    "    \n",
    "    # Classification report\n",
    "    # print(\"Classification report for global scores: \")\n",
    "    # print(classification_report(labels[:, GLOBAL_SCORE_INDICES], predictions[:, GLOBAL_SCORE_INDICES], zero_division=0))\n",
    "    # print(\"Classification report for causes: \")\n",
    "    # print(classification_report(labels[:, CAUSE_INDICES], predictions[:, CAUSE_INDICES], zero_division=0))\n",
    "    return final_metrics"
   ]
  },
  {
   "cell_type": "code",
   "execution_count": 14,
   "metadata": {},
   "outputs": [],
   "source": [
    "data_collator = DataCollatorWithPadding(tokenizer=tokenizer)"
   ]
  },
  {
   "cell_type": "code",
   "execution_count": 15,
   "metadata": {},
   "outputs": [],
   "source": [
    "class MultiTaskClassificationTrainer(Trainer):\n",
    "    def __init__(self, group_weights=None, **kwargs):\n",
    "        super().__init__(**kwargs)\n",
    "        self.group_weights = group_weights\n",
    "        \n",
    "    def compute_loss(self, model, inputs, return_outputs=False):\n",
    "        labels = inputs.pop(\"labels\")\n",
    "        outputs = model(**inputs)\n",
    "        logits = outputs[0]\n",
    "        \n",
    "        global_score_loss = torch.nn.functional.cross_entropy(logits[:, GLOBAL_SCORE_INDICES], labels[:, GLOBAL_SCORE_INDICES])\n",
    "        cause_loss = torch.nn.functional.binary_cross_entropy_with_logits(logits[:, CAUSE_INDICES], labels[:, CAUSE_INDICES])\n",
    "        \n",
    "        loss = self.group_weights[0] * global_score_loss +self.group_weights[1] * cause_loss\n",
    "        return (loss, outputs) if return_outputs else loss"
   ]
  },
  {
   "cell_type": "code",
   "execution_count": 17,
   "metadata": {},
   "outputs": [
    {
     "name": "stderr",
     "output_type": "stream",
     "text": [
      "Detected kernel version 5.4.0, which is below the recommended minimum of 5.5.0; this can cause the process to hang. It is recommended to upgrade the kernel to the minimum version or higher.\n"
     ]
    },
    {
     "data": {
      "text/html": [
       "\n",
       "    <div>\n",
       "      \n",
       "      <progress value='3015' max='3015' style='width:300px; height:20px; vertical-align: middle;'></progress>\n",
       "      [3015/3015 02:26, Epoch 1/1]\n",
       "    </div>\n",
       "    <table border=\"1\" class=\"dataframe\">\n",
       "  <thead>\n",
       " <tr style=\"text-align: left;\">\n",
       "      <th>Epoch</th>\n",
       "      <th>Training Loss</th>\n",
       "      <th>Validation Loss</th>\n",
       "      <th>F1 Emotion</th>\n",
       "      <th>F1 Tempo</th>\n",
       "      <th>F1 Genre</th>\n",
       "    </tr>\n",
       "  </thead>\n",
       "  <tbody>\n",
       "    <tr>\n",
       "      <td>1</td>\n",
       "      <td>0.520500</td>\n",
       "      <td>0.518676</td>\n",
       "      <td>0.597416</td>\n",
       "      <td>0.355865</td>\n",
       "      <td>0.286282</td>\n",
       "    </tr>\n",
       "  </tbody>\n",
       "</table><p>"
      ],
      "text/plain": [
       "<IPython.core.display.HTML object>"
      ]
     },
     "metadata": {},
     "output_type": "display_data"
    },
    {
     "data": {
      "text/plain": [
       "TrainOutput(global_step=3015, training_loss=0.5744212055680764, metrics={'train_runtime': 147.3438, 'train_samples_per_second': 61.387, 'train_steps_per_second': 20.462, 'total_flos': 242080054669440.0, 'train_loss': 0.5744212055680764, 'epoch': 1.0})"
      ]
     },
     "execution_count": 17,
     "metadata": {},
     "output_type": "execute_result"
    }
   ],
   "source": [
    "training_args = TrainingArguments(\n",
    "\n",
    "   output_dir=\"my_awesome_model\",\n",
    "   learning_rate=2e-5,\n",
    "   per_device_train_batch_size=3,\n",
    "   per_device_eval_batch_size=3,\n",
    "   num_train_epochs=10,\n",
    "   weight_decay=0.01,\n",
    "   evaluation_strategy=\"epoch\",\n",
    "   save_strategy=\"epoch\",\n",
    "   load_best_model_at_end=True,\n",
    ")\n",
    "\n",
    "trainer = Trainer(\n",
    "\n",
    "   model=model,\n",
    "   args=training_args,\n",
    "   train_dataset=dataset_train,\n",
    "   eval_dataset=dataset_valid,\n",
    "   tokenizer=tokenizer,\n",
    "   data_collator=data_collator,\n",
    "   compute_metrics=compute_metrics,\n",
    ")\n",
    "\n",
    "# trainer = MultiTaskClassificationTrainer(\n",
    "\n",
    "#    model=model,\n",
    "#    args=training_args,\n",
    "#    train_dataset=dataset_train,\n",
    "#    eval_dataset=dataset_valid,\n",
    "#    tokenizer=tokenizer,\n",
    "#    data_collator=data_collator,\n",
    "#    compute_metrics=compute_metrics,\n",
    "#    group_weights=(0.7, 4)\n",
    "# )\n",
    "\n",
    "\n",
    "\n",
    "trainer.train()\n"
   ]
  }
 ],
 "metadata": {
  "kernelspec": {
   "display_name": "Python 3",
   "language": "python",
   "name": "python3"
  },
  "language_info": {
   "codemirror_mode": {
    "name": "ipython",
    "version": 3
   },
   "file_extension": ".py",
   "mimetype": "text/x-python",
   "name": "python",
   "nbconvert_exporter": "python",
   "pygments_lexer": "ipython3",
   "version": "3.8.10"
  }
 },
 "nbformat": 4,
 "nbformat_minor": 2
}
