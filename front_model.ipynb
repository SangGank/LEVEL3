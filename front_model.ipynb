{
 "cells": [
  {
   "cell_type": "code",
   "execution_count": 1,
   "metadata": {},
   "outputs": [],
   "source": [
    "# !pip install torch\n",
    "# !pip install tqdm\n",
    "# !pip install transformers\n",
    "# !pip install scikit-learn\n",
    "# !pip install pandas\n",
    "# !pip install wandb\n",
    "# !pip install evaluate\n",
    "# !pip install transformers[torch]"
   ]
  },
  {
   "cell_type": "code",
   "execution_count": 2,
   "metadata": {},
   "outputs": [
    {
     "name": "stderr",
     "output_type": "stream",
     "text": [
      "/home/leesk/miniconda3/lib/python3.12/site-packages/tqdm/auto.py:21: TqdmWarning: IProgress not found. Please update jupyter and ipywidgets. See https://ipywidgets.readthedocs.io/en/stable/user_install.html\n",
      "  from .autonotebook import tqdm as notebook_tqdm\n"
     ]
    }
   ],
   "source": [
    "import pandas as pd\n",
    "import pickle\n",
    "from transformers import AutoTokenizer, AutoModelForSequenceClassification, TrainingArguments, Trainer, DataCollatorWithPadding, AutoConfig, EarlyStoppingCallback\n",
    "import evaluate\n",
    "import numpy as np\n",
    "from tqdm import tqdm\n",
    "from sklearn.model_selection import train_test_split\n",
    "import torch\n",
    "from sklearn.metrics import f1_score, accuracy_score\n",
    "from sklearn.metrics import classification_report\n",
    "from customModel import (customBertForSequenceClassification, customRobertaForSequenceClassification,\n",
    "                         customGPT2ForSequenceClassification, customElectraForSequenceClassification,bigModelCustomRobertaForSequenceClassification,\n",
    "                         addLayerCustomRobertaForSequenceClassification)\n",
    "from CustomTraniner import CustomTrainer, CustomTrainer_cross_entropy, CustomTrainer_add_loss, BingModelCustomTrainer\n",
    "from transformers.configuration_utils import PretrainedConfig\n",
    "import wandb\n",
    "import random\n",
    "from transformers.models.auto.modeling_auto import MODEL_FOR_SEQUENCE_CLASSIFICATION_MAPPING\n",
    "from frontModelCustom import frontModelDataset, data_labels, frontModelDataset_not_stopword, frontModelDataset_front_sentence\n",
    "from nltk.corpus import stopwords\n",
    "import nltk\n",
    "\n"
   ]
  },
  {
   "cell_type": "code",
   "execution_count": 3,
   "metadata": {},
   "outputs": [
    {
     "name": "stdout",
     "output_type": "stream",
     "text": [
      "cuda\n"
     ]
    }
   ],
   "source": [
    "device = torch.device('cuda' if torch.cuda.is_available() else 'cpu')\n",
    "print(device)"
   ]
  },
  {
   "cell_type": "code",
   "execution_count": 4,
   "metadata": {},
   "outputs": [],
   "source": [
    "def set_seed(seed:int = 42):\n",
    "    torch.manual_seed(seed)\n",
    "    torch.cuda.manual_seed(seed)\n",
    "    torch.cuda.manual_seed_all(seed)  # if use multi-GPU\n",
    "    torch.backends.cudnn.deterministic = True\n",
    "    torch.backends.cudnn.benchmark = False\n",
    "    np.random.seed(seed)\n",
    "    random.seed(seed)\n",
    "set_seed(42)"
   ]
  },
  {
   "cell_type": "markdown",
   "metadata": {},
   "source": [
    "### Data Process"
   ]
  },
  {
   "cell_type": "code",
   "execution_count": 5,
   "metadata": {},
   "outputs": [
    {
     "data": {
      "text/plain": [
       "array(['Rock', 'Pop', 'Dance/Electronic', 'Jazz', 'R&B', 'Groove', 'Folk',\n",
       "       'Classical', 'Metal', \"Children's music\"], dtype=object)"
      ]
     },
     "execution_count": 5,
     "metadata": {},
     "output_type": "execute_result"
    }
   ],
   "source": [
    "# data = pd.read_csv('./genre_11_tempo_4.csv')\n",
    "# data = pd.read_csv('./not_duplicate_data.csv')\n",
    "# data = pd.read_csv('./data_origin_llama2.csv')\n",
    "\n",
    "# data = pd.read_csv('./total_data_no_world.csv')\n",
    "\n",
    "# data = pd.read_csv('./data_origin_llama2.csv')\n",
    "data = pd.read_csv('./origin_llama2_when.csv')\n",
    "\n",
    "# data =pd.read_csv('./data_llama2.csv')\n",
    "# data = data[data.genre != 'World']\n",
    "# data.index = range(len(data))\n",
    "data.genre.unique()\n",
    "\n",
    "# data = pd.read_csv('./not_cotain_com.csv')\n",
    "# data = pd.read_csv('./no_enter.csv')\n",
    "# data.head()"
   ]
  },
  {
   "cell_type": "code",
   "execution_count": 6,
   "metadata": {},
   "outputs": [],
   "source": [
    "with open('labels.pkl','wb') as f:\n",
    "    pickle.dump(data.emotion.unique(),f)\n",
    "    pickle.dump(data['tempo(category)'].unique(),f)\n",
    "    pickle.dump(data['genre'].unique(),f)"
   ]
  },
  {
   "cell_type": "code",
   "execution_count": 7,
   "metadata": {},
   "outputs": [],
   "source": [
    "emotion , tempo, genre = data_labels('labels.pkl')"
   ]
  },
  {
   "cell_type": "code",
   "execution_count": 8,
   "metadata": {},
   "outputs": [
    {
     "data": {
      "text/plain": [
       "array(['Rock', 'Pop', 'Dance/Electronic', 'Jazz', 'R&B', 'Groove', 'Folk',\n",
       "       'Classical', 'Metal', \"Children's music\"], dtype=object)"
      ]
     },
     "execution_count": 8,
     "metadata": {},
     "output_type": "execute_result"
    }
   ],
   "source": [
    "genre"
   ]
  },
  {
   "cell_type": "code",
   "execution_count": 9,
   "metadata": {},
   "outputs": [
    {
     "name": "stderr",
     "output_type": "stream",
     "text": [
      "Some weights of customRobertaForSequenceClassification were not initialized from the model checkpoint at SamLowe/roberta-base-go_emotions and are newly initialized: ['classifier1.bias', 'classifier1.weight', 'classifier2.bias', 'classifier2.weight', 'classifier3.bias', 'classifier3.weight', 'dense1.bias', 'dense1.weight', 'dense2.bias', 'dense2.weight', 'dense3.bias', 'dense3.weight']\n",
      "You should probably TRAIN this model on a down-stream task to be able to use it for predictions and inference.\n"
     ]
    }
   ],
   "source": [
    "BASE_MODEL = 'SamLowe/roberta-base-go_emotions'\n",
    "\n",
    "tokenizer = AutoTokenizer.from_pretrained(BASE_MODEL)\n",
    "config = AutoConfig.from_pretrained(BASE_MODEL)\n",
    "config.num_labels1 = len(emotion)\n",
    "config.num_labels2 = len(tempo)\n",
    "config.num_labels3 = len(genre)\n",
    "\n",
    "# model = customBertForSequenceClassification.from_pretrained(BASE_MODEL, config= config).to(device)\n",
    "model = customRobertaForSequenceClassification.from_pretrained(BASE_MODEL, config= config).to(device)\n",
    "# model = addLayerCustomRobertaForSequenceClassification.from_pretrained(BASE_MODEL, config= config).to(device)\n",
    "\n",
    "# model = bigModelCustomRobertaForSequenceClassification.from_pretrained(BASE_MODEL, config= config).to(device)\n",
    "# model = customElectraForSequenceClassification.from_pretrained(BASE_MODEL, config= config).to(device)\n",
    "# model = customGPT2ForSequenceClassification.from_pretrained(BASE_MODEL, config= config).to(device)\n",
    "# tokenizer.pad_token = tokenizer.eos_token\n",
    "# model.config.pad_token_id = model.config.eos_token_id"
   ]
  },
  {
   "cell_type": "code",
   "execution_count": 10,
   "metadata": {},
   "outputs": [
    {
     "data": {
      "text/plain": [
       "transformers.models.roberta.configuration_roberta.RobertaConfig"
      ]
     },
     "execution_count": 10,
     "metadata": {},
     "output_type": "execute_result"
    }
   ],
   "source": [
    "type(config)"
   ]
  },
  {
   "cell_type": "code",
   "execution_count": 11,
   "metadata": {},
   "outputs": [],
   "source": [
    "def remove_stop_word(string):\n",
    "    stop_words_list = stopwords.words('english')\n",
    "    string = string.split()\n",
    "    result = []\n",
    "    for word in string: \n",
    "        if word not in stop_words_list: \n",
    "            result.append(word) \n",
    "    result = ' '.join(result)\n",
    "    return result "
   ]
  },
  {
   "cell_type": "code",
   "execution_count": 12,
   "metadata": {},
   "outputs": [
    {
     "data": {
      "text/plain": [
       "array([\"Children's music\", 'Classical', 'Dance/Electronic', 'Folk',\n",
       "       'Groove', 'Jazz', 'Metal', 'Pop', 'R&B', 'Rock'], dtype=object)"
      ]
     },
     "execution_count": 12,
     "metadata": {},
     "output_type": "execute_result"
    }
   ],
   "source": [
    "data2 = data.copy()\n",
    "# emotion_data = data2.groupby('emotion').sample(frac=0.05, random_state=42)\n",
    "# tempo_data = data2.groupby('tempo(category)').sample(frac=0.05, random_state=42)\n",
    "# genre_data = data2.groupby('genre').sample(frac=0.05, random_state=42)\n",
    "# index_total = set(emotion_data.index) | set(tempo_data.index) | set(genre_data.index)\n",
    "# valid_data = data2.iloc[list(index_total)]\n",
    "# train_data = data2.drop(list(index_total)).sample(frac=1, random_state=42)\n",
    "\n",
    "\n",
    "data_valid_index = data2.groupby(['emotion','genre','tempo(category)']).sample(frac=0.1, random_state=42).index\n",
    "valid_data = data2.iloc[data_valid_index]\n",
    "train_data = data2.drop(list(data_valid_index)).sample(frac=1, random_state=42)\n",
    "\n",
    "# train_data = data2.sample(frac=1,random_state=42)\n",
    "# valid_data = pd.read_csv('./not_duplicate_data.csv')\n",
    "# valid_data = valid_data[valid_data.genre != 'World']\n",
    "\n",
    "\n",
    "# train_data=train_data[~train_data.caption.str.contains('\\.com')]\n",
    "valid_data.genre.unique()\n"
   ]
  },
  {
   "cell_type": "code",
   "execution_count": 13,
   "metadata": {},
   "outputs": [
    {
     "data": {
      "text/html": [
       "<div>\n",
       "<style scoped>\n",
       "    .dataframe tbody tr th:only-of-type {\n",
       "        vertical-align: middle;\n",
       "    }\n",
       "\n",
       "    .dataframe tbody tr th {\n",
       "        vertical-align: top;\n",
       "    }\n",
       "\n",
       "    .dataframe thead th {\n",
       "        text-align: right;\n",
       "    }\n",
       "</style>\n",
       "<table border=\"1\" class=\"dataframe\">\n",
       "  <thead>\n",
       "    <tr style=\"text-align: right;\">\n",
       "      <th></th>\n",
       "      <th>caption</th>\n",
       "      <th>tempo(category)</th>\n",
       "      <th>genre</th>\n",
       "      <th>emotion</th>\n",
       "    </tr>\n",
       "  </thead>\n",
       "  <tbody>\n",
       "  </tbody>\n",
       "</table>\n",
       "</div>"
      ],
      "text/plain": [
       "Empty DataFrame\n",
       "Columns: [caption, tempo(category), genre, emotion]\n",
       "Index: []"
      ]
     },
     "execution_count": 13,
     "metadata": {},
     "output_type": "execute_result"
    }
   ],
   "source": [
    "valid_data[valid_data.duplicated('caption')]"
   ]
  },
  {
   "cell_type": "code",
   "execution_count": 14,
   "metadata": {},
   "outputs": [
    {
     "name": "stderr",
     "output_type": "stream",
     "text": [
      "24185it [00:01, 15151.30it/s]\n",
      "2699it [00:00, 17324.91it/s]\n"
     ]
    }
   ],
   "source": [
    "dataset_train = frontModelDataset(train_data, tokenizer =tokenizer)\n",
    "dataset_valid = frontModelDataset(valid_data, tokenizer =tokenizer)\n",
    "\n",
    "# dataset_train = frontModelDataset_not_stopword(train_data, tokenizer =tokenizer)\n",
    "# dataset_valid = frontModelDataset_not_stopword(valid_data, tokenizer =tokenizer)\n",
    "\n",
    "# dataset_train = frontModelDataset_front_sentence(train_data, tokenizer =tokenizer)\n",
    "# dataset_valid = frontModelDataset_front_sentence(valid_data, tokenizer =tokenizer)\n",
    "\n"
   ]
  },
  {
   "cell_type": "code",
   "execution_count": 15,
   "metadata": {},
   "outputs": [],
   "source": [
    "# datas = []\n",
    "# for idx, df in tqdm(train_data.iterrows()):\n",
    "#     if pd.notnull(df.caption) and isinstance(df.caption, str):\n",
    "#         datas.append(df.caption)\n",
    "#     else:\n",
    "#         print(df.caption)\n",
    "# tokenizer(datas,padding=True, truncation=True,max_length=512 ,return_tensors=\"pt\").to('cuda')"
   ]
  },
  {
   "cell_type": "code",
   "execution_count": null,
   "metadata": {},
   "outputs": [],
   "source": []
  },
  {
   "cell_type": "code",
   "execution_count": 16,
   "metadata": {},
   "outputs": [],
   "source": [
    "\n",
    "def get_preds_from_logits(logits):\n",
    "    ret = np.zeros(logits.shape)\n",
    "    \n",
    "    # The first 5 columns (GLOBAL_SCORE_INDICES) are for global scores. They should be handled with a multiclass approach\n",
    "    # i.e. we fill 1 to the class with highest probability, and 0 into the other columns\n",
    "    best_class = np.argmax(logits, axis=1)\n",
    "    ret[list(range(len(ret))), best_class] = 1\n",
    "    # The other columns are for causes and emotions. They should be handled with multilabel approach.\n",
    "    # i.e. we fill 1 to every class whose score is higher than some threshold\n",
    "    # In this example, we choose that threshold = 0\n",
    "    \n",
    "    return ret"
   ]
  },
  {
   "cell_type": "code",
   "execution_count": 17,
   "metadata": {},
   "outputs": [],
   "source": [
    "def compute_metrics(eval_pred):\n",
    "    logits, labels = eval_pred\n",
    "    final_metrics = {}\n",
    "    \n",
    "    # Deduce predictions from logits\n",
    "    predictions_emotion = get_preds_from_logits(logits[0])\n",
    "    predictions_tempo = get_preds_from_logits(logits[1])\n",
    "    predictions_genre = get_preds_from_logits(logits[2])\n",
    "    \n",
    "    # Get f1 metrics for global scoring. Notice that f1_micro = accuracy\n",
    "    final_metrics[\"f1_emotion\"] = f1_score(labels[0], predictions_emotion, average=\"micro\")\n",
    "    \n",
    "    # Get f1 metrics for causes\n",
    "    final_metrics[\"f1_tempo\"] = f1_score(labels[1], predictions_tempo, average=\"micro\")\n",
    "    \n",
    "\n",
    "    # The global f1_metrics\n",
    "    final_metrics[\"f1_genre\"] = f1_score(labels[2], predictions_genre, average=\"micro\")\n",
    "\n",
    "    final_metrics['fi_total'] = (final_metrics[\"f1_emotion\"] + final_metrics[\"f1_tempo\"] + final_metrics[\"f1_genre\"])/3\n",
    "    \n",
    "    # Classification report\n",
    "    # print(\"Classification report for global scores: \")\n",
    "    # print(classification_report(labels[:, GLOBAL_SCORE_INDICES], predictions[:, GLOBAL_SCORE_INDICES], zero_division=0))\n",
    "    # print(\"Classification report for causes: \")\n",
    "    # print(classification_report(labels[:, CAUSE_INDICES], predictions[:, CAUSE_INDICES], zero_division=0))\n",
    "    return final_metrics"
   ]
  },
  {
   "cell_type": "code",
   "execution_count": 18,
   "metadata": {},
   "outputs": [],
   "source": [
    "data_collator = DataCollatorWithPadding(tokenizer=tokenizer)"
   ]
  },
  {
   "cell_type": "code",
   "execution_count": 19,
   "metadata": {},
   "outputs": [
    {
     "name": "stderr",
     "output_type": "stream",
     "text": [
      "Failed to detect the name of this notebook, you can set it manually with the WANDB_NOTEBOOK_NAME environment variable to enable code saving.\n"
     ]
    },
    {
     "name": "stdout",
     "output_type": "stream",
     "text": [
      "10 4 10\n"
     ]
    },
    {
     "name": "stderr",
     "output_type": "stream",
     "text": [
      "\u001b[34m\u001b[1mwandb\u001b[0m: Currently logged in as: \u001b[33mleesk9663\u001b[0m (\u001b[33msanggang\u001b[0m). Use \u001b[1m`wandb login --relogin`\u001b[0m to force relogin\n"
     ]
    },
    {
     "data": {
      "text/html": [
       "Tracking run with wandb version 0.16.4"
      ],
      "text/plain": [
       "<IPython.core.display.HTML object>"
      ]
     },
     "metadata": {},
     "output_type": "display_data"
    },
    {
     "data": {
      "text/html": [
       "Run data is saved locally in <code>/home/leesk/LEVEL3/wandb/run-20240324_230621-qxyrxnyi</code>"
      ],
      "text/plain": [
       "<IPython.core.display.HTML object>"
      ]
     },
     "metadata": {},
     "output_type": "display_data"
    },
    {
     "data": {
      "text/html": [
       "Syncing run <strong><a href='https://wandb.ai/sanggang/Final%20project/runs/qxyrxnyi' target=\"_blank\">SamLowe/roberta-base-go_emotions</a></strong> to <a href='https://wandb.ai/sanggang/Final%20project' target=\"_blank\">Weights & Biases</a> (<a href='https://wandb.me/run' target=\"_blank\">docs</a>)<br/>"
      ],
      "text/plain": [
       "<IPython.core.display.HTML object>"
      ]
     },
     "metadata": {},
     "output_type": "display_data"
    },
    {
     "data": {
      "text/html": [
       " View project at <a href='https://wandb.ai/sanggang/Final%20project' target=\"_blank\">https://wandb.ai/sanggang/Final%20project</a>"
      ],
      "text/plain": [
       "<IPython.core.display.HTML object>"
      ]
     },
     "metadata": {},
     "output_type": "display_data"
    },
    {
     "data": {
      "text/html": [
       " View run at <a href='https://wandb.ai/sanggang/Final%20project/runs/qxyrxnyi' target=\"_blank\">https://wandb.ai/sanggang/Final%20project/runs/qxyrxnyi</a>"
      ],
      "text/plain": [
       "<IPython.core.display.HTML object>"
      ]
     },
     "metadata": {},
     "output_type": "display_data"
    },
    {
     "name": "stderr",
     "output_type": "stream",
     "text": [
      "Detected kernel version 5.4.0, which is below the recommended minimum of 5.5.0; this can cause the process to hang. It is recommended to upgrade the kernel to the minimum version or higher.\n"
     ]
    },
    {
     "data": {
      "text/html": [
       "\n",
       "    <div>\n",
       "      \n",
       "      <progress value='6048' max='6048' style='width:300px; height:20px; vertical-align: middle;'></progress>\n",
       "      [6048/6048 17:29, Epoch 8/8]\n",
       "    </div>\n",
       "    <table border=\"1\" class=\"dataframe\">\n",
       "  <thead>\n",
       " <tr style=\"text-align: left;\">\n",
       "      <th>Step</th>\n",
       "      <th>Training Loss</th>\n",
       "      <th>Validation Loss</th>\n",
       "      <th>F1 Emotion</th>\n",
       "      <th>F1 Tempo</th>\n",
       "      <th>F1 Genre</th>\n",
       "      <th>Fi Total</th>\n",
       "    </tr>\n",
       "  </thead>\n",
       "  <tbody>\n",
       "    <tr>\n",
       "      <td>300</td>\n",
       "      <td>1.103700</td>\n",
       "      <td>1.077350</td>\n",
       "      <td>0.351982</td>\n",
       "      <td>0.403483</td>\n",
       "      <td>0.321601</td>\n",
       "      <td>0.359022</td>\n",
       "    </tr>\n",
       "    <tr>\n",
       "      <td>600</td>\n",
       "      <td>1.006600</td>\n",
       "      <td>0.989159</td>\n",
       "      <td>0.448314</td>\n",
       "      <td>0.425343</td>\n",
       "      <td>0.460541</td>\n",
       "      <td>0.444733</td>\n",
       "    </tr>\n",
       "    <tr>\n",
       "      <td>900</td>\n",
       "      <td>0.938700</td>\n",
       "      <td>0.938331</td>\n",
       "      <td>0.493516</td>\n",
       "      <td>0.454242</td>\n",
       "      <td>0.513153</td>\n",
       "      <td>0.486970</td>\n",
       "    </tr>\n",
       "    <tr>\n",
       "      <td>1200</td>\n",
       "      <td>0.901200</td>\n",
       "      <td>0.907817</td>\n",
       "      <td>0.515376</td>\n",
       "      <td>0.468322</td>\n",
       "      <td>0.540941</td>\n",
       "      <td>0.508213</td>\n",
       "    </tr>\n",
       "    <tr>\n",
       "      <td>1500</td>\n",
       "      <td>0.879200</td>\n",
       "      <td>0.885920</td>\n",
       "      <td>0.532419</td>\n",
       "      <td>0.476843</td>\n",
       "      <td>0.555020</td>\n",
       "      <td>0.521428</td>\n",
       "    </tr>\n",
       "    <tr>\n",
       "      <td>1800</td>\n",
       "      <td>0.839500</td>\n",
       "      <td>0.873678</td>\n",
       "      <td>0.554279</td>\n",
       "      <td>0.477955</td>\n",
       "      <td>0.567247</td>\n",
       "      <td>0.533160</td>\n",
       "    </tr>\n",
       "    <tr>\n",
       "      <td>2100</td>\n",
       "      <td>0.820500</td>\n",
       "      <td>0.849014</td>\n",
       "      <td>0.561690</td>\n",
       "      <td>0.491664</td>\n",
       "      <td>0.597258</td>\n",
       "      <td>0.550204</td>\n",
       "    </tr>\n",
       "    <tr>\n",
       "      <td>2400</td>\n",
       "      <td>0.757600</td>\n",
       "      <td>0.843020</td>\n",
       "      <td>0.572434</td>\n",
       "      <td>0.516117</td>\n",
       "      <td>0.592812</td>\n",
       "      <td>0.560454</td>\n",
       "    </tr>\n",
       "    <tr>\n",
       "      <td>2700</td>\n",
       "      <td>0.756100</td>\n",
       "      <td>0.830172</td>\n",
       "      <td>0.580215</td>\n",
       "      <td>0.534642</td>\n",
       "      <td>0.603186</td>\n",
       "      <td>0.572681</td>\n",
       "    </tr>\n",
       "    <tr>\n",
       "      <td>3000</td>\n",
       "      <td>0.752600</td>\n",
       "      <td>0.811305</td>\n",
       "      <td>0.600593</td>\n",
       "      <td>0.543164</td>\n",
       "      <td>0.606150</td>\n",
       "      <td>0.583302</td>\n",
       "    </tr>\n",
       "    <tr>\n",
       "      <td>3300</td>\n",
       "      <td>0.692200</td>\n",
       "      <td>0.833801</td>\n",
       "      <td>0.592071</td>\n",
       "      <td>0.523157</td>\n",
       "      <td>0.604298</td>\n",
       "      <td>0.573175</td>\n",
       "    </tr>\n",
       "    <tr>\n",
       "      <td>3600</td>\n",
       "      <td>0.697500</td>\n",
       "      <td>0.816414</td>\n",
       "      <td>0.603186</td>\n",
       "      <td>0.548722</td>\n",
       "      <td>0.616895</td>\n",
       "      <td>0.589601</td>\n",
       "    </tr>\n",
       "    <tr>\n",
       "      <td>3900</td>\n",
       "      <td>0.650300</td>\n",
       "      <td>0.818354</td>\n",
       "      <td>0.606521</td>\n",
       "      <td>0.546499</td>\n",
       "      <td>0.616895</td>\n",
       "      <td>0.589972</td>\n",
       "    </tr>\n",
       "    <tr>\n",
       "      <td>4200</td>\n",
       "      <td>0.640900</td>\n",
       "      <td>0.822145</td>\n",
       "      <td>0.614672</td>\n",
       "      <td>0.540941</td>\n",
       "      <td>0.615413</td>\n",
       "      <td>0.590342</td>\n",
       "    </tr>\n",
       "    <tr>\n",
       "      <td>4500</td>\n",
       "      <td>0.637200</td>\n",
       "      <td>0.814341</td>\n",
       "      <td>0.614302</td>\n",
       "      <td>0.540200</td>\n",
       "      <td>0.614672</td>\n",
       "      <td>0.589725</td>\n",
       "    </tr>\n",
       "    <tr>\n",
       "      <td>4800</td>\n",
       "      <td>0.594500</td>\n",
       "      <td>0.833332</td>\n",
       "      <td>0.624676</td>\n",
       "      <td>0.547610</td>\n",
       "      <td>0.621712</td>\n",
       "      <td>0.597999</td>\n",
       "    </tr>\n",
       "    <tr>\n",
       "      <td>5100</td>\n",
       "      <td>0.583000</td>\n",
       "      <td>0.822233</td>\n",
       "      <td>0.627269</td>\n",
       "      <td>0.542423</td>\n",
       "      <td>0.627640</td>\n",
       "      <td>0.599111</td>\n",
       "    </tr>\n",
       "    <tr>\n",
       "      <td>5400</td>\n",
       "      <td>0.556000</td>\n",
       "      <td>0.829181</td>\n",
       "      <td>0.627640</td>\n",
       "      <td>0.546869</td>\n",
       "      <td>0.628381</td>\n",
       "      <td>0.600963</td>\n",
       "    </tr>\n",
       "    <tr>\n",
       "      <td>5700</td>\n",
       "      <td>0.556700</td>\n",
       "      <td>0.837794</td>\n",
       "      <td>0.634309</td>\n",
       "      <td>0.545387</td>\n",
       "      <td>0.625787</td>\n",
       "      <td>0.601828</td>\n",
       "    </tr>\n",
       "    <tr>\n",
       "      <td>6000</td>\n",
       "      <td>0.561600</td>\n",
       "      <td>0.839540</td>\n",
       "      <td>0.630974</td>\n",
       "      <td>0.549463</td>\n",
       "      <td>0.625046</td>\n",
       "      <td>0.601828</td>\n",
       "    </tr>\n",
       "  </tbody>\n",
       "</table><p>"
      ],
      "text/plain": [
       "<IPython.core.display.HTML object>"
      ]
     },
     "metadata": {},
     "output_type": "display_data"
    },
    {
     "name": "stderr",
     "output_type": "stream",
     "text": [
      "Checkpoint destination directory my_awesome_model/checkpoint-1200 already exists and is non-empty. Saving will proceed but saved results may be invalid.\n"
     ]
    },
    {
     "data": {
      "text/plain": [
       "TrainOutput(global_step=6048, training_loss=0.7630006409195996, metrics={'train_runtime': 1049.9748, 'train_samples_per_second': 184.271, 'train_steps_per_second': 5.76, 'total_flos': 8468716519549440.0, 'train_loss': 0.7630006409195996, 'epoch': 8.0})"
      ]
     },
     "execution_count": 19,
     "metadata": {},
     "output_type": "execute_result"
    }
   ],
   "source": [
    "print(config.num_labels1, config.num_labels2, config.num_labels3)\n",
    "\n",
    "wandb.init(project=\"Final project\", entity=\"sanggang\",name = \"bert\"+BASE_MODEL)\n",
    "\n",
    "training_args = TrainingArguments(\n",
    "\n",
    "   output_dir=\"my_awesome_model\",\n",
    "   save_steps=300,\n",
    "   eval_steps = 300, \n",
    "   warmup_steps=500,\n",
    "   logging_steps=100,\n",
    "   learning_rate=5e-5,\n",
    "   per_device_train_batch_size=32,\n",
    "   per_device_eval_batch_size=32,\n",
    "   num_train_epochs=8,\n",
    "   weight_decay=0.01,\n",
    "   evaluation_strategy='steps',\n",
    "   load_best_model_at_end = True,\n",
    "   save_total_limit = 2,\n",
    "   report_to=\"wandb\",\n",
    "   metric_for_best_model='fi_total',\n",
    "   # run_name=BASE_MODEL, \n",
    ")\n",
    "\n",
    "# trainer = CustomTrainer(\n",
    "\n",
    "#    model=model,\n",
    "#    args=training_args,\n",
    "#    train_dataset=dataset_train,\n",
    "#    eval_dataset=dataset_valid,\n",
    "#    tokenizer=tokenizer,\n",
    "#    data_collator=data_collator,\n",
    "#    compute_metrics=compute_metrics,\n",
    "# )\n",
    "\n",
    "\n",
    "trainer = CustomTrainer_add_loss(\n",
    "\n",
    "   model=model,\n",
    "   args=training_args,\n",
    "   train_dataset=dataset_train,\n",
    "   eval_dataset=dataset_valid,\n",
    "   tokenizer=tokenizer,\n",
    "   data_collator=data_collator,\n",
    "   compute_metrics=compute_metrics,\n",
    "   callbacks = [EarlyStoppingCallback(early_stopping_patience=5)],\n",
    ")\n",
    "\n",
    "# trainer = BingModelCustomTrainer(\n",
    "\n",
    "#    model=model,\n",
    "#    args=training_args,\n",
    "#    train_dataset=dataset_train,\n",
    "#    eval_dataset=dataset_valid,\n",
    "#    tokenizer=tokenizer,\n",
    "#    data_collator=data_collator,\n",
    "#    compute_metrics=compute_metrics,\n",
    "# )\n",
    "\n",
    "# trainer = CustomTrainer_cross_entropy(\n",
    "#    model=model,\n",
    "#    args=training_args,\n",
    "#    train_dataset=dataset_train,\n",
    "#    eval_dataset=dataset_valid,\n",
    "#    tokenizer=tokenizer,\n",
    "#    data_collator=data_collator,\n",
    "#    compute_metrics=compute_metrics,\n",
    "# )\n",
    "\n",
    "# trainer = Trainer(\n",
    "\n",
    "#    model=model,\n",
    "#    args=training_args,\n",
    "#    train_dataset=dataset_train,\n",
    "#    eval_dataset=dataset_valid,\n",
    "#    tokenizer=tokenizer,\n",
    "#    data_collator=data_collator,\n",
    "#    compute_metrics=compute_metrics,\n",
    "# )\n",
    "\n",
    "\n",
    "\n",
    "trainer.train()\n"
   ]
  },
  {
   "cell_type": "code",
   "execution_count": null,
   "metadata": {},
   "outputs": [],
   "source": []
  },
  {
   "cell_type": "code",
   "execution_count": 20,
   "metadata": {},
   "outputs": [
    {
     "data": {
      "text/plain": [
       "array(['Rock', 'Pop', 'Dance/Electronic', 'Jazz', 'R&B', 'Groove', 'Folk',\n",
       "       'Classical', 'Metal', \"Children's music\"], dtype=object)"
      ]
     },
     "execution_count": 20,
     "metadata": {},
     "output_type": "execute_result"
    }
   ],
   "source": [
    "data['genre'].unique()"
   ]
  },
  {
   "cell_type": "code",
   "execution_count": 23,
   "metadata": {},
   "outputs": [
    {
     "ename": "EOFError",
     "evalue": "Ran out of input",
     "output_type": "error",
     "traceback": [
      "\u001b[0;31m---------------------------------------------------------------------------\u001b[0m",
      "\u001b[0;31mEOFError\u001b[0m                                  Traceback (most recent call last)",
      "Cell \u001b[0;32mIn[23], line 2\u001b[0m\n\u001b[1;32m      1\u001b[0m \u001b[38;5;28;01mwith\u001b[39;00m \u001b[38;5;28mopen\u001b[39m(\u001b[38;5;124m'\u001b[39m\u001b[38;5;124mlabels2.pkl\u001b[39m\u001b[38;5;124m'\u001b[39m,\u001b[38;5;124m'\u001b[39m\u001b[38;5;124mrb\u001b[39m\u001b[38;5;124m'\u001b[39m) \u001b[38;5;28;01mas\u001b[39;00m f:\n\u001b[0;32m----> 2\u001b[0m     labels \u001b[38;5;241m=\u001b[39m \u001b[43mpickle\u001b[49m\u001b[38;5;241;43m.\u001b[39;49m\u001b[43mload\u001b[49m\u001b[43m(\u001b[49m\u001b[43mf\u001b[49m\u001b[43m)\u001b[49m\n",
      "\u001b[0;31mEOFError\u001b[0m: Ran out of input"
     ]
    }
   ],
   "source": []
  },
  {
   "cell_type": "code",
   "execution_count": 27,
   "metadata": {},
   "outputs": [
    {
     "data": {
      "text/plain": [
       "{'emotion_labels': ['nostalgia',\n",
       "  'love',\n",
       "  'excitement',\n",
       "  'anger',\n",
       "  'happiness',\n",
       "  'calmness',\n",
       "  'sadness',\n",
       "  'gratitude',\n",
       "  'loneliness',\n",
       "  'anticipation'],\n",
       " 'tempo_labels': ['Allegro', 'Moderato', 'Andante', 'Presto'],\n",
       " 'genre_labels': ['Rock',\n",
       "  'Pop',\n",
       "  'Dance/Electronic',\n",
       "  'Jazz',\n",
       "  'R&B',\n",
       "  'Groove',\n",
       "  'Folk',\n",
       "  'Classical',\n",
       "  'Metal',\n",
       "  'Children']}"
      ]
     },
     "execution_count": 27,
     "metadata": {},
     "output_type": "execute_result"
    }
   ],
   "source": [
    "with open('labels2.pkl','rb') as f:\n",
    "    labels = pickle.load(f)\n",
    "labels"
   ]
  }
 ],
 "metadata": {
  "kernelspec": {
   "display_name": "Python 3",
   "language": "python",
   "name": "python3"
  },
  "language_info": {
   "codemirror_mode": {
    "name": "ipython",
    "version": 3
   },
   "file_extension": ".py",
   "mimetype": "text/x-python",
   "name": "python",
   "nbconvert_exporter": "python",
   "pygments_lexer": "ipython3",
   "version": "3.12.2"
  }
 },
 "nbformat": 4,
 "nbformat_minor": 2
}
