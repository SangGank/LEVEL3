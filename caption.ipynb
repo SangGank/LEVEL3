{
 "cells": [
  {
   "cell_type": "code",
   "execution_count": 5,
   "metadata": {},
   "outputs": [],
   "source": [
    "import pickle"
   ]
  },
  {
   "cell_type": "code",
   "execution_count": 6,
   "metadata": {},
   "outputs": [],
   "source": [
    "label_data_path ='./labels.pkl'\n",
    "with open(label_data_path,'rb') as f:\n",
    "    emotion_labels=pickle.load(f)"
   ]
  },
  {
   "cell_type": "code",
   "execution_count": 7,
   "metadata": {},
   "outputs": [
    {
     "data": {
      "text/plain": [
       "{'emotion_labels': array(['nostalgia', 'love', 'excitement', 'anger', 'happiness',\n",
       "        'calmness', 'sadness', 'gratitude', 'loneliness', 'anticipation'],\n",
       "       dtype=object),\n",
       " 'tempo_labels': array(['Allegro', 'Moderato', 'Andante', 'Presto'], dtype=object),\n",
       " 'genre_labels': array(['Rock', 'Pop', 'Dance/Electronic', 'Jazz', 'R&B', 'Groove', 'Folk',\n",
       "        'Classical', 'Metal', \"Children's music\", 'Trot', 'Ballade'],\n",
       "       dtype=object)}"
      ]
     },
     "execution_count": 7,
     "metadata": {},
     "output_type": "execute_result"
    }
   ],
   "source": [
    "emotion_labels"
   ]
  }
 ],
 "metadata": {
  "kernelspec": {
   "display_name": "base",
   "language": "python",
   "name": "python3"
  },
  "language_info": {
   "codemirror_mode": {
    "name": "ipython",
    "version": 3
   },
   "file_extension": ".py",
   "mimetype": "text/x-python",
   "name": "python",
   "nbconvert_exporter": "python",
   "pygments_lexer": "ipython3",
   "version": "3.12.2"
  }
 },
 "nbformat": 4,
 "nbformat_minor": 2
}
