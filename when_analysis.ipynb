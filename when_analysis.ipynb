{
 "cells": [
  {
   "cell_type": "code",
   "execution_count": 176,
   "metadata": {},
   "outputs": [],
   "source": [
    "import pandas as pd"
   ]
  },
  {
   "cell_type": "code",
   "execution_count": 179,
   "metadata": {},
   "outputs": [],
   "source": [
    "data = pd.read_csv('./when_song_listen.csv')\n",
    "data['index'] = data.index\n",
    "data['caption2'] = data['index'].apply(lambda x: data.loc[x].caption.split(data.loc[x].singer)[-1])\n",
    "data['caption2'] = data['caption2'].apply(lambda x: \" \".join(x.split()[1:]).strip())\n",
    "data['caption'] = data['caption2']\n",
    "data = data.drop(columns='caption2')\n"
   ]
  },
  {
   "cell_type": "code",
   "execution_count": 178,
   "metadata": {},
   "outputs": [
    {
     "data": {
      "text/html": [
       "<div>\n",
       "<style scoped>\n",
       "    .dataframe tbody tr th:only-of-type {\n",
       "        vertical-align: middle;\n",
       "    }\n",
       "\n",
       "    .dataframe tbody tr th {\n",
       "        vertical-align: top;\n",
       "    }\n",
       "\n",
       "    .dataframe thead th {\n",
       "        text-align: right;\n",
       "    }\n",
       "</style>\n",
       "<table border=\"1\" class=\"dataframe\">\n",
       "  <thead>\n",
       "    <tr style=\"text-align: right;\">\n",
       "      <th></th>\n",
       "      <th>singer</th>\n",
       "      <th>song_name</th>\n",
       "      <th>index</th>\n",
       "      <th>emotion</th>\n",
       "      <th>caption</th>\n",
       "      <th>tempo</th>\n",
       "      <th>instruments</th>\n",
       "      <th>tempo(int)</th>\n",
       "      <th>tempo(category)</th>\n",
       "      <th>genre</th>\n",
       "      <th>sub_genre</th>\n",
       "      <th>caption2</th>\n",
       "    </tr>\n",
       "  </thead>\n",
       "  <tbody>\n",
       "  </tbody>\n",
       "</table>\n",
       "</div>"
      ],
      "text/plain": [
       "Empty DataFrame\n",
       "Columns: [singer, song_name, index, emotion, caption, tempo, instruments, tempo(int), tempo(category), genre, sub_genre, caption2]\n",
       "Index: []"
      ]
     },
     "execution_count": 178,
     "metadata": {},
     "output_type": "execute_result"
    }
   ],
   "source": [
    "data[data['caption2'] == '']"
   ]
  },
  {
   "cell_type": "code",
   "execution_count": 143,
   "metadata": {},
   "outputs": [],
   "source": [
    "# data.drop(columns='caption2').to_csv('./when_data_process.csv',index=False)"
   ]
  },
  {
   "cell_type": "code",
   "execution_count": 181,
   "metadata": {},
   "outputs": [],
   "source": [
    "data[data.caption.isin(data[data.duplicated('caption')].caption.values)][['caption','tempo(category)','genre','emotion']].sort_values('caption')"
   ]
  },
  {
   "cell_type": "code",
   "execution_count": 185,
   "metadata": {},
   "outputs": [],
   "source": [
    "# data[~data.caption.isin(data[data.duplicated('caption')].caption.values)].to_csv('./when_data_process.csv',index=False)"
   ]
  },
  {
   "cell_type": "code",
   "execution_count": 138,
   "metadata": {},
   "outputs": [
    {
     "data": {
      "text/plain": [
       "['when',\n",
       " \"I'm\",\n",
       " 'feeling',\n",
       " 'nostalgic',\n",
       " 'for',\n",
       " 'the',\n",
       " '1980s',\n",
       " 'and',\n",
       " 'want',\n",
       " 'to',\n",
       " 'laugh',\n",
       " 'at',\n",
       " 'the',\n",
       " 'humorous',\n",
       " 'parody',\n",
       " 'of',\n",
       " 'Michael',\n",
       " \"Jackson's\",\n",
       " '\"Beat',\n",
       " 'It.\"']"
      ]
     },
     "execution_count": 138,
     "metadata": {},
     "output_type": "execute_result"
    }
   ],
   "source": [
    "text = '  when I\\'m feeling nostalgic for the 1980s and want to laugh at the humorous parody of Michael Jackson\\'s \"Beat It.\"'\n",
    "text.split()"
   ]
  },
  {
   "cell_type": "code",
   "execution_count": 4,
   "metadata": {},
   "outputs": [
    {
     "data": {
      "text/plain": [
       "('  Result: I want to listen to \"Amish Paradise\" by Weird Al Yankovic when I\\'m feeling nostalgic for my childhood and want to laugh at the silly parody lyrics and catchy melody.',\n",
       " '_Weird Al_ Yankovic')"
      ]
     },
     "execution_count": 4,
     "metadata": {},
     "output_type": "execute_result"
    }
   ],
   "source": [
    "data['caption'].iloc[9863], data['singer'].iloc[9863]"
   ]
  },
  {
   "cell_type": "code",
   "execution_count": 122,
   "metadata": {},
   "outputs": [],
   "source": [
    "li = []\n",
    "for idx, value in data.iterrows():\n",
    "    if value.singer not in value.caption:\n",
    "        li.append(idx)"
   ]
  },
  {
   "cell_type": "code",
   "execution_count": 123,
   "metadata": {},
   "outputs": [
    {
     "data": {
      "text/plain": [
       "singer                                           _Weird Al_ Yankovic\n",
       "song_name                                                     Eat It\n",
       "index                                                           9863\n",
       "emotion                                                   excitement\n",
       "caption            when I'm feeling nostalgic for the 1980s and w...\n",
       "tempo                                                    Tempo_138.0\n",
       "instruments        ['Program_-1', 'Program_100', 'Program_11', 'P...\n",
       "tempo(int)                                                       138\n",
       "tempo(category)                                              Allegro\n",
       "genre                                                           Rock\n",
       "sub_genre                                                Comedy rock\n",
       "caption2           when I'm feeling nostalgic for the 1980s and w...\n",
       "Name: 9863, dtype: object"
      ]
     },
     "execution_count": 123,
     "metadata": {},
     "output_type": "execute_result"
    }
   ],
   "source": [
    "data.iloc[9863]"
   ]
  },
  {
   "cell_type": "code",
   "execution_count": 126,
   "metadata": {},
   "outputs": [
    {
     "data": {
      "text/plain": [
       "212"
      ]
     },
     "execution_count": 126,
     "metadata": {},
     "output_type": "execute_result"
    }
   ],
   "source": [
    "len(li)"
   ]
  }
 ],
 "metadata": {
  "kernelspec": {
   "display_name": "base",
   "language": "python",
   "name": "python3"
  },
  "language_info": {
   "codemirror_mode": {
    "name": "ipython",
    "version": 3
   },
   "file_extension": ".py",
   "mimetype": "text/x-python",
   "name": "python",
   "nbconvert_exporter": "python",
   "pygments_lexer": "ipython3",
   "version": "3.12.2"
  }
 },
 "nbformat": 4,
 "nbformat_minor": 2
}
