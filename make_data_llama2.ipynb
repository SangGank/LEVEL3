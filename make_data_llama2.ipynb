{
 "cells": [
  {
   "cell_type": "code",
   "execution_count": 1,
   "metadata": {},
   "outputs": [],
   "source": [
    "from transformers import AutoTokenizer, AutoModelForCausalLM, TextGenerationPipeline\n",
    "import torch"
   ]
  },
  {
   "cell_type": "markdown",
   "metadata": {},
   "source": [
    "### access token\n",
    "https://huggingface.co/docs/hub/security-tokens  << 페이지에서 참조하여 생성후 붙여 넣기"
   ]
  },
  {
   "cell_type": "code",
   "execution_count": null,
   "metadata": {},
   "outputs": [],
   "source": [
    "access_token ='자신의 accesstoken'"
   ]
  },
  {
   "cell_type": "markdown",
   "metadata": {},
   "source": [
    "## llama2 모델 "
   ]
  },
  {
   "cell_type": "code",
   "execution_count": null,
   "metadata": {},
   "outputs": [],
   "source": [
    "MODEL_NAME = \"meta-llama/Llama-2-7b-chat-hf\"\n",
    " \n",
    "tokenizer = AutoTokenizer.from_pretrained(MODEL_NAME, token=access_token)\n",
    "language_model = AutoModelForCausalLM.from_pretrained(MODEL_NAME,token=access_token)\n",
    " \n",
    "text_generation_pipeline = TextGenerationPipeline(\n",
    "    model=language_model,\n",
    "    tokenizer=tokenizer,\n",
    "    torch_dtype=torch.float16,\n",
    "    device=0,\n",
    ")\n",
    "\n",
    "def generate_text(prompt, max_length=400):\n",
    "    generated_sequences = text_generation_pipeline(\n",
    "        prompt,\n",
    "        do_sample=True,\n",
    "        top_k=10,\n",
    "        num_return_sequences=1,\n",
    "        eos_token_id=tokenizer.eos_token_id,\n",
    "        max_length=max_length,\n",
    "        truncation= True,\n",
    "    )\n",
    " \n",
    "    return generated_sequences[0][\"generated_text\"].replace(prompt, \"\")"
   ]
  },
  {
   "cell_type": "markdown",
   "metadata": {},
   "source": [
    "## text 넣기"
   ]
  },
  {
   "cell_type": "code",
   "execution_count": null,
   "metadata": {},
   "outputs": [],
   "source": [
    "base_prompt = \"<s>[INST]\\n<<SYS>>\\n{system_prompt}\\n<</SYS>>\\n\\n{user_prompt}[/INST]\"\n",
    "system_prompt = \"Respond with one of the following 13 emotions: ['Happiness', 'Sadness', 'Excitement', 'Calmness', 'Nostalgia', 'Fear', 'Anger', 'Anticipation', 'Moved', 'Love', 'Loneliness', 'Nostalgia', 'Gratitude']. The format of the answer should be 'answer: emotion'.\"\n",
    "text = f\"Write one sentence describing about the melody of the song 'Bohemian Rhapsody' by 'Queen'\"\n"
   ]
  },
  {
   "cell_type": "markdown",
   "metadata": {},
   "source": [
    "### 결과"
   ]
  },
  {
   "cell_type": "code",
   "execution_count": null,
   "metadata": {},
   "outputs": [],
   "source": [
    "recommendations = generate_text(input)\n",
    "recommendations"
   ]
  }
 ],
 "metadata": {
  "kernelspec": {
   "display_name": "Python 3",
   "language": "python",
   "name": "python3"
  },
  "language_info": {
   "codemirror_mode": {
    "name": "ipython",
    "version": 3
   },
   "file_extension": ".py",
   "mimetype": "text/x-python",
   "name": "python",
   "nbconvert_exporter": "python",
   "pygments_lexer": "ipython3",
   "version": "3.8.10"
  }
 },
 "nbformat": 4,
 "nbformat_minor": 2
}
