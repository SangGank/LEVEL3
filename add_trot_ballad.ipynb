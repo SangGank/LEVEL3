{
 "cells": [
  {
   "cell_type": "code",
   "execution_count": 1,
   "metadata": {},
   "outputs": [],
   "source": [
    "import pandas as pd"
   ]
  },
  {
   "cell_type": "code",
   "execution_count": 9,
   "metadata": {},
   "outputs": [],
   "source": [
    "data_1 =pd.read_csv('./origin_llama2_when.csv')\n",
    "data_2 =pd.read_csv('./data_llama2_trot_ballad.csv')"
   ]
  },
  {
   "cell_type": "code",
   "execution_count": 21,
   "metadata": {},
   "outputs": [
    {
     "data": {
      "text/plain": [
       "'The Trot song had a lilting, upbeat tempo that was perfect for dancing.'"
      ]
     },
     "execution_count": 21,
     "metadata": {},
     "output_type": "execute_result"
    }
   ],
   "source": [
    "data_2.iloc[0]['caption']"
   ]
  },
  {
   "cell_type": "code",
   "execution_count": 17,
   "metadata": {},
   "outputs": [
    {
     "data": {
      "text/plain": [
       "emotion\n",
       "gratitude       250\n",
       "anticipation    247\n",
       "love            236\n",
       "nostalgia       236\n",
       "excitement      228\n",
       "happiness       224\n",
       "loneliness      220\n",
       "anger           216\n",
       "calmness        209\n",
       "sadness         178\n",
       "Name: count, dtype: int64"
      ]
     },
     "execution_count": 17,
     "metadata": {},
     "output_type": "execute_result"
    }
   ],
   "source": [
    "data_2.emotion.value_counts()"
   ]
  },
  {
   "cell_type": "code",
   "execution_count": 15,
   "metadata": {},
   "outputs": [
    {
     "data": {
      "text/html": [
       "<div>\n",
       "<style scoped>\n",
       "    .dataframe tbody tr th:only-of-type {\n",
       "        vertical-align: middle;\n",
       "    }\n",
       "\n",
       "    .dataframe tbody tr th {\n",
       "        vertical-align: top;\n",
       "    }\n",
       "\n",
       "    .dataframe thead th {\n",
       "        text-align: right;\n",
       "    }\n",
       "</style>\n",
       "<table border=\"1\" class=\"dataframe\">\n",
       "  <thead>\n",
       "    <tr style=\"text-align: right;\">\n",
       "      <th></th>\n",
       "      <th>caption</th>\n",
       "      <th>tempo(category)</th>\n",
       "      <th>genre</th>\n",
       "      <th>emotion</th>\n",
       "    </tr>\n",
       "  </thead>\n",
       "  <tbody>\n",
       "    <tr>\n",
       "      <th>0</th>\n",
       "      <td>The melody is mellow and soothing, with a gent...</td>\n",
       "      <td>Allegro</td>\n",
       "      <td>Rock</td>\n",
       "      <td>nostalgia</td>\n",
       "    </tr>\n",
       "    <tr>\n",
       "      <th>1</th>\n",
       "      <td>Elegant and sweeping orchestral melody with a ...</td>\n",
       "      <td>Moderato</td>\n",
       "      <td>Pop</td>\n",
       "      <td>nostalgia</td>\n",
       "    </tr>\n",
       "    <tr>\n",
       "      <th>2</th>\n",
       "      <td>A catchy and memorable tune with a simple yet ...</td>\n",
       "      <td>Andante</td>\n",
       "      <td>Rock</td>\n",
       "      <td>nostalgia</td>\n",
       "    </tr>\n",
       "    <tr>\n",
       "      <th>3</th>\n",
       "      <td>The melody is catchy and memorable, with a ble...</td>\n",
       "      <td>Moderato</td>\n",
       "      <td>Rock</td>\n",
       "      <td>love</td>\n",
       "    </tr>\n",
       "    <tr>\n",
       "      <th>4</th>\n",
       "      <td>Upbeat and catchy with a memorable melody that...</td>\n",
       "      <td>Allegro</td>\n",
       "      <td>Pop</td>\n",
       "      <td>excitement</td>\n",
       "    </tr>\n",
       "    <tr>\n",
       "      <th>...</th>\n",
       "      <td>...</td>\n",
       "      <td>...</td>\n",
       "      <td>...</td>\n",
       "      <td>...</td>\n",
       "    </tr>\n",
       "    <tr>\n",
       "      <th>26879</th>\n",
       "      <td>cruising down the open road with my windows do...</td>\n",
       "      <td>Presto</td>\n",
       "      <td>Pop</td>\n",
       "      <td>excitement</td>\n",
       "    </tr>\n",
       "    <tr>\n",
       "      <th>26880</th>\n",
       "      <td>I'm feeling nostalgic for my childhood and wan...</td>\n",
       "      <td>Moderato</td>\n",
       "      <td>Groove</td>\n",
       "      <td>excitement</td>\n",
       "    </tr>\n",
       "    <tr>\n",
       "      <th>26881</th>\n",
       "      <td>I'm feeling silly and want to laugh out loud, ...</td>\n",
       "      <td>Presto</td>\n",
       "      <td>Pop</td>\n",
       "      <td>excitement</td>\n",
       "    </tr>\n",
       "    <tr>\n",
       "      <th>26882</th>\n",
       "      <td>I'm feeling nostalgic for the 1980s and want t...</td>\n",
       "      <td>Allegro</td>\n",
       "      <td>Rock</td>\n",
       "      <td>excitement</td>\n",
       "    </tr>\n",
       "    <tr>\n",
       "      <th>26883</th>\n",
       "      <td>driving home from work on a Friday afternoon, ...</td>\n",
       "      <td>Moderato</td>\n",
       "      <td>Pop</td>\n",
       "      <td>excitement</td>\n",
       "    </tr>\n",
       "  </tbody>\n",
       "</table>\n",
       "<p>26884 rows × 4 columns</p>\n",
       "</div>"
      ],
      "text/plain": [
       "                                                 caption tempo(category)  \\\n",
       "0      The melody is mellow and soothing, with a gent...         Allegro   \n",
       "1      Elegant and sweeping orchestral melody with a ...        Moderato   \n",
       "2      A catchy and memorable tune with a simple yet ...         Andante   \n",
       "3      The melody is catchy and memorable, with a ble...        Moderato   \n",
       "4      Upbeat and catchy with a memorable melody that...         Allegro   \n",
       "...                                                  ...             ...   \n",
       "26879  cruising down the open road with my windows do...          Presto   \n",
       "26880  I'm feeling nostalgic for my childhood and wan...        Moderato   \n",
       "26881  I'm feeling silly and want to laugh out loud, ...          Presto   \n",
       "26882  I'm feeling nostalgic for the 1980s and want t...         Allegro   \n",
       "26883  driving home from work on a Friday afternoon, ...        Moderato   \n",
       "\n",
       "        genre     emotion  \n",
       "0        Rock   nostalgia  \n",
       "1         Pop   nostalgia  \n",
       "2        Rock   nostalgia  \n",
       "3        Rock        love  \n",
       "4         Pop  excitement  \n",
       "...       ...         ...  \n",
       "26879     Pop  excitement  \n",
       "26880  Groove  excitement  \n",
       "26881     Pop  excitement  \n",
       "26882    Rock  excitement  \n",
       "26883     Pop  excitement  \n",
       "\n",
       "[26884 rows x 4 columns]"
      ]
     },
     "execution_count": 15,
     "metadata": {},
     "output_type": "execute_result"
    }
   ],
   "source": [
    "data_1"
   ]
  },
  {
   "cell_type": "code",
   "execution_count": 19,
   "metadata": {},
   "outputs": [
    {
     "data": {
      "text/html": [
       "<div>\n",
       "<style scoped>\n",
       "    .dataframe tbody tr th:only-of-type {\n",
       "        vertical-align: middle;\n",
       "    }\n",
       "\n",
       "    .dataframe tbody tr th {\n",
       "        vertical-align: top;\n",
       "    }\n",
       "\n",
       "    .dataframe thead th {\n",
       "        text-align: right;\n",
       "    }\n",
       "</style>\n",
       "<table border=\"1\" class=\"dataframe\">\n",
       "  <thead>\n",
       "    <tr style=\"text-align: right;\">\n",
       "      <th></th>\n",
       "      <th>genre</th>\n",
       "      <th>emotion</th>\n",
       "      <th>tempo(category)</th>\n",
       "      <th>caption</th>\n",
       "    </tr>\n",
       "  </thead>\n",
       "  <tbody>\n",
       "  </tbody>\n",
       "</table>\n",
       "</div>"
      ],
      "text/plain": [
       "Empty DataFrame\n",
       "Columns: [genre, emotion, tempo(category), caption]\n",
       "Index: []"
      ]
     },
     "execution_count": 19,
     "metadata": {},
     "output_type": "execute_result"
    }
   ],
   "source": [
    "data_2[data_2.duplicated('caption')]"
   ]
  },
  {
   "cell_type": "code",
   "execution_count": 11,
   "metadata": {},
   "outputs": [],
   "source": [
    "data_total = pd.concat([data_1, data_2])\n",
    "data_total.to_csv('./data_origin_when_llama2_trot_ballad.csv',index=False)"
   ]
  }
 ],
 "metadata": {
  "kernelspec": {
   "display_name": "base",
   "language": "python",
   "name": "python3"
  },
  "language_info": {
   "codemirror_mode": {
    "name": "ipython",
    "version": 3
   },
   "file_extension": ".py",
   "mimetype": "text/x-python",
   "name": "python",
   "nbconvert_exporter": "python",
   "pygments_lexer": "ipython3",
   "version": "3.12.2"
  }
 },
 "nbformat": 4,
 "nbformat_minor": 2
}
